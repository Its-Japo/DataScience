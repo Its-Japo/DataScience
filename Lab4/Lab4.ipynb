{
  "nbformat": 4,
  "nbformat_minor": 0,
  "metadata": {
    "colab": {
      "provenance": [],
      "gpuType": "T4"
    },
    "kernelspec": {
      "name": "python3",
      "display_name": "Python 3"
    },
    "language_info": {
      "name": "python"
    },
    "accelerator": "GPU"
  },
  "cells": [
    {
      "cell_type": "markdown",
      "source": [
        "# Laboratorio 4\n",
        "Joaquín Puente\n",
        "\n",
        "José Mérida"
      ],
      "metadata": {
        "id": "psfOeADpYNmj"
      }
    },
    {
      "cell_type": "markdown",
      "source": [
        "# 1. Preparación del Conjunto de Datos\n",
        "En esta sección estaremos importando los datos CIFAR-10, normalizándolos y mostrando ejemplos de sus imágenes."
      ],
      "metadata": {
        "id": "R5rkAnjiYbF2"
      }
    },
    {
      "cell_type": "markdown",
      "source": [
        "## Carga CIFAR-10\n",
        "Para cargar los datos, simplemente los importamos mediantes de Keras Datasets"
      ],
      "metadata": {
        "id": "FnFThqsAYd2Y"
      }
    },
    {
      "cell_type": "code",
      "execution_count": 1,
      "metadata": {
        "colab": {
          "base_uri": "https://localhost:8080/"
        },
        "id": "CerW3GH5YLgm",
        "outputId": "f807bb76-404c-41cc-933b-fbee05fa6b64"
      },
      "outputs": [
        {
          "output_type": "stream",
          "name": "stdout",
          "text": [
            "Downloading data from https://www.cs.toronto.edu/~kriz/cifar-10-python.tar.gz\n",
            "\u001b[1m170498071/170498071\u001b[0m \u001b[32m━━━━━━━━━━━━━━━━━━━━\u001b[0m\u001b[37m\u001b[0m \u001b[1m4s\u001b[0m 0us/step\n",
            "(50000, 32, 32, 3)\n",
            "(50000, 1)\n",
            "(10000, 32, 32, 3)\n",
            "(10000, 1)\n",
            "Etiqueta: [6]\n",
            "Forma de la imagen: (32, 32, 3)\n",
            "Valores de pixeles (parcial):\n",
            " [[59 62 63]\n",
            " [43 46 45]\n",
            " [50 48 43]\n",
            " [68 54 42]\n",
            " [98 73 52]]\n"
          ]
        }
      ],
      "source": [
        "# Importar el conjunto de datos CIFAR-10\n",
        "from tensorflow.keras.datasets import cifar10\n",
        "import tensorflow as tf\n",
        "\n",
        "(X_train, y_train), (X_test, y_test) = cifar10.load_data()\n",
        "\n",
        "# Print información\n",
        "print(X_train.shape)\n",
        "print(y_train.shape)\n",
        "print(X_test.shape)\n",
        "print(y_test.shape)\n",
        "\n",
        "\n",
        "# Ejemplo de Datos\n",
        "print(\"Etiqueta:\", y_train[0])\n",
        "print(\"Forma de la imagen:\", X_train[0].shape)\n",
        "print(f\"Valores de pixeles (parcial):\\n\", X_train[0][0][:5])"
      ]
    },
    {
      "cell_type": "markdown",
      "source": [
        "Como podemos observar en el output, el conjunto de datos consta de 60,000 datos que son imágenes de 32x32 e utilizan 3 canales RGB con valores entre 0 y 255."
      ],
      "metadata": {
        "id": "MAU3Wq8rcTQS"
      }
    },
    {
      "cell_type": "markdown",
      "source": [
        "## Normalización de Datos\n",
        "Para normalizar los datos, podemos simplemente dividir dentro de 255 al saber que el conjunto de datos contiene valores RGB entre 0 y 255."
      ],
      "metadata": {
        "id": "mFFuQEDIcfgX"
      }
    },
    {
      "cell_type": "code",
      "source": [
        "# Normalización de Datos\n",
        "X_train = X_train / 255.0\n",
        "X_test = X_test / 255.0\n",
        "\n",
        "# Ejemplo de Datos\n",
        "print(\"Etiqueta:\", y_train[0])\n",
        "print(\"Forma de la imagen:\", X_train[0].shape)\n",
        "print(f\"Valores de pixeles (parcial):\\n\", X_train[0][0][:5])"
      ],
      "metadata": {
        "colab": {
          "base_uri": "https://localhost:8080/"
        },
        "id": "DgoPzvJYbyGz",
        "outputId": "c6fc49ef-4566-419c-8bed-73a148b23665"
      },
      "execution_count": 2,
      "outputs": [
        {
          "output_type": "stream",
          "name": "stdout",
          "text": [
            "Etiqueta: [6]\n",
            "Forma de la imagen: (32, 32, 3)\n",
            "Valores de pixeles (parcial):\n",
            " [[0.23137255 0.24313725 0.24705882]\n",
            " [0.16862745 0.18039216 0.17647059]\n",
            " [0.19607843 0.18823529 0.16862745]\n",
            " [0.26666667 0.21176471 0.16470588]\n",
            " [0.38431373 0.28627451 0.20392157]]\n"
          ]
        }
      ]
    },
    {
      "cell_type": "markdown",
      "source": [
        "Al tener los datos normalizados, tenemos las dimensiones del dataset original y ahora los 3 canales RGB contienen valores de 0-1 en vez de 0-255."
      ],
      "metadata": {
        "id": "3q3kL5pAcc15"
      }
    },
    {
      "cell_type": "markdown",
      "source": [
        "## Ejemplos de Imágenes y sus Etiquetas\n",
        "Al investigar sobre el conjunto de datos, encontramos las etiquetas que se utilizan para cada una de las imágenes. Entonces podemos simplemente buscar una imagen correspondiente a cada etiqueta dentro del set de datos para mostrar ejemplos y graficarlos con Matplotlib."
      ],
      "metadata": {
        "id": "Ad96cyBCYvvk"
      }
    },
    {
      "cell_type": "code",
      "source": [
        "import matplotlib.pyplot as plt\n",
        "import numpy as np\n",
        "\n",
        "# Etiquetas de CIFAR-10\n",
        "class_names = ['airplane', 'automobile', 'bird', 'cat', 'deer',\n",
        "               'dog', 'frog', 'horse', 'ship', 'truck']\n",
        "\n",
        "# Búsqueda de una imagen por etiqueta\n",
        "found = set()\n",
        "fig, axes = plt.subplots(2, 5, figsize=(12, 5))\n",
        "\n",
        "for i in range(len(X_train)):\n",
        "    label = y_train[i][0]\n",
        "    if label not in found:\n",
        "        row = len(found) // 5\n",
        "        col = len(found) % 5\n",
        "        axes[row, col].imshow(X_train[i])\n",
        "        axes[row, col].set_title(class_names[label])\n",
        "        axes[row, col].axis('off')\n",
        "        found.add(label)\n",
        "    if len(found) == 10:\n",
        "        break\n",
        "\n",
        "plt.tight_layout()\n",
        "plt.show()"
      ],
      "metadata": {
        "colab": {
          "base_uri": "https://localhost:8080/",
          "height": 514
        },
        "id": "_m_T_kalY4DR",
        "outputId": "861e2d01-ef5e-4624-b08e-a375e4b7842e"
      },
      "execution_count": 3,
      "outputs": [
        {
          "output_type": "display_data",
          "data": {
            "text/plain": [
              "<Figure size 1200x500 with 10 Axes>"
            ],
            "image/png": "[encoded data removed]"
          },
          "metadata": {}
        }
      ]
    },
    {
      "cell_type": "markdown",
      "source": [
        "Este conjunto de datos contiene imágenes de 32x32 pixeles correspondientes a los siguientes animales y objetos:\n",
        "\n",
        "- Rana\n",
        "- Camión\n",
        "- Venado\n",
        "- Carro\n",
        "- Pájaro\n",
        "- Caballo\n",
        "- Barco\n",
        "- Gato\n",
        "- Perro\n",
        "- Avión\n",
        "\n",
        "Al ver algunos ejemplos, nos podemos dar cuenta que las imágenes tienen una variedad de colores y fondos. Por lo cual puede llegar a ser difícil clasificarlas. Además, al tener un tamaño reducido se pierden algunos de los detalles finos y algunas imágenes pueden ser difíciles de identificar como el ejemplo del venado."
      ],
      "metadata": {
        "id": "gpoObByQYtIn"
      }
    },
    {
      "cell_type": "markdown",
      "source": [
        "# 2. Modelo Base ANN\n",
        "En esta sección estaremos implementando una red neuronal totalmente conectada (ANN) de clasificación de imágenes del conjunto con la finalidad de tener un modelo de referencia."
      ],
      "metadata": {
        "id": "DliM0OlvZiCd"
      }
    },
    {
      "cell_type": "markdown",
      "source": [
        "## Creación del Modelo\n",
        "La arquitectura del modelo a implementar es la siguiente\n",
        "- Flatten de imagen 32x32x32 -> 3072\n",
        "- Primera capa densa de 128 neuronas con activación ReLU\n",
        "- Segunda capa densa de 64 neuronas con activación ReLU\n",
        "- Capa de salida softmax"
      ],
      "metadata": {
        "id": "unkm9qndeAl9"
      }
    },
    {
      "cell_type": "code",
      "source": [
        "import tensorflow as tf\n",
        "import time\n",
        "\n",
        "# Creación del Modelo\n",
        "model_ANN = tf.keras.models.Sequential([\n",
        "    tf.keras.layers.Flatten(input_shape=(32, 32, 3)),  # 32x32x3 = 3072\n",
        "    tf.keras.layers.Dense(128, activation='relu'),     # Primera capa escondida\n",
        "    tf.keras.layers.Dense(64, activation='relu'),      # Segunda capa escondida\n",
        "    tf.keras.layers.Dense(10, activation='softmax')    # Capa de salida softmax\n",
        "])"
      ],
      "metadata": {
        "colab": {
          "base_uri": "https://localhost:8080/"
        },
        "id": "HLxfkg9aZu-j",
        "outputId": "28dce4f6-28f7-4d6a-88dd-5cbf0aeab60c"
      },
      "execution_count": 4,
      "outputs": [
        {
          "output_type": "stream",
          "name": "stderr",
          "text": [
            "/usr/local/lib/python3.12/dist-packages/keras/src/layers/reshaping/flatten.py:37: UserWarning: Do not pass an `input_shape`/`input_dim` argument to a layer. When using Sequential models, prefer using an `Input(shape)` object as the first layer in the model instead.\n",
            "  super().__init__(**kwargs)\n"
          ]
        }
      ]
    },
    {
      "cell_type": "markdown",
      "source": [
        "## Compilación del Modelo\n",
        "Para compilar el modelo estaremos utilizando Adam, el optimizador \"estándar\" ya que se busca un modelo simple de baseline."
      ],
      "metadata": {
        "id": "ZWWRu8K5erHY"
      }
    },
    {
      "cell_type": "code",
      "source": [
        "model_ANN.compile(optimizer='adam',\n",
        "              loss='sparse_categorical_crossentropy',\n",
        "              metrics=['accuracy'])"
      ],
      "metadata": {
        "id": "wNnjPEvBZwm2"
      },
      "execution_count": 5,
      "outputs": []
    },
    {
      "cell_type": "markdown",
      "source": [
        "## Entrenamiento del Modelo\n",
        "Para el entrenamiento del modelo vamos a documentar el tiempo tomado, al igual que utilizar el 20% del conjunto de datos como datos de validación. Adicionalmente, vamos a crear diccionarios para poder mantener registro del desempeño de cada uno de los modelos y realizar un análisis comparativo en los incisos finales."
      ],
      "metadata": {
        "id": "7HyoUxaae8gx"
      }
    },
    {
      "cell_type": "code",
      "source": [
        "# Datos de tiempos de entrenamiento\n",
        "training_times = {}\n",
        "\n",
        "# Datos de historiales de entrenamiento\n",
        "histories = {}\n",
        "\n",
        "start_time = time.time()\n",
        "\n",
        "# Entrenamiento del modelo con 20% del conjunto como validación\n",
        "histories['ANN'] = model_ANN.fit(X_train, y_train, epochs=10, validation_split=0.2)\n",
        "\n",
        "end_time = time.time()\n",
        "training_time = end_time - start_time\n",
        "\n",
        "training_times['ANN'] = training_time\n",
        "\n",
        "print(f\"\\nTiempo de entrenamiento: {training_time:.2f} segundos\")"
      ],
      "metadata": {
        "colab": {
          "base_uri": "https://localhost:8080/"
        },
        "id": "B9d07m-TZyB4",
        "outputId": "c6fa546c-d1db-4ea8-8850-9d83c6fd4115"
      },
      "execution_count": 6,
      "outputs": [
        {
          "output_type": "stream",
          "name": "stdout",
          "text": [
            "Epoch 1/10\n",
            "\u001b[1m1250/1250\u001b[0m \u001b[32m━━━━━━━━━━━━━━━━━━━━\u001b[0m\u001b[37m\u001b[0m \u001b[1m8s\u001b[0m 4ms/step - accuracy: 0.2764 - loss: 2.0019 - val_accuracy: 0.3443 - val_loss: 1.8268\n",
            "Epoch 2/10\n",
            "\u001b[1m1250/1250\u001b[0m \u001b[32m━━━━━━━━━━━━━━━━━━━━\u001b[0m\u001b[37m\u001b[0m \u001b[1m7s\u001b[0m 3ms/step - accuracy: 0.3730 - loss: 1.7399 - val_accuracy: 0.3748 - val_loss: 1.7635\n",
            "Epoch 3/10\n",
            "\u001b[1m1250/1250\u001b[0m \u001b[32m━━━━━━━━━━━━━━━━━━━━\u001b[0m\u001b[37m\u001b[0m \u001b[1m4s\u001b[0m 3ms/step - accuracy: 0.4040 - loss: 1.6592 - val_accuracy: 0.3987 - val_loss: 1.6888\n",
            "Epoch 4/10\n",
            "\u001b[1m1250/1250\u001b[0m \u001b[32m━━━━━━━━━━━━━━━━━━━━\u001b[0m\u001b[37m\u001b[0m \u001b[1m5s\u001b[0m 3ms/step - accuracy: 0.4176 - loss: 1.6134 - val_accuracy: 0.4265 - val_loss: 1.6086\n",
            "Epoch 5/10\n",
            "\u001b[1m1250/1250\u001b[0m \u001b[32m━━━━━━━━━━━━━━━━━━━━\u001b[0m\u001b[37m\u001b[0m \u001b[1m6s\u001b[0m 3ms/step - accuracy: 0.4391 - loss: 1.5728 - val_accuracy: 0.4218 - val_loss: 1.6349\n",
            "Epoch 6/10\n",
            "\u001b[1m1250/1250\u001b[0m \u001b[32m━━━━━━━━━━━━━━━━━━━━\u001b[0m\u001b[37m\u001b[0m \u001b[1m4s\u001b[0m 3ms/step - accuracy: 0.4436 - loss: 1.5447 - val_accuracy: 0.4432 - val_loss: 1.5767\n",
            "Epoch 7/10\n",
            "\u001b[1m1250/1250\u001b[0m \u001b[32m━━━━━━━━━━━━━━━━━━━━\u001b[0m\u001b[37m\u001b[0m \u001b[1m3s\u001b[0m 3ms/step - accuracy: 0.4592 - loss: 1.5162 - val_accuracy: 0.4443 - val_loss: 1.5842\n",
            "Epoch 8/10\n",
            "\u001b[1m1250/1250\u001b[0m \u001b[32m━━━━━━━━━━━━━━━━━━━━\u001b[0m\u001b[37m\u001b[0m \u001b[1m5s\u001b[0m 3ms/step - accuracy: 0.4657 - loss: 1.5052 - val_accuracy: 0.4473 - val_loss: 1.5751\n",
            "Epoch 9/10\n",
            "\u001b[1m1250/1250\u001b[0m \u001b[32m━━━━━━━━━━━━━━━━━━━━\u001b[0m\u001b[37m\u001b[0m \u001b[1m3s\u001b[0m 3ms/step - accuracy: 0.4724 - loss: 1.4785 - val_accuracy: 0.4473 - val_loss: 1.5623\n",
            "Epoch 10/10\n",
            "\u001b[1m1250/1250\u001b[0m \u001b[32m━━━━━━━━━━━━━━━━━━━━\u001b[0m\u001b[37m\u001b[0m \u001b[1m3s\u001b[0m 3ms/step - accuracy: 0.4731 - loss: 1.4703 - val_accuracy: 0.4630 - val_loss: 1.5338\n",
            "\n",
            "Tiempo de entrenamiento: 52.36 segundos\n"
          ]
        }
      ]
    },
    {
      "cell_type": "markdown",
      "source": [
        "# 3. Implementación CNN\n",
        "En esta sección estaremos implementando CNNs, incluyendo un modelo base al igual que experimentación con diferentes hiperparámetros."
      ],
      "metadata": {
        "id": "UckpaiuGZ6Pe"
      }
    },
    {
      "cell_type": "markdown",
      "source": [
        "## Modelo Baseline\n",
        "Este modelo sigue la siguiente arquitectura, y funciona como modelo base para las CNNs:\n",
        "\n",
        "- Capa Conv2D con 32 filtros, kernel 3x3 y activación ReLU\n",
        "- Cada Conv2D con 64 filtros, kernel 3x3 y activación ReLU\n",
        "- Capa MaxPooling2D con pool size 2x2\n",
        "- Capa Flatten para transformar la imagen a vectores 1D para las capas densas\n",
        "- Capa Densa de 64 neuronas con activación ReLU\n",
        "- Capa de salida con softmax"
      ],
      "metadata": {
        "id": "celvsYouaXZt"
      }
    },
    {
      "cell_type": "code",
      "source": [
        "from tensorflow.keras.models import Sequential\n",
        "from tensorflow.keras.layers import Conv2D, MaxPooling2D, Flatten, Dense, Dropout\n",
        "from tensorflow.keras.callbacks import EarlyStopping\n",
        "import time\n",
        "\n",
        "# Construcción del Modelo\n",
        "model_CNN = Sequential([\n",
        "    Conv2D(32, (3, 3), activation='relu', input_shape=(32, 32, 3)),\n",
        "    Conv2D(64, (3, 3), activation='relu'),\n",
        "    MaxPooling2D(pool_size=(2, 2)),\n",
        "    Flatten(),\n",
        "    Dense(64, activation='relu'),\n",
        "    Dense(10, activation='softmax')\n",
        "])\n",
        "\n",
        "# Compilación del Modelo\n",
        "model_CNN.compile(optimizer='adam',\n",
        "                  loss='sparse_categorical_crossentropy',\n",
        "                  metrics=['accuracy'])\n",
        "\n",
        "# Entrenamiento del Modelo\n",
        "start_time = time.time()\n",
        "\n",
        "histories['CNN'] = model_CNN.fit(X_train, y_train,\n",
        "                            epochs=10,\n",
        "                            validation_split=0.2)\n",
        "\n",
        "end_time = time.time()\n",
        "\n",
        "training_time = end_time - start_time\n",
        "\n",
        "training_times['CNN'] = training_time\n",
        "\n",
        "print(f\"\\nTiempo de entrenamiento CNN: {training_time:.2f} segundos\")"
      ],
      "metadata": {
        "colab": {
          "base_uri": "https://localhost:8080/"
        },
        "id": "bSl3mTxZacwm",
        "outputId": "5bfd17ea-a88b-4dc5-bac7-3de401d1f991"
      },
      "execution_count": 7,
      "outputs": [
        {
          "output_type": "stream",
          "name": "stderr",
          "text": [
            "/usr/local/lib/python3.12/dist-packages/keras/src/layers/convolutional/base_conv.py:113: UserWarning: Do not pass an `input_shape`/`input_dim` argument to a layer. When using Sequential models, prefer using an `Input(shape)` object as the first layer in the model instead.\n",
            "  super().__init__(activity_regularizer=activity_regularizer, **kwargs)\n"
          ]
        },
        {
          "output_type": "stream",
          "name": "stdout",
          "text": [
            "Epoch 1/10\n",
            "\u001b[1m1250/1250\u001b[0m \u001b[32m━━━━━━━━━━━━━━━━━━━━\u001b[0m\u001b[37m\u001b[0m \u001b[1m10s\u001b[0m 6ms/step - accuracy: 0.3919 - loss: 1.6728 - val_accuracy: 0.6030 - val_loss: 1.1307\n",
            "Epoch 2/10\n",
            "\u001b[1m1250/1250\u001b[0m \u001b[32m━━━━━━━━━━━━━━━━━━━━\u001b[0m\u001b[37m\u001b[0m \u001b[1m5s\u001b[0m 4ms/step - accuracy: 0.6320 - loss: 1.0361 - val_accuracy: 0.6417 - val_loss: 1.0100\n",
            "Epoch 3/10\n",
            "\u001b[1m1250/1250\u001b[0m \u001b[32m━━━━━━━━━━━━━━━━━━━━\u001b[0m\u001b[37m\u001b[0m \u001b[1m5s\u001b[0m 4ms/step - accuracy: 0.6982 - loss: 0.8588 - val_accuracy: 0.6674 - val_loss: 0.9589\n",
            "Epoch 4/10\n",
            "\u001b[1m1250/1250\u001b[0m \u001b[32m━━━━━━━━━━━━━━━━━━━━\u001b[0m\u001b[37m\u001b[0m \u001b[1m5s\u001b[0m 4ms/step - accuracy: 0.7500 - loss: 0.7199 - val_accuracy: 0.6641 - val_loss: 0.9902\n",
            "Epoch 5/10\n",
            "\u001b[1m1250/1250\u001b[0m \u001b[32m━━━━━━━━━━━━━━━━━━━━\u001b[0m\u001b[37m\u001b[0m \u001b[1m10s\u001b[0m 4ms/step - accuracy: 0.7934 - loss: 0.6005 - val_accuracy: 0.6755 - val_loss: 0.9906\n",
            "Epoch 6/10\n",
            "\u001b[1m1250/1250\u001b[0m \u001b[32m━━━━━━━━━━━━━━━━━━━━\u001b[0m\u001b[37m\u001b[0m \u001b[1m10s\u001b[0m 4ms/step - accuracy: 0.8324 - loss: 0.4824 - val_accuracy: 0.6695 - val_loss: 1.0846\n",
            "Epoch 7/10\n",
            "\u001b[1m1250/1250\u001b[0m \u001b[32m━━━━━━━━━━━━━━━━━━━━\u001b[0m\u001b[37m\u001b[0m \u001b[1m5s\u001b[0m 4ms/step - accuracy: 0.8659 - loss: 0.3927 - val_accuracy: 0.6723 - val_loss: 1.1229\n",
            "Epoch 8/10\n",
            "\u001b[1m1250/1250\u001b[0m \u001b[32m━━━━━━━━━━━━━━━━━━━━\u001b[0m\u001b[37m\u001b[0m \u001b[1m5s\u001b[0m 4ms/step - accuracy: 0.8972 - loss: 0.3010 - val_accuracy: 0.6650 - val_loss: 1.2501\n",
            "Epoch 9/10\n",
            "\u001b[1m1250/1250\u001b[0m \u001b[32m━━━━━━━━━━━━━━━━━━━━\u001b[0m\u001b[37m\u001b[0m \u001b[1m6s\u001b[0m 5ms/step - accuracy: 0.9257 - loss: 0.2190 - val_accuracy: 0.6631 - val_loss: 1.4563\n",
            "Epoch 10/10\n",
            "\u001b[1m1250/1250\u001b[0m \u001b[32m━━━━━━━━━━━━━━━━━━━━\u001b[0m\u001b[37m\u001b[0m \u001b[1m5s\u001b[0m 4ms/step - accuracy: 0.9473 - loss: 0.1621 - val_accuracy: 0.6650 - val_loss: 1.6026\n",
            "\n",
            "Tiempo de entrenamiento CNN: 68.45 segundos\n"
          ]
        }
      ]
    },
    {
      "cell_type": "markdown",
      "source": [
        "## Modelo Dropout\n",
        "Para este modelo buscamos agregar Dropout entre diferentes capas para mejorar la capacidad de generalización del modelo y comparar su rendimiento con el modelo baseline.\n",
        "\n",
        "- Capa Conv2D con 32 filtros, kernel 3x3 y activación ReLU\n",
        "- Capa Dropout con tasa 0.25 para regularización\n",
        "- Capa Conv2D con 64 filtros, kernel 3x3 y activación ReLU\n",
        "- Capa MaxPooling2D con pool size 2x2\n",
        "- Capa Dropout con tasa 0.25 para regularización\n",
        "- Capa Flatten para transformar la imagen a vectores 1D para las capas densas\n",
        "- Capa Densa de 64 neuronas con activación ReLU\n",
        "- Capa Dropout con tasa 0.5 antes de la capa de salida para evitar sobreajuste\n",
        "- Capa de salida con softmax para clasificación en 10 clases"
      ],
      "metadata": {
        "id": "O8-4PatgkDdG"
      }
    },
    {
      "cell_type": "code",
      "source": [
        "from tensorflow.keras.models import Sequential\n",
        "from tensorflow.keras.layers import Conv2D, MaxPooling2D, Flatten, Dense, Dropout\n",
        "from tensorflow.keras.callbacks import EarlyStopping\n",
        "import time\n",
        "\n",
        "# Construcción del Modelo con Dropout\n",
        "model_CNN_Dropout = Sequential([\n",
        "    Conv2D(32, (3, 3), activation='relu', input_shape=(32, 32, 3)),\n",
        "    Dropout(0.25),                       # Dropout después de la primera conv para regularización\n",
        "    Conv2D(64, (3, 3), activation='relu'),\n",
        "    MaxPooling2D(pool_size=(2, 2)),\n",
        "    Dropout(0.25),                       # Dropout después del pooling para evitar sobreajuste\n",
        "    Flatten(),\n",
        "    Dense(64, activation='relu'),\n",
        "    Dropout(0.5),                       # Dropout fuerte antes de la capa de salida\n",
        "    Dense(10, activation='softmax')\n",
        "])\n",
        "\n",
        "# Compilación del Modelo\n",
        "model_CNN_Dropout.compile(optimizer='adam',\n",
        "                          loss='sparse_categorical_crossentropy',\n",
        "                          metrics=['accuracy'])\n",
        "\n",
        "# Entrenamiento del Modelo\n",
        "start_time = time.time()\n",
        "\n",
        "histories['CNN_Dropout'] = model_CNN_Dropout.fit(X_train, y_train,\n",
        "                                                epochs=10,\n",
        "                                                validation_split=0.2)\n",
        "\n",
        "end_time = time.time()\n",
        "training_time = end_time - start_time\n",
        "training_times['CNN_Dropout'] = training_time\n",
        "\n",
        "print(f\"\\nTiempo de entrenamiento CNN con Dropout: {training_time:.2f} segundos\")"
      ],
      "metadata": {
        "colab": {
          "base_uri": "https://localhost:8080/"
        },
        "id": "glK-Yq0tkgFU",
        "outputId": "75e089c5-3c96-4fc0-e8cd-4ad2b4541797"
      },
      "execution_count": 8,
      "outputs": [
        {
          "output_type": "stream",
          "name": "stdout",
          "text": [
            "Epoch 1/10\n",
            "\u001b[1m1250/1250\u001b[0m \u001b[32m━━━━━━━━━━━━━━━━━━━━\u001b[0m\u001b[37m\u001b[0m \u001b[1m11s\u001b[0m 5ms/step - accuracy: 0.2495 - loss: 2.0042 - val_accuracy: 0.4746 - val_loss: 1.4935\n",
            "Epoch 2/10\n",
            "\u001b[1m1250/1250\u001b[0m \u001b[32m━━━━━━━━━━━━━━━━━━━━\u001b[0m\u001b[37m\u001b[0m \u001b[1m6s\u001b[0m 4ms/step - accuracy: 0.4017 - loss: 1.5921 - val_accuracy: 0.5546 - val_loss: 1.3317\n",
            "Epoch 3/10\n",
            "\u001b[1m1250/1250\u001b[0m \u001b[32m━━━━━━━━━━━━━━━━━━━━\u001b[0m\u001b[37m\u001b[0m \u001b[1m6s\u001b[0m 5ms/step - accuracy: 0.4555 - loss: 1.4633 - val_accuracy: 0.5789 - val_loss: 1.2201\n",
            "Epoch 4/10\n",
            "\u001b[1m1250/1250\u001b[0m \u001b[32m━━━━━━━━━━━━━━━━━━━━\u001b[0m\u001b[37m\u001b[0m \u001b[1m10s\u001b[0m 4ms/step - accuracy: 0.4835 - loss: 1.3971 - val_accuracy: 0.5940 - val_loss: 1.2071\n",
            "Epoch 5/10\n",
            "\u001b[1m1250/1250\u001b[0m \u001b[32m━━━━━━━━━━━━━━━━━━━━\u001b[0m\u001b[37m\u001b[0m \u001b[1m10s\u001b[0m 4ms/step - accuracy: 0.5086 - loss: 1.3284 - val_accuracy: 0.6151 - val_loss: 1.1188\n",
            "Epoch 6/10\n",
            "\u001b[1m1250/1250\u001b[0m \u001b[32m━━━━━━━━━━━━━━━━━━━━\u001b[0m\u001b[37m\u001b[0m \u001b[1m5s\u001b[0m 4ms/step - accuracy: 0.5186 - loss: 1.2998 - val_accuracy: 0.6316 - val_loss: 1.0880\n",
            "Epoch 7/10\n",
            "\u001b[1m1250/1250\u001b[0m \u001b[32m━━━━━━━━━━━━━━━━━━━━\u001b[0m\u001b[37m\u001b[0m \u001b[1m6s\u001b[0m 4ms/step - accuracy: 0.5337 - loss: 1.2629 - val_accuracy: 0.6290 - val_loss: 1.0932\n",
            "Epoch 8/10\n",
            "\u001b[1m1250/1250\u001b[0m \u001b[32m━━━━━━━━━━━━━━━━━━━━\u001b[0m\u001b[37m\u001b[0m \u001b[1m10s\u001b[0m 5ms/step - accuracy: 0.5420 - loss: 1.2332 - val_accuracy: 0.6369 - val_loss: 1.0679\n",
            "Epoch 9/10\n",
            "\u001b[1m1250/1250\u001b[0m \u001b[32m━━━━━━━━━━━━━━━━━━━━\u001b[0m\u001b[37m\u001b[0m \u001b[1m6s\u001b[0m 5ms/step - accuracy: 0.5579 - loss: 1.1939 - val_accuracy: 0.6379 - val_loss: 1.0494\n",
            "Epoch 10/10\n",
            "\u001b[1m1250/1250\u001b[0m \u001b[32m━━━━━━━━━━━━━━━━━━━━\u001b[0m\u001b[37m\u001b[0m \u001b[1m6s\u001b[0m 5ms/step - accuracy: 0.5622 - loss: 1.1824 - val_accuracy: 0.6504 - val_loss: 1.0181\n",
            "\n",
            "Tiempo de entrenamiento CNN con Dropout: 80.70 segundos\n"
          ]
        }
      ]
    },
    {
      "cell_type": "markdown",
      "source": [
        "# 4. Evaluación y Comparación"
      ],
      "metadata": {
        "id": "Z2PRVWK4kv9h"
      }
    },
    {
      "cell_type": "markdown",
      "source": [
        "## Gráficas de Exactitud y Pérdida"
      ],
      "metadata": {
        "id": "exvaXGwHkytO"
      }
    },
    {
      "cell_type": "markdown",
      "source": [
        "## Evaluaciones en el Conjunto de Prueba"
      ],
      "metadata": {
        "id": "bxY8WWnfk1GI"
      }
    },
    {
      "cell_type": "markdown",
      "source": [
        "## Matrices de Confusión y Predicciones Erróneas"
      ],
      "metadata": {
        "id": "6yNwiTsyk6Ld"
      }
    },
    {
      "cell_type": "markdown",
      "source": [
        "# 5. Reflexión Crítica"
      ],
      "metadata": {
        "id": "XZbxBLPLk9Du"
      }
    }
  ]
}