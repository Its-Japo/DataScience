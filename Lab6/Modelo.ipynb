{
  "cells": [
    {
      "cell_type": "markdown",
      "source": [
        "# Laboratorio 6. Análisis de Sentimientos\n",
        "- José Mérida\n",
        "- Joaquín Puente"
      ],
      "metadata": {
        "id": "fF6rHcQU8Jt6"
      }
    },
    {
      "cell_type": "markdown",
      "source": [
        "## Imports / Librerías Utilizadas"
      ],
      "metadata": {
        "id": "M-XLRR4R8So7"
      }
    },
    {
      "cell_type": "code",
      "execution_count": 21,
      "metadata": {
        "id": "-5GymP2ePbBc",
        "colab": {
          "base_uri": "https://localhost:8080/"
        },
        "outputId": "02919260-9b23-4d6f-855e-60cea16a5357"
      },
      "outputs": [
        {
          "output_type": "execute_result",
          "data": {
            "text/plain": [
              "True"
            ]
          },
          "metadata": {},
          "execution_count": 21
        }
      ],
      "source": [
        "import tensorflow as tf\n",
        "import numpy as np\n",
        "\n",
        "# Model building\n",
        "from tensorflow.keras.models import Model\n",
        "from tensorflow.keras.layers import (Input, Embedding, LSTM, Dense, Dropout,\n",
        "                                   Bidirectional, concatenate, BatchNormalization)\n",
        "\n",
        "# Training components\n",
        "from tensorflow.keras.optimizers import Adam\n",
        "from tensorflow.keras.regularizers import l2\n",
        "from tensorflow.keras.callbacks import EarlyStopping, ReduceLROnPlateau\n",
        "\n",
        "# Data and preprocessing\n",
        "from tensorflow.keras.datasets import imdb\n",
        "from tensorflow.keras.preprocessing import sequence\n",
        "\n",
        "# Sentiment analysis for feature extraction\n",
        "from nltk.sentiment.vader import SentimentIntensityAnalyzer\n",
        "import nltk\n",
        "nltk.download(\"vader_lexicon\", quiet=True)  # Set to True to reduce output"
      ]
    },
    {
      "cell_type": "markdown",
      "source": [
        "## 1. Importación de Datos\n",
        "Importamos los datos de IMDB, utilizando las 50,000 palabras más frecuentes."
      ],
      "metadata": {
        "id": "7vaG9IR_fWtG"
      }
    },
    {
      "cell_type": "code",
      "execution_count": 22,
      "metadata": {
        "colab": {
          "base_uri": "https://localhost:8080/"
        },
        "id": "ThMIo9DYPbBd",
        "outputId": "aa3ca234-e34f-4324-c04e-34d6fd856113"
      },
      "outputs": [
        {
          "output_type": "stream",
          "name": "stdout",
          "text": [
            "Cargando los datos...\n",
            "Datos Cargados\n",
            "Length x_train: 25000, Length y_train: 25000\n"
          ]
        }
      ],
      "source": [
        "print('Cargando los datos...')\n",
        "(x_train, y_train), (x_test, y_test) = imdb.load_data(num_words=50000)\n",
        "print('Datos Cargados')\n",
        "print(f\"Length x_train: {len(x_train)}, Length y_train: {len(y_train)}\")"
      ]
    },
    {
      "cell_type": "markdown",
      "source": [
        "Verificamos correctamente que el conjunto tiene 25,000 datos de entrenamiento y 25,000 datos de prueba. Los datos han sido cargados exitosamente."
      ],
      "metadata": {
        "id": "HsS6bWdW8y2_"
      }
    },
    {
      "cell_type": "markdown",
      "source": [
        "#2. Pre Procesamiento\n",
        "Para esta sección, implementamos 3 features adicionales al set de datos. Utilizando SentimentIntensityAnalyzer de nltk, analizamos palabra por palabra del review para obtener un ratio de palabras positivas y negativas dentro del texto. Adicionalmente, agregamos como atributo la longitud original del mensaje."
      ],
      "metadata": {
        "id": "13KiNUR-oRgt"
      }
    },
    {
      "cell_type": "code",
      "source": [
        "\n",
        "# Inicializar analizador de sentimiento\n",
        "analyzer = SentimentIntensityAnalyzer()\n",
        "\n",
        "# Mapeo de índices y palabras\n",
        "word_index = imdb.get_word_index()\n",
        "index_word = {v+3: k for k, v in word_index.items()}\n",
        "index_word[0] = \"<PAD>\"\n",
        "index_word[1] = \"<START>\"\n",
        "index_word[2] = \"<UNK>\"\n",
        "index_word[3] = \"<UNUSED>\"\n",
        "\n",
        "# Función para calcular sentimiento detrás de una palabra\n",
        "def word_sentiment(word):\n",
        "    score = analyzer.polarity_scores(word)[\"compound\"]\n",
        "    if score > 0.05:\n",
        "        return 1   # Positivo\n",
        "    elif score < -0.05:\n",
        "        return -1  # Negativo\n",
        "    return 0      # Neutran\n",
        "\n",
        "# Función para extraer features\n",
        "def extract_features(encoded_review):\n",
        "    words = [index_word.get(i, \"<UNK>\") for i in encoded_review]\n",
        "    sentiments = [word_sentiment(w) for w in words if w not in (\"<PAD>\", \"<START>\", \"<UNK>\", \"<UNUSED>\")]\n",
        "\n",
        "    if len(sentiments) == 0:\n",
        "        return 0.0, 0.0, 0.0\n",
        "\n",
        "    pos_count = sum(1 for s in sentiments if s > 0)\n",
        "    neg_count = sum(1 for s in sentiments if s < 0)\n",
        "    total_count = len(sentiments)\n",
        "\n",
        "    pos_ratio = pos_count / total_count\n",
        "    neg_ratio = neg_count / total_count\n",
        "    neutral_ratio = 1.0 - pos_ratio - neg_ratio\n",
        "\n",
        "    return pos_ratio, neg_ratio, neutral_ratio\n",
        "\n",
        "# Extraer para conjunto de entrenamiento\n",
        "train_features = np.array([extract_features(review) for i, review in enumerate(x_train)])\n",
        "\n",
        "# Extraer para conjunto de prueba\n",
        "test_features  = np.array([extract_features(review) for i, review in enumerate(x_test)])\n",
        "\n",
        "print(\"Extracción de Features Terminada\")\n",
        "print(train_features[:5])\n"
      ],
      "metadata": {
        "id": "3q6B0Wr5i5yV",
        "colab": {
          "base_uri": "https://localhost:8080/"
        },
        "outputId": "c0efe21c-ce0f-4988-8831-ea5d38d7de17"
      },
      "execution_count": 23,
      "outputs": [
        {
          "output_type": "stream",
          "name": "stdout",
          "text": [
            "Extracción de Features Terminada\n",
            "[[0.0921659  0.01382488 0.89400922]\n",
            " [0.06382979 0.07446809 0.86170213]\n",
            " [0.04316547 0.05035971 0.90647482]\n",
            " [0.04770642 0.02201835 0.93027523]\n",
            " [0.02739726 0.11643836 0.85616438]]\n"
          ]
        }
      ]
    },
    {
      "cell_type": "markdown",
      "source": [
        "Ahora, podemos utilizar padding para que las críticas tengan una longitud uniforme."
      ],
      "metadata": {
        "id": "VbLVYKx29vih"
      }
    },
    {
      "cell_type": "code",
      "execution_count": 24,
      "metadata": {
        "id": "td7nNbGcPbBf"
      },
      "outputs": [],
      "source": [
        "X_train = sequence.pad_sequences(x_train, maxlen = 80, dtype='float32')\n",
        "X_test = sequence.pad_sequences(x_test, maxlen = 80, dtype='float32')"
      ]
    },
    {
      "cell_type": "markdown",
      "metadata": {
        "id": "FUFGeOFOPbBf"
      },
      "source": [
        "## 3. Configuración del Modelo\n",
        "\n",
        "Ahora, para crear el modelo este debe ser configurado para tomar como entrada las secuencias al igual que los features adicionales. La justificación del modelo se encuentra en un PDF en este directorio"
      ]
    },
    {
      "cell_type": "code",
      "source": [
        "# Cambio de tipo de datos, por alguna razón tuvimos problemas con esto\n",
        "train_features = train_features.astype('float32')\n",
        "test_features = test_features.astype('float32')\n",
        "y_train = y_train.astype('float32')\n",
        "y_test = y_test.astype('float32')\n",
        "\n",
        "# Definición de inputs\n",
        "sequence_input = Input(shape=(None,), name='sequence')\n",
        "features_input = Input(shape=(3,), name='sentiment_features')\n",
        "\n",
        "# Procesamiento de secuencias - embedding simple\n",
        "embedded = Embedding(50000, 128)(sequence_input)\n",
        "embedded = Dropout(0.4)(embedded)  # Dropout\n",
        "\n",
        "# LSTM bidireccional - captura contexto en ambas direcciones\n",
        "lstm_out = Bidirectional(LSTM(\n",
        "    64,\n",
        "    dropout=0.4,\n",
        "    recurrent_dropout=0.4\n",
        "))(embedded)\n",
        "\n",
        "# Procesamiento de features - aprende combinaciones de features adicionales\n",
        "feature_processed = Dense(8, activation='relu')(features_input)\n",
        "feature_processed = Dropout(0.4)(feature_processed)  # Dropout\n",
        "\n",
        "# Fusión - combina entendimiento de secuencia con features estadísticos\n",
        "combined = concatenate([lstm_out, feature_processed])\n",
        "\n",
        "# Clasificación - una sola capa densa es suficiente para binario\n",
        "dense = Dense(32, activation='relu')(combined)\n",
        "dense = Dropout(0.4)(dense)  # Dropout\n",
        "\n",
        "# Output\n",
        "output = Dense(1, activation='sigmoid')(dense)\n",
        "\n",
        "# Crear modelo\n",
        "modelo = Model(inputs=[sequence_input, features_input], outputs=output)\n",
        "\n",
        "# Compilar modelo, learning rate = 0.0003\n",
        "optimizer = Adam(learning_rate=0.0003)\n",
        "modelo.compile(optimizer=optimizer, loss='binary_crossentropy', metrics=['accuracy'])\n",
        "modelo.summary()"
      ],
      "metadata": {
        "id": "PIEX_HIGBk2-",
        "colab": {
          "base_uri": "https://localhost:8080/",
          "height": 609
        },
        "outputId": "cec67a82-5803-4c4f-fd3a-b2f7fbe8f1e3"
      },
      "execution_count": 29,
      "outputs": [
        {
          "output_type": "display_data",
          "data": {
            "text/plain": [
              "\u001b[1mModel: \"functional_4\"\u001b[0m\n"
            ],
            "text/html": [
              "<pre style=\"white-space:pre;overflow-x:auto;line-height:normal;font-family:Menlo,'DejaVu Sans Mono',consolas,'Courier New',monospace\"><span style=\"font-weight: bold\">Model: \"functional_4\"</span>\n",
              "</pre>\n"
            ]
          },
          "metadata": {}
        },
        {
          "output_type": "display_data",
          "data": {
            "text/plain": [
              "┏━━━━━━━━━━━━━━━━━━━━━┳━━━━━━━━━━━━━━━━━━━┳━━━━━━━━━━━━┳━━━━━━━━━━━━━━━━━━━┓\n",
              "┃\u001b[1m \u001b[0m\u001b[1mLayer (type)       \u001b[0m\u001b[1m \u001b[0m┃\u001b[1m \u001b[0m\u001b[1mOutput Shape     \u001b[0m\u001b[1m \u001b[0m┃\u001b[1m \u001b[0m\u001b[1m   Param #\u001b[0m\u001b[1m \u001b[0m┃\u001b[1m \u001b[0m\u001b[1mConnected to     \u001b[0m\u001b[1m \u001b[0m┃\n",
              "┡━━━━━━━━━━━━━━━━━━━━━╇━━━━━━━━━━━━━━━━━━━╇━━━━━━━━━━━━╇━━━━━━━━━━━━━━━━━━━┩\n",
              "│ sequence            │ (\u001b[38;5;45mNone\u001b[0m, \u001b[38;5;45mNone\u001b[0m)      │          \u001b[38;5;34m0\u001b[0m │ -                 │\n",
              "│ (\u001b[38;5;33mInputLayer\u001b[0m)        │                   │            │                   │\n",
              "├─────────────────────┼───────────────────┼────────────┼───────────────────┤\n",
              "│ embedding_4         │ (\u001b[38;5;45mNone\u001b[0m, \u001b[38;5;45mNone\u001b[0m, \u001b[38;5;34m128\u001b[0m) │  \u001b[38;5;34m6,400,000\u001b[0m │ sequence[\u001b[38;5;34m0\u001b[0m][\u001b[38;5;34m0\u001b[0m]    │\n",
              "│ (\u001b[38;5;33mEmbedding\u001b[0m)         │                   │            │                   │\n",
              "├─────────────────────┼───────────────────┼────────────┼───────────────────┤\n",
              "│ sentiment_features  │ (\u001b[38;5;45mNone\u001b[0m, \u001b[38;5;34m3\u001b[0m)         │          \u001b[38;5;34m0\u001b[0m │ -                 │\n",
              "│ (\u001b[38;5;33mInputLayer\u001b[0m)        │                   │            │                   │\n",
              "├─────────────────────┼───────────────────┼────────────┼───────────────────┤\n",
              "│ dropout_11          │ (\u001b[38;5;45mNone\u001b[0m, \u001b[38;5;45mNone\u001b[0m, \u001b[38;5;34m128\u001b[0m) │          \u001b[38;5;34m0\u001b[0m │ embedding_4[\u001b[38;5;34m0\u001b[0m][\u001b[38;5;34m0\u001b[0m] │\n",
              "│ (\u001b[38;5;33mDropout\u001b[0m)           │                   │            │                   │\n",
              "├─────────────────────┼───────────────────┼────────────┼───────────────────┤\n",
              "│ dense_12 (\u001b[38;5;33mDense\u001b[0m)    │ (\u001b[38;5;45mNone\u001b[0m, \u001b[38;5;34m8\u001b[0m)         │         \u001b[38;5;34m32\u001b[0m │ sentiment_featur… │\n",
              "├─────────────────────┼───────────────────┼────────────┼───────────────────┤\n",
              "│ bidirectional_4     │ (\u001b[38;5;45mNone\u001b[0m, \u001b[38;5;34m128\u001b[0m)       │     \u001b[38;5;34m98,816\u001b[0m │ dropout_11[\u001b[38;5;34m0\u001b[0m][\u001b[38;5;34m0\u001b[0m]  │\n",
              "│ (\u001b[38;5;33mBidirectional\u001b[0m)     │                   │            │                   │\n",
              "├─────────────────────┼───────────────────┼────────────┼───────────────────┤\n",
              "│ dropout_12          │ (\u001b[38;5;45mNone\u001b[0m, \u001b[38;5;34m8\u001b[0m)         │          \u001b[38;5;34m0\u001b[0m │ dense_12[\u001b[38;5;34m0\u001b[0m][\u001b[38;5;34m0\u001b[0m]    │\n",
              "│ (\u001b[38;5;33mDropout\u001b[0m)           │                   │            │                   │\n",
              "├─────────────────────┼───────────────────┼────────────┼───────────────────┤\n",
              "│ concatenate_4       │ (\u001b[38;5;45mNone\u001b[0m, \u001b[38;5;34m136\u001b[0m)       │          \u001b[38;5;34m0\u001b[0m │ bidirectional_4[\u001b[38;5;34m…\u001b[0m │\n",
              "│ (\u001b[38;5;33mConcatenate\u001b[0m)       │                   │            │ dropout_12[\u001b[38;5;34m0\u001b[0m][\u001b[38;5;34m0\u001b[0m]  │\n",
              "├─────────────────────┼───────────────────┼────────────┼───────────────────┤\n",
              "│ dense_13 (\u001b[38;5;33mDense\u001b[0m)    │ (\u001b[38;5;45mNone\u001b[0m, \u001b[38;5;34m32\u001b[0m)        │      \u001b[38;5;34m4,384\u001b[0m │ concatenate_4[\u001b[38;5;34m0\u001b[0m]… │\n",
              "├─────────────────────┼───────────────────┼────────────┼───────────────────┤\n",
              "│ dropout_13          │ (\u001b[38;5;45mNone\u001b[0m, \u001b[38;5;34m32\u001b[0m)        │          \u001b[38;5;34m0\u001b[0m │ dense_13[\u001b[38;5;34m0\u001b[0m][\u001b[38;5;34m0\u001b[0m]    │\n",
              "│ (\u001b[38;5;33mDropout\u001b[0m)           │                   │            │                   │\n",
              "├─────────────────────┼───────────────────┼────────────┼───────────────────┤\n",
              "│ dense_14 (\u001b[38;5;33mDense\u001b[0m)    │ (\u001b[38;5;45mNone\u001b[0m, \u001b[38;5;34m1\u001b[0m)         │         \u001b[38;5;34m33\u001b[0m │ dropout_13[\u001b[38;5;34m0\u001b[0m][\u001b[38;5;34m0\u001b[0m]  │\n",
              "└─────────────────────┴───────────────────┴────────────┴───────────────────┘\n"
            ],
            "text/html": [
              "<pre style=\"white-space:pre;overflow-x:auto;line-height:normal;font-family:Menlo,'DejaVu Sans Mono',consolas,'Courier New',monospace\">┏━━━━━━━━━━━━━━━━━━━━━┳━━━━━━━━━━━━━━━━━━━┳━━━━━━━━━━━━┳━━━━━━━━━━━━━━━━━━━┓\n",
              "┃<span style=\"font-weight: bold\"> Layer (type)        </span>┃<span style=\"font-weight: bold\"> Output Shape      </span>┃<span style=\"font-weight: bold\">    Param # </span>┃<span style=\"font-weight: bold\"> Connected to      </span>┃\n",
              "┡━━━━━━━━━━━━━━━━━━━━━╇━━━━━━━━━━━━━━━━━━━╇━━━━━━━━━━━━╇━━━━━━━━━━━━━━━━━━━┩\n",
              "│ sequence            │ (<span style=\"color: #00d7ff; text-decoration-color: #00d7ff\">None</span>, <span style=\"color: #00d7ff; text-decoration-color: #00d7ff\">None</span>)      │          <span style=\"color: #00af00; text-decoration-color: #00af00\">0</span> │ -                 │\n",
              "│ (<span style=\"color: #0087ff; text-decoration-color: #0087ff\">InputLayer</span>)        │                   │            │                   │\n",
              "├─────────────────────┼───────────────────┼────────────┼───────────────────┤\n",
              "│ embedding_4         │ (<span style=\"color: #00d7ff; text-decoration-color: #00d7ff\">None</span>, <span style=\"color: #00d7ff; text-decoration-color: #00d7ff\">None</span>, <span style=\"color: #00af00; text-decoration-color: #00af00\">128</span>) │  <span style=\"color: #00af00; text-decoration-color: #00af00\">6,400,000</span> │ sequence[<span style=\"color: #00af00; text-decoration-color: #00af00\">0</span>][<span style=\"color: #00af00; text-decoration-color: #00af00\">0</span>]    │\n",
              "│ (<span style=\"color: #0087ff; text-decoration-color: #0087ff\">Embedding</span>)         │                   │            │                   │\n",
              "├─────────────────────┼───────────────────┼────────────┼───────────────────┤\n",
              "│ sentiment_features  │ (<span style=\"color: #00d7ff; text-decoration-color: #00d7ff\">None</span>, <span style=\"color: #00af00; text-decoration-color: #00af00\">3</span>)         │          <span style=\"color: #00af00; text-decoration-color: #00af00\">0</span> │ -                 │\n",
              "│ (<span style=\"color: #0087ff; text-decoration-color: #0087ff\">InputLayer</span>)        │                   │            │                   │\n",
              "├─────────────────────┼───────────────────┼────────────┼───────────────────┤\n",
              "│ dropout_11          │ (<span style=\"color: #00d7ff; text-decoration-color: #00d7ff\">None</span>, <span style=\"color: #00d7ff; text-decoration-color: #00d7ff\">None</span>, <span style=\"color: #00af00; text-decoration-color: #00af00\">128</span>) │          <span style=\"color: #00af00; text-decoration-color: #00af00\">0</span> │ embedding_4[<span style=\"color: #00af00; text-decoration-color: #00af00\">0</span>][<span style=\"color: #00af00; text-decoration-color: #00af00\">0</span>] │\n",
              "│ (<span style=\"color: #0087ff; text-decoration-color: #0087ff\">Dropout</span>)           │                   │            │                   │\n",
              "├─────────────────────┼───────────────────┼────────────┼───────────────────┤\n",
              "│ dense_12 (<span style=\"color: #0087ff; text-decoration-color: #0087ff\">Dense</span>)    │ (<span style=\"color: #00d7ff; text-decoration-color: #00d7ff\">None</span>, <span style=\"color: #00af00; text-decoration-color: #00af00\">8</span>)         │         <span style=\"color: #00af00; text-decoration-color: #00af00\">32</span> │ sentiment_featur… │\n",
              "├─────────────────────┼───────────────────┼────────────┼───────────────────┤\n",
              "│ bidirectional_4     │ (<span style=\"color: #00d7ff; text-decoration-color: #00d7ff\">None</span>, <span style=\"color: #00af00; text-decoration-color: #00af00\">128</span>)       │     <span style=\"color: #00af00; text-decoration-color: #00af00\">98,816</span> │ dropout_11[<span style=\"color: #00af00; text-decoration-color: #00af00\">0</span>][<span style=\"color: #00af00; text-decoration-color: #00af00\">0</span>]  │\n",
              "│ (<span style=\"color: #0087ff; text-decoration-color: #0087ff\">Bidirectional</span>)     │                   │            │                   │\n",
              "├─────────────────────┼───────────────────┼────────────┼───────────────────┤\n",
              "│ dropout_12          │ (<span style=\"color: #00d7ff; text-decoration-color: #00d7ff\">None</span>, <span style=\"color: #00af00; text-decoration-color: #00af00\">8</span>)         │          <span style=\"color: #00af00; text-decoration-color: #00af00\">0</span> │ dense_12[<span style=\"color: #00af00; text-decoration-color: #00af00\">0</span>][<span style=\"color: #00af00; text-decoration-color: #00af00\">0</span>]    │\n",
              "│ (<span style=\"color: #0087ff; text-decoration-color: #0087ff\">Dropout</span>)           │                   │            │                   │\n",
              "├─────────────────────┼───────────────────┼────────────┼───────────────────┤\n",
              "│ concatenate_4       │ (<span style=\"color: #00d7ff; text-decoration-color: #00d7ff\">None</span>, <span style=\"color: #00af00; text-decoration-color: #00af00\">136</span>)       │          <span style=\"color: #00af00; text-decoration-color: #00af00\">0</span> │ bidirectional_4[<span style=\"color: #00af00; text-decoration-color: #00af00\">…</span> │\n",
              "│ (<span style=\"color: #0087ff; text-decoration-color: #0087ff\">Concatenate</span>)       │                   │            │ dropout_12[<span style=\"color: #00af00; text-decoration-color: #00af00\">0</span>][<span style=\"color: #00af00; text-decoration-color: #00af00\">0</span>]  │\n",
              "├─────────────────────┼───────────────────┼────────────┼───────────────────┤\n",
              "│ dense_13 (<span style=\"color: #0087ff; text-decoration-color: #0087ff\">Dense</span>)    │ (<span style=\"color: #00d7ff; text-decoration-color: #00d7ff\">None</span>, <span style=\"color: #00af00; text-decoration-color: #00af00\">32</span>)        │      <span style=\"color: #00af00; text-decoration-color: #00af00\">4,384</span> │ concatenate_4[<span style=\"color: #00af00; text-decoration-color: #00af00\">0</span>]… │\n",
              "├─────────────────────┼───────────────────┼────────────┼───────────────────┤\n",
              "│ dropout_13          │ (<span style=\"color: #00d7ff; text-decoration-color: #00d7ff\">None</span>, <span style=\"color: #00af00; text-decoration-color: #00af00\">32</span>)        │          <span style=\"color: #00af00; text-decoration-color: #00af00\">0</span> │ dense_13[<span style=\"color: #00af00; text-decoration-color: #00af00\">0</span>][<span style=\"color: #00af00; text-decoration-color: #00af00\">0</span>]    │\n",
              "│ (<span style=\"color: #0087ff; text-decoration-color: #0087ff\">Dropout</span>)           │                   │            │                   │\n",
              "├─────────────────────┼───────────────────┼────────────┼───────────────────┤\n",
              "│ dense_14 (<span style=\"color: #0087ff; text-decoration-color: #0087ff\">Dense</span>)    │ (<span style=\"color: #00d7ff; text-decoration-color: #00d7ff\">None</span>, <span style=\"color: #00af00; text-decoration-color: #00af00\">1</span>)         │         <span style=\"color: #00af00; text-decoration-color: #00af00\">33</span> │ dropout_13[<span style=\"color: #00af00; text-decoration-color: #00af00\">0</span>][<span style=\"color: #00af00; text-decoration-color: #00af00\">0</span>]  │\n",
              "└─────────────────────┴───────────────────┴────────────┴───────────────────┘\n",
              "</pre>\n"
            ]
          },
          "metadata": {}
        },
        {
          "output_type": "display_data",
          "data": {
            "text/plain": [
              "\u001b[1m Total params: \u001b[0m\u001b[38;5;34m6,503,265\u001b[0m (24.81 MB)\n"
            ],
            "text/html": [
              "<pre style=\"white-space:pre;overflow-x:auto;line-height:normal;font-family:Menlo,'DejaVu Sans Mono',consolas,'Courier New',monospace\"><span style=\"font-weight: bold\"> Total params: </span><span style=\"color: #00af00; text-decoration-color: #00af00\">6,503,265</span> (24.81 MB)\n",
              "</pre>\n"
            ]
          },
          "metadata": {}
        },
        {
          "output_type": "display_data",
          "data": {
            "text/plain": [
              "\u001b[1m Trainable params: \u001b[0m\u001b[38;5;34m6,503,265\u001b[0m (24.81 MB)\n"
            ],
            "text/html": [
              "<pre style=\"white-space:pre;overflow-x:auto;line-height:normal;font-family:Menlo,'DejaVu Sans Mono',consolas,'Courier New',monospace\"><span style=\"font-weight: bold\"> Trainable params: </span><span style=\"color: #00af00; text-decoration-color: #00af00\">6,503,265</span> (24.81 MB)\n",
              "</pre>\n"
            ]
          },
          "metadata": {}
        },
        {
          "output_type": "display_data",
          "data": {
            "text/plain": [
              "\u001b[1m Non-trainable params: \u001b[0m\u001b[38;5;34m0\u001b[0m (0.00 B)\n"
            ],
            "text/html": [
              "<pre style=\"white-space:pre;overflow-x:auto;line-height:normal;font-family:Menlo,'DejaVu Sans Mono',consolas,'Courier New',monospace\"><span style=\"font-weight: bold\"> Non-trainable params: </span><span style=\"color: #00af00; text-decoration-color: #00af00\">0</span> (0.00 B)\n",
              "</pre>\n"
            ]
          },
          "metadata": {}
        }
      ]
    },
    {
      "cell_type": "markdown",
      "source": [
        "## 4. Entrenamiento y Prueba\n",
        "Para el entrenamiento del modelo, utilizamos algunos callbacks incluyendo EarlyStopping y ReduceLROnPlateau para ayudar al modelo a converger de manera correcta."
      ],
      "metadata": {
        "id": "w7BHV5_UEmaj"
      }
    },
    {
      "cell_type": "code",
      "source": [
        "from tensorflow.keras.preprocessing.sequence import pad_sequences\n",
        "\n",
        "# Problemas de tipado\n",
        "x_train = pad_sequences(x_train, maxlen=80, dtype='int32')\n",
        "x_test = pad_sequences(x_test, maxlen=80, dtype='int32')\n",
        "train_features = np.array(train_features, dtype='float32')\n",
        "test_features = np.array(test_features, dtype='float32')\n",
        "y_train = np.array(y_train, dtype='float32')\n",
        "y_test = np.array(y_test, dtype='float32')\n",
        "\n",
        "\n",
        "# Callbacks\n",
        "callbacks = [\n",
        "    EarlyStopping(\n",
        "        monitor='val_accuracy',\n",
        "        patience=2,\n",
        "        restore_best_weights=True,\n",
        "        verbose=1\n",
        "    ),\n",
        "    ReduceLROnPlateau(\n",
        "        monitor='val_loss',\n",
        "        factor=0.75,\n",
        "        patience=1,\n",
        "        min_lr=1e-6,\n",
        "        verbose=1\n",
        "    )\n",
        "]\n",
        "\n",
        "# Entrenamiento\n",
        "historia = modelo.fit(\n",
        "    [x_train, train_features],\n",
        "    y_train,\n",
        "    validation_data=([x_test, test_features], y_test),\n",
        "    epochs=8,\n",
        "    batch_size=128,\n",
        "    callbacks=callbacks,\n",
        "    verbose=1\n",
        ")\n"
      ],
      "metadata": {
        "id": "MEJoTSosEpMQ",
        "colab": {
          "base_uri": "https://localhost:8080/"
        },
        "outputId": "51513392-f74b-4d5c-e3d8-e9e04125f305"
      },
      "execution_count": 30,
      "outputs": [
        {
          "output_type": "stream",
          "name": "stdout",
          "text": [
            "Epoch 1/8\n",
            "\u001b[1m196/196\u001b[0m \u001b[32m━━━━━━━━━━━━━━━━━━━━\u001b[0m\u001b[37m\u001b[0m \u001b[1m116s\u001b[0m 562ms/step - accuracy: 0.5357 - loss: 0.6870 - val_accuracy: 0.7869 - val_loss: 0.5545 - learning_rate: 3.0000e-04\n",
            "Epoch 2/8\n",
            "\u001b[1m196/196\u001b[0m \u001b[32m━━━━━━━━━━━━━━━━━━━━\u001b[0m\u001b[37m\u001b[0m \u001b[1m109s\u001b[0m 558ms/step - accuracy: 0.7843 - loss: 0.4962 - val_accuracy: 0.8330 - val_loss: 0.3896 - learning_rate: 3.0000e-04\n",
            "Epoch 3/8\n",
            "\u001b[1m196/196\u001b[0m \u001b[32m━━━━━━━━━━━━━━━━━━━━\u001b[0m\u001b[37m\u001b[0m \u001b[1m109s\u001b[0m 556ms/step - accuracy: 0.8597 - loss: 0.3544 - val_accuracy: 0.8405 - val_loss: 0.3608 - learning_rate: 3.0000e-04\n",
            "Epoch 4/8\n",
            "\u001b[1m196/196\u001b[0m \u001b[32m━━━━━━━━━━━━━━━━━━━━\u001b[0m\u001b[37m\u001b[0m \u001b[1m146s\u001b[0m 575ms/step - accuracy: 0.8964 - loss: 0.2804 - val_accuracy: 0.8406 - val_loss: 0.3582 - learning_rate: 3.0000e-04\n",
            "Epoch 5/8\n",
            "\u001b[1m196/196\u001b[0m \u001b[32m━━━━━━━━━━━━━━━━━━━━\u001b[0m\u001b[37m\u001b[0m \u001b[1m0s\u001b[0m 469ms/step - accuracy: 0.9154 - loss: 0.2384\n",
            "Epoch 5: ReduceLROnPlateau reducing learning rate to 0.00022500001068692654.\n",
            "\u001b[1m196/196\u001b[0m \u001b[32m━━━━━━━━━━━━━━━━━━━━\u001b[0m\u001b[37m\u001b[0m \u001b[1m138s\u001b[0m 557ms/step - accuracy: 0.9154 - loss: 0.2384 - val_accuracy: 0.8344 - val_loss: 0.3716 - learning_rate: 3.0000e-04\n",
            "Epoch 6/8\n",
            "\u001b[1m196/196\u001b[0m \u001b[32m━━━━━━━━━━━━━━━━━━━━\u001b[0m\u001b[37m\u001b[0m \u001b[1m0s\u001b[0m 464ms/step - accuracy: 0.9312 - loss: 0.2002\n",
            "Epoch 6: ReduceLROnPlateau reducing learning rate to 0.0001687500080151949.\n",
            "\u001b[1m196/196\u001b[0m \u001b[32m━━━━━━━━━━━━━━━━━━━━\u001b[0m\u001b[37m\u001b[0m \u001b[1m144s\u001b[0m 569ms/step - accuracy: 0.9312 - loss: 0.2002 - val_accuracy: 0.8379 - val_loss: 0.3773 - learning_rate: 2.2500e-04\n",
            "Epoch 6: early stopping\n",
            "Restoring model weights from the end of the best epoch: 4.\n"
          ]
        }
      ]
    },
    {
      "cell_type": "markdown",
      "source": [
        "## Evaluación"
      ],
      "metadata": {
        "id": "y_gkhY4yU4L9"
      }
    },
    {
      "cell_type": "code",
      "execution_count": 31,
      "metadata": {
        "id": "OLehygHpPbBi",
        "colab": {
          "base_uri": "https://localhost:8080/"
        },
        "outputId": "a21e25e6-9a3f-4c61-8c61-7d59d777aa02"
      },
      "outputs": [
        {
          "output_type": "stream",
          "name": "stdout",
          "text": [
            "391/391 - 33s - 85ms/step - accuracy: 0.8406 - loss: 0.3582\n",
            "Pérdida de la Prueba: 0.35815152525901794\n",
            "Exactitud de la Prueba (Test accuracy): 0.8406400084495544\n"
          ]
        }
      ],
      "source": [
        "perdida, exactitud = modelo.evaluate([x_test, test_features], y_test,\n",
        "                            batch_size = 64,\n",
        "                            verbose = 2)\n",
        "print('Pérdida de la Prueba:', perdida)\n",
        "print('Exactitud de la Prueba (Test accuracy):', exactitud)"
      ]
    }
  ],
  "metadata": {
    "colab": {
      "provenance": [],
      "gpuType": "T4"
    },
    "kernelspec": {
      "display_name": "Python (tf-metal)",
      "language": "python",
      "name": "tf-metal"
    },
    "language_info": {
      "codemirror_mode": {
        "name": "ipython",
        "version": 3
      },
      "file_extension": ".py",
      "mimetype": "text/x-python",
      "name": "python",
      "nbconvert_exporter": "python",
      "pygments_lexer": "ipython3",
      "version": "3.11.13"
    },
    "accelerator": "GPU"
  },
  "nbformat": 4,
  "nbformat_minor": 0
}