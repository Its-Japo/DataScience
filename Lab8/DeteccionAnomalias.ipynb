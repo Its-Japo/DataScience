{
  "nbformat": 4,
  "nbformat_minor": 0,
  "metadata": {
    "colab": {
      "provenance": [],
      "gpuType": "T4"
    },
    "kernelspec": {
      "name": "python3",
      "display_name": "Python 3"
    },
    "language_info": {
      "name": "python"
    },
    "accelerator": "GPU"
  },
  "cells": [
    {
      "cell_type": "markdown",
      "source": [
        "# Laboratorio 8. Detección de Anomalías\n",
        "José Antonio Mérida Castejón\n",
        "\n",
        "Joaquín Puente"
      ],
      "metadata": {
        "id": "7EAv0eMFrrgU"
      }
    },
    {
      "cell_type": "markdown",
      "source": [
        "# Imports / Librerías y Reproducibilidad\n",
        "Antes de iniciar, vamos a importar algunas librerías para utilizar dentro de este Notebook. Además, utilizamos un seed fijo para que los resultados sean reproducibles utilizando np.random.seed y tf.random.set_seed."
      ],
      "metadata": {
        "id": "8j7rIq3C41dY"
      }
    },
    {
      "cell_type": "code",
      "source": [
        "import numpy as np\n",
        "import tensorflow as tf\n",
        "from tensorflow import keras\n",
        "\n",
        "seed = 42\n",
        "np.random.seed(seed)\n",
        "tf.random.set_seed(seed)"
      ],
      "metadata": {
        "id": "DbDFQQO3v7CV"
      },
      "execution_count": 1,
      "outputs": []
    },
    {
      "cell_type": "markdown",
      "source": [
        "## 1. Carga del Conjunto de Datos"
      ],
      "metadata": {
        "id": "CKaFeiDGsBeA"
      }
    },
    {
      "cell_type": "markdown",
      "source": [
        "### Importación Utilizando Datasets de SKLearn\n",
        "Importando sklearn.datasets, podemos llamar la función fetch_covtype que nos provee datos en un \"bunch\". Dónde podemos extraer diferentes partes del datasetcomo features y variables de respuesta en dataframes separados."
      ],
      "metadata": {
        "id": "ChViRPIAsGse"
      }
    },
    {
      "cell_type": "code",
      "execution_count": 2,
      "metadata": {
        "colab": {
          "base_uri": "https://localhost:8080/",
          "height": 256
        },
        "id": "xCXKa34grNv6",
        "outputId": "689ecf46-6625-4fd2-fd8e-a5f4ddf42e55"
      },
      "outputs": [
        {
          "output_type": "execute_result",
          "data": {
            "text/plain": [
              "   Elevation  Aspect  Slope  Horizontal_Distance_To_Hydrology  \\\n",
              "0     2596.0    51.0    3.0                             258.0   \n",
              "1     2590.0    56.0    2.0                             212.0   \n",
              "2     2804.0   139.0    9.0                             268.0   \n",
              "3     2785.0   155.0   18.0                             242.0   \n",
              "4     2595.0    45.0    2.0                             153.0   \n",
              "\n",
              "   Vertical_Distance_To_Hydrology  Horizontal_Distance_To_Roadways  \\\n",
              "0                             0.0                            510.0   \n",
              "1                            -6.0                            390.0   \n",
              "2                            65.0                           3180.0   \n",
              "3                           118.0                           3090.0   \n",
              "4                            -1.0                            391.0   \n",
              "\n",
              "   Hillshade_9am  Hillshade_Noon  Hillshade_3pm  \\\n",
              "0          221.0           232.0          148.0   \n",
              "1          220.0           235.0          151.0   \n",
              "2          234.0           238.0          135.0   \n",
              "3          238.0           238.0          122.0   \n",
              "4          220.0           234.0          150.0   \n",
              "\n",
              "   Horizontal_Distance_To_Fire_Points  ...  Soil_Type_31  Soil_Type_32  \\\n",
              "0                              6279.0  ...           0.0           0.0   \n",
              "1                              6225.0  ...           0.0           0.0   \n",
              "2                              6121.0  ...           0.0           0.0   \n",
              "3                              6211.0  ...           0.0           0.0   \n",
              "4                              6172.0  ...           0.0           0.0   \n",
              "\n",
              "   Soil_Type_33  Soil_Type_34  Soil_Type_35  Soil_Type_36  Soil_Type_37  \\\n",
              "0           0.0           0.0           0.0           0.0           0.0   \n",
              "1           0.0           0.0           0.0           0.0           0.0   \n",
              "2           0.0           0.0           0.0           0.0           0.0   \n",
              "3           0.0           0.0           0.0           0.0           0.0   \n",
              "4           0.0           0.0           0.0           0.0           0.0   \n",
              "\n",
              "   Soil_Type_38  Soil_Type_39  Cover_Type  \n",
              "0           0.0           0.0           5  \n",
              "1           0.0           0.0           5  \n",
              "2           0.0           0.0           2  \n",
              "3           0.0           0.0           2  \n",
              "4           0.0           0.0           5  \n",
              "\n",
              "[5 rows x 55 columns]"
            ],
            "text/html": [
              "\n",
              "  <div id=\"df-c482c118-0705-47b4-9c68-2fa425d08988\" class=\"colab-df-container\">\n",
              "    <div>\n",
              "<style scoped>\n",
              "    .dataframe tbody tr th:only-of-type {\n",
              "        vertical-align: middle;\n",
              "    }\n",
              "\n",
              "    .dataframe tbody tr th {\n",
              "        vertical-align: top;\n",
              "    }\n",
              "\n",
              "    .dataframe thead th {\n",
              "        text-align: right;\n",
              "    }\n",
              "</style>\n",
              "<table border=\"1\" class=\"dataframe\">\n",
              "  <thead>\n",
              "    <tr style=\"text-align: right;\">\n",
              "      <th></th>\n",
              "      <th>Elevation</th>\n",
              "      <th>Aspect</th>\n",
              "      <th>Slope</th>\n",
              "      <th>Horizontal_Distance_To_Hydrology</th>\n",
              "      <th>Vertical_Distance_To_Hydrology</th>\n",
              "      <th>Horizontal_Distance_To_Roadways</th>\n",
              "      <th>Hillshade_9am</th>\n",
              "      <th>Hillshade_Noon</th>\n",
              "      <th>Hillshade_3pm</th>\n",
              "      <th>Horizontal_Distance_To_Fire_Points</th>\n",
              "      <th>...</th>\n",
              "      <th>Soil_Type_31</th>\n",
              "      <th>Soil_Type_32</th>\n",
              "      <th>Soil_Type_33</th>\n",
              "      <th>Soil_Type_34</th>\n",
              "      <th>Soil_Type_35</th>\n",
              "      <th>Soil_Type_36</th>\n",
              "      <th>Soil_Type_37</th>\n",
              "      <th>Soil_Type_38</th>\n",
              "      <th>Soil_Type_39</th>\n",
              "      <th>Cover_Type</th>\n",
              "    </tr>\n",
              "  </thead>\n",
              "  <tbody>\n",
              "    <tr>\n",
              "      <th>0</th>\n",
              "      <td>2596.0</td>\n",
              "      <td>51.0</td>\n",
              "      <td>3.0</td>\n",
              "      <td>258.0</td>\n",
              "      <td>0.0</td>\n",
              "      <td>510.0</td>\n",
              "      <td>221.0</td>\n",
              "      <td>232.0</td>\n",
              "      <td>148.0</td>\n",
              "      <td>6279.0</td>\n",
              "      <td>...</td>\n",
              "      <td>0.0</td>\n",
              "      <td>0.0</td>\n",
              "      <td>0.0</td>\n",
              "      <td>0.0</td>\n",
              "      <td>0.0</td>\n",
              "      <td>0.0</td>\n",
              "      <td>0.0</td>\n",
              "      <td>0.0</td>\n",
              "      <td>0.0</td>\n",
              "      <td>5</td>\n",
              "    </tr>\n",
              "    <tr>\n",
              "      <th>1</th>\n",
              "      <td>2590.0</td>\n",
              "      <td>56.0</td>\n",
              "      <td>2.0</td>\n",
              "      <td>212.0</td>\n",
              "      <td>-6.0</td>\n",
              "      <td>390.0</td>\n",
              "      <td>220.0</td>\n",
              "      <td>235.0</td>\n",
              "      <td>151.0</td>\n",
              "      <td>6225.0</td>\n",
              "      <td>...</td>\n",
              "      <td>0.0</td>\n",
              "      <td>0.0</td>\n",
              "      <td>0.0</td>\n",
              "      <td>0.0</td>\n",
              "      <td>0.0</td>\n",
              "      <td>0.0</td>\n",
              "      <td>0.0</td>\n",
              "      <td>0.0</td>\n",
              "      <td>0.0</td>\n",
              "      <td>5</td>\n",
              "    </tr>\n",
              "    <tr>\n",
              "      <th>2</th>\n",
              "      <td>2804.0</td>\n",
              "      <td>139.0</td>\n",
              "      <td>9.0</td>\n",
              "      <td>268.0</td>\n",
              "      <td>65.0</td>\n",
              "      <td>3180.0</td>\n",
              "      <td>234.0</td>\n",
              "      <td>238.0</td>\n",
              "      <td>135.0</td>\n",
              "      <td>6121.0</td>\n",
              "      <td>...</td>\n",
              "      <td>0.0</td>\n",
              "      <td>0.0</td>\n",
              "      <td>0.0</td>\n",
              "      <td>0.0</td>\n",
              "      <td>0.0</td>\n",
              "      <td>0.0</td>\n",
              "      <td>0.0</td>\n",
              "      <td>0.0</td>\n",
              "      <td>0.0</td>\n",
              "      <td>2</td>\n",
              "    </tr>\n",
              "    <tr>\n",
              "      <th>3</th>\n",
              "      <td>2785.0</td>\n",
              "      <td>155.0</td>\n",
              "      <td>18.0</td>\n",
              "      <td>242.0</td>\n",
              "      <td>118.0</td>\n",
              "      <td>3090.0</td>\n",
              "      <td>238.0</td>\n",
              "      <td>238.0</td>\n",
              "      <td>122.0</td>\n",
              "      <td>6211.0</td>\n",
              "      <td>...</td>\n",
              "      <td>0.0</td>\n",
              "      <td>0.0</td>\n",
              "      <td>0.0</td>\n",
              "      <td>0.0</td>\n",
              "      <td>0.0</td>\n",
              "      <td>0.0</td>\n",
              "      <td>0.0</td>\n",
              "      <td>0.0</td>\n",
              "      <td>0.0</td>\n",
              "      <td>2</td>\n",
              "    </tr>\n",
              "    <tr>\n",
              "      <th>4</th>\n",
              "      <td>2595.0</td>\n",
              "      <td>45.0</td>\n",
              "      <td>2.0</td>\n",
              "      <td>153.0</td>\n",
              "      <td>-1.0</td>\n",
              "      <td>391.0</td>\n",
              "      <td>220.0</td>\n",
              "      <td>234.0</td>\n",
              "      <td>150.0</td>\n",
              "      <td>6172.0</td>\n",
              "      <td>...</td>\n",
              "      <td>0.0</td>\n",
              "      <td>0.0</td>\n",
              "      <td>0.0</td>\n",
              "      <td>0.0</td>\n",
              "      <td>0.0</td>\n",
              "      <td>0.0</td>\n",
              "      <td>0.0</td>\n",
              "      <td>0.0</td>\n",
              "      <td>0.0</td>\n",
              "      <td>5</td>\n",
              "    </tr>\n",
              "  </tbody>\n",
              "</table>\n",
              "<p>5 rows × 55 columns</p>\n",
              "</div>\n",
              "    <div class=\"colab-df-buttons\">\n",
              "\n",
              "  <div class=\"colab-df-container\">\n",
              "    <button class=\"colab-df-convert\" onclick=\"convertToInteractive('df-c482c118-0705-47b4-9c68-2fa425d08988')\"\n",
              "            title=\"Convert this dataframe to an interactive table.\"\n",
              "            style=\"display:none;\">\n",
              "\n",
              "  <svg xmlns=\"http://www.w3.org/2000/svg\" height=\"24px\" viewBox=\"0 -960 960 960\">\n",
              "    <path d=\"M120-120v-720h720v720H120Zm60-500h600v-160H180v160Zm220 220h160v-160H400v160Zm0 220h160v-160H400v160ZM180-400h160v-160H180v160Zm440 0h160v-160H620v160ZM180-180h160v-160H180v160Zm440 0h160v-160H620v160Z\"/>\n",
              "  </svg>\n",
              "    </button>\n",
              "\n",
              "  <style>\n",
              "    .colab-df-container {\n",
              "      display:flex;\n",
              "      gap: 12px;\n",
              "    }\n",
              "\n",
              "    .colab-df-convert {\n",
              "      background-color: #E8F0FE;\n",
              "      border: none;\n",
              "      border-radius: 50%;\n",
              "      cursor: pointer;\n",
              "      display: none;\n",
              "      fill: #1967D2;\n",
              "      height: 32px;\n",
              "      padding: 0 0 0 0;\n",
              "      width: 32px;\n",
              "    }\n",
              "\n",
              "    .colab-df-convert:hover {\n",
              "      background-color: #E2EBFA;\n",
              "      box-shadow: 0px 1px 2px rgba(60, 64, 67, 0.3), 0px 1px 3px 1px rgba(60, 64, 67, 0.15);\n",
              "      fill: #174EA6;\n",
              "    }\n",
              "\n",
              "    .colab-df-buttons div {\n",
              "      margin-bottom: 4px;\n",
              "    }\n",
              "\n",
              "    [theme=dark] .colab-df-convert {\n",
              "      background-color: #3B4455;\n",
              "      fill: #D2E3FC;\n",
              "    }\n",
              "\n",
              "    [theme=dark] .colab-df-convert:hover {\n",
              "      background-color: #434B5C;\n",
              "      box-shadow: 0px 1px 3px 1px rgba(0, 0, 0, 0.15);\n",
              "      filter: drop-shadow(0px 1px 2px rgba(0, 0, 0, 0.3));\n",
              "      fill: #FFFFFF;\n",
              "    }\n",
              "  </style>\n",
              "\n",
              "    <script>\n",
              "      const buttonEl =\n",
              "        document.querySelector('#df-c482c118-0705-47b4-9c68-2fa425d08988 button.colab-df-convert');\n",
              "      buttonEl.style.display =\n",
              "        google.colab.kernel.accessAllowed ? 'block' : 'none';\n",
              "\n",
              "      async function convertToInteractive(key) {\n",
              "        const element = document.querySelector('#df-c482c118-0705-47b4-9c68-2fa425d08988');\n",
              "        const dataTable =\n",
              "          await google.colab.kernel.invokeFunction('convertToInteractive',\n",
              "                                                    [key], {});\n",
              "        if (!dataTable) return;\n",
              "\n",
              "        const docLinkHtml = 'Like what you see? Visit the ' +\n",
              "          '<a target=\"_blank\" href=https://colab.research.google.com/notebooks/data_table.ipynb>data table notebook</a>'\n",
              "          + ' to learn more about interactive tables.';\n",
              "        element.innerHTML = '';\n",
              "        dataTable['output_type'] = 'display_data';\n",
              "        await google.colab.output.renderOutput(dataTable, element);\n",
              "        const docLink = document.createElement('div');\n",
              "        docLink.innerHTML = docLinkHtml;\n",
              "        element.appendChild(docLink);\n",
              "      }\n",
              "    </script>\n",
              "  </div>\n",
              "\n",
              "\n",
              "    <div id=\"df-129cbe35-5e4d-460a-b070-49afa3924afa\">\n",
              "      <button class=\"colab-df-quickchart\" onclick=\"quickchart('df-129cbe35-5e4d-460a-b070-49afa3924afa')\"\n",
              "                title=\"Suggest charts\"\n",
              "                style=\"display:none;\">\n",
              "\n",
              "<svg xmlns=\"http://www.w3.org/2000/svg\" height=\"24px\"viewBox=\"0 0 24 24\"\n",
              "     width=\"24px\">\n",
              "    <g>\n",
              "        <path d=\"M19 3H5c-1.1 0-2 .9-2 2v14c0 1.1.9 2 2 2h14c1.1 0 2-.9 2-2V5c0-1.1-.9-2-2-2zM9 17H7v-7h2v7zm4 0h-2V7h2v10zm4 0h-2v-4h2v4z\"/>\n",
              "    </g>\n",
              "</svg>\n",
              "      </button>\n",
              "\n",
              "<style>\n",
              "  .colab-df-quickchart {\n",
              "      --bg-color: #E8F0FE;\n",
              "      --fill-color: #1967D2;\n",
              "      --hover-bg-color: #E2EBFA;\n",
              "      --hover-fill-color: #174EA6;\n",
              "      --disabled-fill-color: #AAA;\n",
              "      --disabled-bg-color: #DDD;\n",
              "  }\n",
              "\n",
              "  [theme=dark] .colab-df-quickchart {\n",
              "      --bg-color: #3B4455;\n",
              "      --fill-color: #D2E3FC;\n",
              "      --hover-bg-color: #434B5C;\n",
              "      --hover-fill-color: #FFFFFF;\n",
              "      --disabled-bg-color: #3B4455;\n",
              "      --disabled-fill-color: #666;\n",
              "  }\n",
              "\n",
              "  .colab-df-quickchart {\n",
              "    background-color: var(--bg-color);\n",
              "    border: none;\n",
              "    border-radius: 50%;\n",
              "    cursor: pointer;\n",
              "    display: none;\n",
              "    fill: var(--fill-color);\n",
              "    height: 32px;\n",
              "    padding: 0;\n",
              "    width: 32px;\n",
              "  }\n",
              "\n",
              "  .colab-df-quickchart:hover {\n",
              "    background-color: var(--hover-bg-color);\n",
              "    box-shadow: 0 1px 2px rgba(60, 64, 67, 0.3), 0 1px 3px 1px rgba(60, 64, 67, 0.15);\n",
              "    fill: var(--button-hover-fill-color);\n",
              "  }\n",
              "\n",
              "  .colab-df-quickchart-complete:disabled,\n",
              "  .colab-df-quickchart-complete:disabled:hover {\n",
              "    background-color: var(--disabled-bg-color);\n",
              "    fill: var(--disabled-fill-color);\n",
              "    box-shadow: none;\n",
              "  }\n",
              "\n",
              "  .colab-df-spinner {\n",
              "    border: 2px solid var(--fill-color);\n",
              "    border-color: transparent;\n",
              "    border-bottom-color: var(--fill-color);\n",
              "    animation:\n",
              "      spin 1s steps(1) infinite;\n",
              "  }\n",
              "\n",
              "  @keyframes spin {\n",
              "    0% {\n",
              "      border-color: transparent;\n",
              "      border-bottom-color: var(--fill-color);\n",
              "      border-left-color: var(--fill-color);\n",
              "    }\n",
              "    20% {\n",
              "      border-color: transparent;\n",
              "      border-left-color: var(--fill-color);\n",
              "      border-top-color: var(--fill-color);\n",
              "    }\n",
              "    30% {\n",
              "      border-color: transparent;\n",
              "      border-left-color: var(--fill-color);\n",
              "      border-top-color: var(--fill-color);\n",
              "      border-right-color: var(--fill-color);\n",
              "    }\n",
              "    40% {\n",
              "      border-color: transparent;\n",
              "      border-right-color: var(--fill-color);\n",
              "      border-top-color: var(--fill-color);\n",
              "    }\n",
              "    60% {\n",
              "      border-color: transparent;\n",
              "      border-right-color: var(--fill-color);\n",
              "    }\n",
              "    80% {\n",
              "      border-color: transparent;\n",
              "      border-right-color: var(--fill-color);\n",
              "      border-bottom-color: var(--fill-color);\n",
              "    }\n",
              "    90% {\n",
              "      border-color: transparent;\n",
              "      border-bottom-color: var(--fill-color);\n",
              "    }\n",
              "  }\n",
              "</style>\n",
              "\n",
              "      <script>\n",
              "        async function quickchart(key) {\n",
              "          const quickchartButtonEl =\n",
              "            document.querySelector('#' + key + ' button');\n",
              "          quickchartButtonEl.disabled = true;  // To prevent multiple clicks.\n",
              "          quickchartButtonEl.classList.add('colab-df-spinner');\n",
              "          try {\n",
              "            const charts = await google.colab.kernel.invokeFunction(\n",
              "                'suggestCharts', [key], {});\n",
              "          } catch (error) {\n",
              "            console.error('Error during call to suggestCharts:', error);\n",
              "          }\n",
              "          quickchartButtonEl.classList.remove('colab-df-spinner');\n",
              "          quickchartButtonEl.classList.add('colab-df-quickchart-complete');\n",
              "        }\n",
              "        (() => {\n",
              "          let quickchartButtonEl =\n",
              "            document.querySelector('#df-129cbe35-5e4d-460a-b070-49afa3924afa button');\n",
              "          quickchartButtonEl.style.display =\n",
              "            google.colab.kernel.accessAllowed ? 'block' : 'none';\n",
              "        })();\n",
              "      </script>\n",
              "    </div>\n",
              "\n",
              "    </div>\n",
              "  </div>\n"
            ],
            "application/vnd.google.colaboratory.intrinsic+json": {
              "type": "dataframe",
              "variable_name": "df"
            }
          },
          "metadata": {},
          "execution_count": 2
        }
      ],
      "source": [
        "\n",
        "from sklearn.datasets import fetch_covtype\n",
        "\n",
        "cov = fetch_covtype(as_frame=True)\n",
        "\n",
        "# Set de datos completo\n",
        "df = cov.frame\n",
        "\n",
        "# Features\n",
        "x = cov.data\n",
        "\n",
        "# Variable de Respuesta\n",
        "y = cov.target\n",
        "\n",
        "df.head()"
      ]
    },
    {
      "cell_type": "markdown",
      "source": [
        "Luego de explorar la tabla de df.head(), podemos ver que el dataset fue importado exitosamente."
      ],
      "metadata": {
        "id": "oRQaWVZg5b6Q"
      }
    },
    {
      "cell_type": "markdown",
      "source": [
        "### Escala de Variables Numéricas\n",
        "Para identificar las columnas numéricas, nos apoyamos de una función auxiliar que identifica columnas dónde se contienen únicamente valores binarios. También evitamos escalar la variable objetivo, y luego utilizamos el StandardScaler para escalar las columnas deseadas."
      ],
      "metadata": {
        "id": "53dxc92NsZ1D"
      }
    },
    {
      "cell_type": "code",
      "source": [
        "from sklearn.preprocessing import StandardScaler\n",
        "\n",
        "# Columna Objetivo y de Features\n",
        "target_col = y.name if hasattr(y, \"name\") and y.name in df.columns else None\n",
        "feature_cols = [c for c in df.columns if c != target_col]\n",
        "\n",
        "# Identificar con solo 1s y 0s\n",
        "binary_cols = [c for c in feature_cols if set(df[c].dropna().unique()) <= {0, 1}]\n",
        "num_cols    = [c for c in feature_cols if c not in binary_cols]\n",
        "\n",
        "# Escalar features in-place\n",
        "scaler = StandardScaler()\n",
        "df.loc[:, num_cols] = scaler.fit_transform(df[num_cols])\n",
        "\n",
        "df.head()"
      ],
      "metadata": {
        "colab": {
          "base_uri": "https://localhost:8080/",
          "height": 256
        },
        "id": "_KVZ1wyPtfIL",
        "outputId": "5f43e721-b1d7-4399-ac48-c14a051d763c"
      },
      "execution_count": 3,
      "outputs": [
        {
          "output_type": "execute_result",
          "data": {
            "text/plain": [
              "   Elevation    Aspect     Slope  Horizontal_Distance_To_Hydrology  \\\n",
              "0  -1.297805 -0.935157 -1.482820                         -0.053767   \n",
              "1  -1.319235 -0.890480 -1.616363                         -0.270188   \n",
              "2  -0.554907 -0.148836 -0.681563                         -0.006719   \n",
              "3  -0.622768 -0.005869  0.520322                         -0.129044   \n",
              "4  -1.301377 -0.988770 -1.616363                         -0.547771   \n",
              "\n",
              "   Vertical_Distance_To_Hydrology  Horizontal_Distance_To_Roadways  \\\n",
              "0                       -0.796273                        -1.180146   \n",
              "1                       -0.899197                        -1.257106   \n",
              "2                        0.318742                         0.532212   \n",
              "3                        1.227908                         0.474492   \n",
              "4                       -0.813427                        -1.256464   \n",
              "\n",
              "   Hillshade_9am  Hillshade_Noon  Hillshade_3pm  \\\n",
              "0       0.330743        0.439143       0.142960   \n",
              "1       0.293388        0.590899       0.221342   \n",
              "2       0.816364        0.742654      -0.196691   \n",
              "3       0.965786        0.742654      -0.536343   \n",
              "4       0.293388        0.540313       0.195215   \n",
              "\n",
              "   Horizontal_Distance_To_Fire_Points  ...  Soil_Type_31  Soil_Type_32  \\\n",
              "0                            3.246283  ...           0.0           0.0   \n",
              "1                            3.205504  ...           0.0           0.0   \n",
              "2                            3.126965  ...           0.0           0.0   \n",
              "3                            3.194931  ...           0.0           0.0   \n",
              "4                            3.165479  ...           0.0           0.0   \n",
              "\n",
              "   Soil_Type_33  Soil_Type_34  Soil_Type_35  Soil_Type_36  Soil_Type_37  \\\n",
              "0           0.0           0.0           0.0           0.0           0.0   \n",
              "1           0.0           0.0           0.0           0.0           0.0   \n",
              "2           0.0           0.0           0.0           0.0           0.0   \n",
              "3           0.0           0.0           0.0           0.0           0.0   \n",
              "4           0.0           0.0           0.0           0.0           0.0   \n",
              "\n",
              "   Soil_Type_38  Soil_Type_39  Cover_Type  \n",
              "0           0.0           0.0           5  \n",
              "1           0.0           0.0           5  \n",
              "2           0.0           0.0           2  \n",
              "3           0.0           0.0           2  \n",
              "4           0.0           0.0           5  \n",
              "\n",
              "[5 rows x 55 columns]"
            ],
            "text/html": [
              "\n",
              "  <div id=\"df-2d6ecd62-3eb4-4946-afaa-1b42b8b165b5\" class=\"colab-df-container\">\n",
              "    <div>\n",
              "<style scoped>\n",
              "    .dataframe tbody tr th:only-of-type {\n",
              "        vertical-align: middle;\n",
              "    }\n",
              "\n",
              "    .dataframe tbody tr th {\n",
              "        vertical-align: top;\n",
              "    }\n",
              "\n",
              "    .dataframe thead th {\n",
              "        text-align: right;\n",
              "    }\n",
              "</style>\n",
              "<table border=\"1\" class=\"dataframe\">\n",
              "  <thead>\n",
              "    <tr style=\"text-align: right;\">\n",
              "      <th></th>\n",
              "      <th>Elevation</th>\n",
              "      <th>Aspect</th>\n",
              "      <th>Slope</th>\n",
              "      <th>Horizontal_Distance_To_Hydrology</th>\n",
              "      <th>Vertical_Distance_To_Hydrology</th>\n",
              "      <th>Horizontal_Distance_To_Roadways</th>\n",
              "      <th>Hillshade_9am</th>\n",
              "      <th>Hillshade_Noon</th>\n",
              "      <th>Hillshade_3pm</th>\n",
              "      <th>Horizontal_Distance_To_Fire_Points</th>\n",
              "      <th>...</th>\n",
              "      <th>Soil_Type_31</th>\n",
              "      <th>Soil_Type_32</th>\n",
              "      <th>Soil_Type_33</th>\n",
              "      <th>Soil_Type_34</th>\n",
              "      <th>Soil_Type_35</th>\n",
              "      <th>Soil_Type_36</th>\n",
              "      <th>Soil_Type_37</th>\n",
              "      <th>Soil_Type_38</th>\n",
              "      <th>Soil_Type_39</th>\n",
              "      <th>Cover_Type</th>\n",
              "    </tr>\n",
              "  </thead>\n",
              "  <tbody>\n",
              "    <tr>\n",
              "      <th>0</th>\n",
              "      <td>-1.297805</td>\n",
              "      <td>-0.935157</td>\n",
              "      <td>-1.482820</td>\n",
              "      <td>-0.053767</td>\n",
              "      <td>-0.796273</td>\n",
              "      <td>-1.180146</td>\n",
              "      <td>0.330743</td>\n",
              "      <td>0.439143</td>\n",
              "      <td>0.142960</td>\n",
              "      <td>3.246283</td>\n",
              "      <td>...</td>\n",
              "      <td>0.0</td>\n",
              "      <td>0.0</td>\n",
              "      <td>0.0</td>\n",
              "      <td>0.0</td>\n",
              "      <td>0.0</td>\n",
              "      <td>0.0</td>\n",
              "      <td>0.0</td>\n",
              "      <td>0.0</td>\n",
              "      <td>0.0</td>\n",
              "      <td>5</td>\n",
              "    </tr>\n",
              "    <tr>\n",
              "      <th>1</th>\n",
              "      <td>-1.319235</td>\n",
              "      <td>-0.890480</td>\n",
              "      <td>-1.616363</td>\n",
              "      <td>-0.270188</td>\n",
              "      <td>-0.899197</td>\n",
              "      <td>-1.257106</td>\n",
              "      <td>0.293388</td>\n",
              "      <td>0.590899</td>\n",
              "      <td>0.221342</td>\n",
              "      <td>3.205504</td>\n",
              "      <td>...</td>\n",
              "      <td>0.0</td>\n",
              "      <td>0.0</td>\n",
              "      <td>0.0</td>\n",
              "      <td>0.0</td>\n",
              "      <td>0.0</td>\n",
              "      <td>0.0</td>\n",
              "      <td>0.0</td>\n",
              "      <td>0.0</td>\n",
              "      <td>0.0</td>\n",
              "      <td>5</td>\n",
              "    </tr>\n",
              "    <tr>\n",
              "      <th>2</th>\n",
              "      <td>-0.554907</td>\n",
              "      <td>-0.148836</td>\n",
              "      <td>-0.681563</td>\n",
              "      <td>-0.006719</td>\n",
              "      <td>0.318742</td>\n",
              "      <td>0.532212</td>\n",
              "      <td>0.816364</td>\n",
              "      <td>0.742654</td>\n",
              "      <td>-0.196691</td>\n",
              "      <td>3.126965</td>\n",
              "      <td>...</td>\n",
              "      <td>0.0</td>\n",
              "      <td>0.0</td>\n",
              "      <td>0.0</td>\n",
              "      <td>0.0</td>\n",
              "      <td>0.0</td>\n",
              "      <td>0.0</td>\n",
              "      <td>0.0</td>\n",
              "      <td>0.0</td>\n",
              "      <td>0.0</td>\n",
              "      <td>2</td>\n",
              "    </tr>\n",
              "    <tr>\n",
              "      <th>3</th>\n",
              "      <td>-0.622768</td>\n",
              "      <td>-0.005869</td>\n",
              "      <td>0.520322</td>\n",
              "      <td>-0.129044</td>\n",
              "      <td>1.227908</td>\n",
              "      <td>0.474492</td>\n",
              "      <td>0.965786</td>\n",
              "      <td>0.742654</td>\n",
              "      <td>-0.536343</td>\n",
              "      <td>3.194931</td>\n",
              "      <td>...</td>\n",
              "      <td>0.0</td>\n",
              "      <td>0.0</td>\n",
              "      <td>0.0</td>\n",
              "      <td>0.0</td>\n",
              "      <td>0.0</td>\n",
              "      <td>0.0</td>\n",
              "      <td>0.0</td>\n",
              "      <td>0.0</td>\n",
              "      <td>0.0</td>\n",
              "      <td>2</td>\n",
              "    </tr>\n",
              "    <tr>\n",
              "      <th>4</th>\n",
              "      <td>-1.301377</td>\n",
              "      <td>-0.988770</td>\n",
              "      <td>-1.616363</td>\n",
              "      <td>-0.547771</td>\n",
              "      <td>-0.813427</td>\n",
              "      <td>-1.256464</td>\n",
              "      <td>0.293388</td>\n",
              "      <td>0.540313</td>\n",
              "      <td>0.195215</td>\n",
              "      <td>3.165479</td>\n",
              "      <td>...</td>\n",
              "      <td>0.0</td>\n",
              "      <td>0.0</td>\n",
              "      <td>0.0</td>\n",
              "      <td>0.0</td>\n",
              "      <td>0.0</td>\n",
              "      <td>0.0</td>\n",
              "      <td>0.0</td>\n",
              "      <td>0.0</td>\n",
              "      <td>0.0</td>\n",
              "      <td>5</td>\n",
              "    </tr>\n",
              "  </tbody>\n",
              "</table>\n",
              "<p>5 rows × 55 columns</p>\n",
              "</div>\n",
              "    <div class=\"colab-df-buttons\">\n",
              "\n",
              "  <div class=\"colab-df-container\">\n",
              "    <button class=\"colab-df-convert\" onclick=\"convertToInteractive('df-2d6ecd62-3eb4-4946-afaa-1b42b8b165b5')\"\n",
              "            title=\"Convert this dataframe to an interactive table.\"\n",
              "            style=\"display:none;\">\n",
              "\n",
              "  <svg xmlns=\"http://www.w3.org/2000/svg\" height=\"24px\" viewBox=\"0 -960 960 960\">\n",
              "    <path d=\"M120-120v-720h720v720H120Zm60-500h600v-160H180v160Zm220 220h160v-160H400v160Zm0 220h160v-160H400v160ZM180-400h160v-160H180v160Zm440 0h160v-160H620v160ZM180-180h160v-160H180v160Zm440 0h160v-160H620v160Z\"/>\n",
              "  </svg>\n",
              "    </button>\n",
              "\n",
              "  <style>\n",
              "    .colab-df-container {\n",
              "      display:flex;\n",
              "      gap: 12px;\n",
              "    }\n",
              "\n",
              "    .colab-df-convert {\n",
              "      background-color: #E8F0FE;\n",
              "      border: none;\n",
              "      border-radius: 50%;\n",
              "      cursor: pointer;\n",
              "      display: none;\n",
              "      fill: #1967D2;\n",
              "      height: 32px;\n",
              "      padding: 0 0 0 0;\n",
              "      width: 32px;\n",
              "    }\n",
              "\n",
              "    .colab-df-convert:hover {\n",
              "      background-color: #E2EBFA;\n",
              "      box-shadow: 0px 1px 2px rgba(60, 64, 67, 0.3), 0px 1px 3px 1px rgba(60, 64, 67, 0.15);\n",
              "      fill: #174EA6;\n",
              "    }\n",
              "\n",
              "    .colab-df-buttons div {\n",
              "      margin-bottom: 4px;\n",
              "    }\n",
              "\n",
              "    [theme=dark] .colab-df-convert {\n",
              "      background-color: #3B4455;\n",
              "      fill: #D2E3FC;\n",
              "    }\n",
              "\n",
              "    [theme=dark] .colab-df-convert:hover {\n",
              "      background-color: #434B5C;\n",
              "      box-shadow: 0px 1px 3px 1px rgba(0, 0, 0, 0.15);\n",
              "      filter: drop-shadow(0px 1px 2px rgba(0, 0, 0, 0.3));\n",
              "      fill: #FFFFFF;\n",
              "    }\n",
              "  </style>\n",
              "\n",
              "    <script>\n",
              "      const buttonEl =\n",
              "        document.querySelector('#df-2d6ecd62-3eb4-4946-afaa-1b42b8b165b5 button.colab-df-convert');\n",
              "      buttonEl.style.display =\n",
              "        google.colab.kernel.accessAllowed ? 'block' : 'none';\n",
              "\n",
              "      async function convertToInteractive(key) {\n",
              "        const element = document.querySelector('#df-2d6ecd62-3eb4-4946-afaa-1b42b8b165b5');\n",
              "        const dataTable =\n",
              "          await google.colab.kernel.invokeFunction('convertToInteractive',\n",
              "                                                    [key], {});\n",
              "        if (!dataTable) return;\n",
              "\n",
              "        const docLinkHtml = 'Like what you see? Visit the ' +\n",
              "          '<a target=\"_blank\" href=https://colab.research.google.com/notebooks/data_table.ipynb>data table notebook</a>'\n",
              "          + ' to learn more about interactive tables.';\n",
              "        element.innerHTML = '';\n",
              "        dataTable['output_type'] = 'display_data';\n",
              "        await google.colab.output.renderOutput(dataTable, element);\n",
              "        const docLink = document.createElement('div');\n",
              "        docLink.innerHTML = docLinkHtml;\n",
              "        element.appendChild(docLink);\n",
              "      }\n",
              "    </script>\n",
              "  </div>\n",
              "\n",
              "\n",
              "    <div id=\"df-f7f23db8-3af4-4c47-b9a9-67752ce5dfbb\">\n",
              "      <button class=\"colab-df-quickchart\" onclick=\"quickchart('df-f7f23db8-3af4-4c47-b9a9-67752ce5dfbb')\"\n",
              "                title=\"Suggest charts\"\n",
              "                style=\"display:none;\">\n",
              "\n",
              "<svg xmlns=\"http://www.w3.org/2000/svg\" height=\"24px\"viewBox=\"0 0 24 24\"\n",
              "     width=\"24px\">\n",
              "    <g>\n",
              "        <path d=\"M19 3H5c-1.1 0-2 .9-2 2v14c0 1.1.9 2 2 2h14c1.1 0 2-.9 2-2V5c0-1.1-.9-2-2-2zM9 17H7v-7h2v7zm4 0h-2V7h2v10zm4 0h-2v-4h2v4z\"/>\n",
              "    </g>\n",
              "</svg>\n",
              "      </button>\n",
              "\n",
              "<style>\n",
              "  .colab-df-quickchart {\n",
              "      --bg-color: #E8F0FE;\n",
              "      --fill-color: #1967D2;\n",
              "      --hover-bg-color: #E2EBFA;\n",
              "      --hover-fill-color: #174EA6;\n",
              "      --disabled-fill-color: #AAA;\n",
              "      --disabled-bg-color: #DDD;\n",
              "  }\n",
              "\n",
              "  [theme=dark] .colab-df-quickchart {\n",
              "      --bg-color: #3B4455;\n",
              "      --fill-color: #D2E3FC;\n",
              "      --hover-bg-color: #434B5C;\n",
              "      --hover-fill-color: #FFFFFF;\n",
              "      --disabled-bg-color: #3B4455;\n",
              "      --disabled-fill-color: #666;\n",
              "  }\n",
              "\n",
              "  .colab-df-quickchart {\n",
              "    background-color: var(--bg-color);\n",
              "    border: none;\n",
              "    border-radius: 50%;\n",
              "    cursor: pointer;\n",
              "    display: none;\n",
              "    fill: var(--fill-color);\n",
              "    height: 32px;\n",
              "    padding: 0;\n",
              "    width: 32px;\n",
              "  }\n",
              "\n",
              "  .colab-df-quickchart:hover {\n",
              "    background-color: var(--hover-bg-color);\n",
              "    box-shadow: 0 1px 2px rgba(60, 64, 67, 0.3), 0 1px 3px 1px rgba(60, 64, 67, 0.15);\n",
              "    fill: var(--button-hover-fill-color);\n",
              "  }\n",
              "\n",
              "  .colab-df-quickchart-complete:disabled,\n",
              "  .colab-df-quickchart-complete:disabled:hover {\n",
              "    background-color: var(--disabled-bg-color);\n",
              "    fill: var(--disabled-fill-color);\n",
              "    box-shadow: none;\n",
              "  }\n",
              "\n",
              "  .colab-df-spinner {\n",
              "    border: 2px solid var(--fill-color);\n",
              "    border-color: transparent;\n",
              "    border-bottom-color: var(--fill-color);\n",
              "    animation:\n",
              "      spin 1s steps(1) infinite;\n",
              "  }\n",
              "\n",
              "  @keyframes spin {\n",
              "    0% {\n",
              "      border-color: transparent;\n",
              "      border-bottom-color: var(--fill-color);\n",
              "      border-left-color: var(--fill-color);\n",
              "    }\n",
              "    20% {\n",
              "      border-color: transparent;\n",
              "      border-left-color: var(--fill-color);\n",
              "      border-top-color: var(--fill-color);\n",
              "    }\n",
              "    30% {\n",
              "      border-color: transparent;\n",
              "      border-left-color: var(--fill-color);\n",
              "      border-top-color: var(--fill-color);\n",
              "      border-right-color: var(--fill-color);\n",
              "    }\n",
              "    40% {\n",
              "      border-color: transparent;\n",
              "      border-right-color: var(--fill-color);\n",
              "      border-top-color: var(--fill-color);\n",
              "    }\n",
              "    60% {\n",
              "      border-color: transparent;\n",
              "      border-right-color: var(--fill-color);\n",
              "    }\n",
              "    80% {\n",
              "      border-color: transparent;\n",
              "      border-right-color: var(--fill-color);\n",
              "      border-bottom-color: var(--fill-color);\n",
              "    }\n",
              "    90% {\n",
              "      border-color: transparent;\n",
              "      border-bottom-color: var(--fill-color);\n",
              "    }\n",
              "  }\n",
              "</style>\n",
              "\n",
              "      <script>\n",
              "        async function quickchart(key) {\n",
              "          const quickchartButtonEl =\n",
              "            document.querySelector('#' + key + ' button');\n",
              "          quickchartButtonEl.disabled = true;  // To prevent multiple clicks.\n",
              "          quickchartButtonEl.classList.add('colab-df-spinner');\n",
              "          try {\n",
              "            const charts = await google.colab.kernel.invokeFunction(\n",
              "                'suggestCharts', [key], {});\n",
              "          } catch (error) {\n",
              "            console.error('Error during call to suggestCharts:', error);\n",
              "          }\n",
              "          quickchartButtonEl.classList.remove('colab-df-spinner');\n",
              "          quickchartButtonEl.classList.add('colab-df-quickchart-complete');\n",
              "        }\n",
              "        (() => {\n",
              "          let quickchartButtonEl =\n",
              "            document.querySelector('#df-f7f23db8-3af4-4c47-b9a9-67752ce5dfbb button');\n",
              "          quickchartButtonEl.style.display =\n",
              "            google.colab.kernel.accessAllowed ? 'block' : 'none';\n",
              "        })();\n",
              "      </script>\n",
              "    </div>\n",
              "\n",
              "    </div>\n",
              "  </div>\n"
            ],
            "application/vnd.google.colaboratory.intrinsic+json": {
              "type": "dataframe",
              "variable_name": "df"
            }
          },
          "metadata": {},
          "execution_count": 3
        }
      ]
    },
    {
      "cell_type": "markdown",
      "source": [
        "Analizando la tabla, nuestras variables fueron escaladas exitosamente."
      ],
      "metadata": {
        "id": "cOPVXudI6L4U"
      }
    },
    {
      "cell_type": "markdown",
      "source": [
        "### Descripción de Variables\n",
        "Este conjunto de datos contiene información sobre la cobertura forestal en ciertas áreas de EEUU. A continuación detallamos un poco el significado de cada una de las variables dentro del dataset dónde los intervalos se encuentran dados conforme a los datos originales, luego del scaling estos cambian."
      ],
      "metadata": {
        "id": "PfMKBthrsgr-"
      }
    },
    {
      "cell_type": "markdown",
      "source": [
        "* **Elevation** — cuantitativo — **m** — Elevación en metros.\n",
        "* **Aspect** — cuantitativo — **acimut (°)** — Orientación en grados de acimut.\n",
        "* **Slope** — cuantitativo — **°** — Inclinación del terreno en grados.\n",
        "* **Horizontal_Distance_To_Hydrology** — cuantitativo — **m** — Distancia horizontal a la hidrografía superficial más cercana.\n",
        "* **Vertical_Distance_To_Hydrology** — cuantitativo — **m** — Distancia vertical a la hidrografía superficial más cercana.\n",
        "* **Horizontal_Distance_To_Roadways** — cuantitativo — **m** — Distancia horizontal a la carretera más cercana.\n",
        "* **Hillshade_9am** — cuantitativo — **índice 0–255** — Sombreado a las 9 a. m. (solsticio de verano).\n",
        "* **Hillshade_Noon** — cuantitativo — **índice 0–255** — Sombreado al mediodía (solsticio de verano).\n",
        "* **Hillshade_3pm** — cuantitativo — **índice 0–255** — Sombreado a las 3 p. m. (solsticio de verano).\n",
        "* **Horizontal_Distance_To_Fire_Points** — cuantitativo — **m** — Distancia horizontal al punto de ignición de incendio más cercano.\n",
        "* **Wilderness_Area** *(4 columnas binarias)* — cualitativo — **0/1** — Indicadores de pertenencia a área silvestre (one-hot).\n",
        "* **Soil_Type** *(40 columnas binarias)* — cualitativo — **0/1** — Indicadores de tipo de suelo (one-hot).\n",
        "* **Cover_Type** *(7 tipos)* — entero — **1–7** — Tipo de cobertura forestal.\n"
      ],
      "metadata": {
        "id": "MUQSHB_asyIY"
      }
    },
    {
      "cell_type": "markdown",
      "source": [
        "## 2. Etiqueta de Datos Normales / Anormales\n",
        "Aquí simplemente podemos agregar una nueva columna a nuestro DataFrame"
      ],
      "metadata": {
        "id": "mI-zeDUSsj5R"
      }
    },
    {
      "cell_type": "code",
      "source": [
        "# Crear la etiqueta\n",
        "df[\"is_anomaly\"] = (df[\"Cover_Type\"] != 2).astype(int)\n",
        "\n",
        "# Verificación\n",
        "df[\"is_anomaly\"].value_counts().rename({0:\"normal\", 1:\"anomalo\"})\n"
      ],
      "metadata": {
        "colab": {
          "base_uri": "https://localhost:8080/",
          "height": 178
        },
        "id": "dvWMkVz7ulxz",
        "outputId": "ef6903cd-0f00-4f70-ec9e-ddbdfd642ff2"
      },
      "execution_count": 4,
      "outputs": [
        {
          "output_type": "execute_result",
          "data": {
            "text/plain": [
              "is_anomaly\n",
              "anomalo    297711\n",
              "normal     283301\n",
              "Name: count, dtype: int64"
            ],
            "text/html": [
              "<div>\n",
              "<style scoped>\n",
              "    .dataframe tbody tr th:only-of-type {\n",
              "        vertical-align: middle;\n",
              "    }\n",
              "\n",
              "    .dataframe tbody tr th {\n",
              "        vertical-align: top;\n",
              "    }\n",
              "\n",
              "    .dataframe thead th {\n",
              "        text-align: right;\n",
              "    }\n",
              "</style>\n",
              "<table border=\"1\" class=\"dataframe\">\n",
              "  <thead>\n",
              "    <tr style=\"text-align: right;\">\n",
              "      <th></th>\n",
              "      <th>count</th>\n",
              "    </tr>\n",
              "    <tr>\n",
              "      <th>is_anomaly</th>\n",
              "      <th></th>\n",
              "    </tr>\n",
              "  </thead>\n",
              "  <tbody>\n",
              "    <tr>\n",
              "      <th>anomalo</th>\n",
              "      <td>297711</td>\n",
              "    </tr>\n",
              "    <tr>\n",
              "      <th>normal</th>\n",
              "      <td>283301</td>\n",
              "    </tr>\n",
              "  </tbody>\n",
              "</table>\n",
              "</div><br><label><b>dtype:</b> int64</label>"
            ]
          },
          "metadata": {},
          "execution_count": 4
        }
      ]
    },
    {
      "cell_type": "markdown",
      "source": [
        "Podemos identificar que la nueva columna fue agregada con éxito."
      ],
      "metadata": {
        "id": "8g7y1dw26zAB"
      }
    },
    {
      "cell_type": "markdown",
      "source": [
        "## 3. División Train / Val / Test\n",
        "Para esta división, buscamos entrenar a nuestros modelos únicamente con datos \"normales\". Es decir, no incluir datos anómalos hasta el conjunto de prueba. Lo que buscamos es que el modelo aprenda de la \"normalidad\" para luego identificar que tan alejados de esta normalidad se encuentran los valores. Posteriormente, estableceremos un umbral que nos ayude a detectar de manera más precisa los valores fuera de lo normal. Adicionalmente, buscamos que dentro del conjunto de prueba existiera una distribución entre clases balanceada así nos evitamos problemas de métricas a futuro."
      ],
      "metadata": {
        "id": "a08JPH9IvTyd"
      }
    },
    {
      "cell_type": "code",
      "source": [
        "from sklearn.model_selection import train_test_split\n",
        "import pandas as pd\n",
        "\n",
        "# Partir normales / anómalos\n",
        "df_norm = df[df[\"is_anomaly\"] == 0]\n",
        "df_anom = df[df[\"is_anomaly\"] == 1]\n",
        "\n",
        "# Holdout de NORMALES para test\n",
        "df_trainval_norm, df_test_norm = train_test_split(\n",
        "    df_norm, test_size=0.20, random_state=42, shuffle=True\n",
        ")\n",
        "\n",
        "# De lo que queda, TRAIN/VAL (solo normales)\n",
        "df_train_norm, df_val_norm = train_test_split(\n",
        "    df_trainval_norm, test_size=0.30, random_state=42, shuffle=True\n",
        ")\n",
        "\n",
        "# Empareja el # de normales del holdout con el # de anomalías disponibles\n",
        "per_class = min(len(df_test_norm), len(df_anom))\n",
        "\n",
        "df_test = pd.concat([\n",
        "    df_test_norm.sample(n=per_class, random_state=42),\n",
        "    df_anom.sample(n=per_class, random_state=42)\n",
        "], axis=0).sample(frac=1.0, random_state=42)\n",
        "\n",
        "prev_test = (df_test[\"is_anomaly\"] == 1).mean()\n",
        "\n",
        "df_train_norm.shape, df_val_norm.shape, df_test.shape, prev_test\n",
        "\n",
        "assert (df_train_norm[\"is_anomaly\"].sum()==0) and (df_val_norm[\"is_anomaly\"].sum()==0), \"Hay anómalos en train/val\"\n",
        "print(\"Test % anómalos:\", round((df_test[\"is_anomaly\"]==1).mean(), 4))"
      ],
      "metadata": {
        "colab": {
          "base_uri": "https://localhost:8080/"
        },
        "id": "5xn7nSewvW4Z",
        "outputId": "d3f1a8d3-5d96-46d2-906f-30505c1f365f"
      },
      "execution_count": 5,
      "outputs": [
        {
          "output_type": "stream",
          "name": "stdout",
          "text": [
            "Test % anómalos: 0.5\n"
          ]
        }
      ]
    },
    {
      "cell_type": "markdown",
      "source": [
        "Al ver los tamaños, podemos ver que nuestros conjuntos de datos fueron creados exitosamente. Sin embargo, nos podemos dar cuenta que la sumatoria de todos sus tamaños es inferior al tamaño del dataset original. Esta fue una decisión que tomamos para poder mantener el balanceo de clases en el conjunto de prueba, de esta manera tenemos una distribución similar a la original y cercana al 50/50 para poder analizar mejor los modelos. Consideramos que la cantidad de datos en el conjunto de prueba es suficiente como para poder tomar esta decisión. Adicionalmente, podemos separar los conjuntos en sus X e Y."
      ],
      "metadata": {
        "id": "PESqwUxW_nLg"
      }
    },
    {
      "cell_type": "code",
      "source": [
        "X_cols = [c for c in df.columns if c not in [\"Cover_Type\", \"is_anomaly\"]]\n",
        "\n",
        "# Train/Val: SOLO normales\n",
        "X_train = df_train_norm[X_cols].to_numpy()\n",
        "y_train = df_train_norm[\"is_anomaly\"].to_numpy()\n",
        "\n",
        "X_val   = df_val_norm[X_cols].to_numpy()\n",
        "y_val   = df_val_norm[\"is_anomaly\"].to_numpy()\n",
        "\n",
        "# Test: mixto (50/50 por construcción)\n",
        "X_test  = df_test[X_cols].to_numpy()\n",
        "y_test  = df_test[\"is_anomaly\"].to_numpy()\n",
        "\n",
        "# Input size para el Autoencoder (y demás modelos)\n",
        "input_dim = X_train.shape[1]"
      ],
      "metadata": {
        "id": "J9pPs4rIA4vd"
      },
      "execution_count": 6,
      "outputs": []
    },
    {
      "cell_type": "markdown",
      "source": [
        "## 4. Modelo de Autocodificador"
      ],
      "metadata": {
        "id": "RNdI0AthwHt7"
      }
    },
    {
      "cell_type": "markdown",
      "source": [
        "### Encoder Simétrico\n",
        "El encoder se entrena únicamente con observaciones normales para aprender una representación compacta de la “normalidad”. Su objetivo es capturar las regularidades y descartar ruido, de modo que ejemplos típicos queden bien representados en el espacio latente mientras que casos atípicos queden mal codificados. Esto favorece que, más adelante, las muestras alejadas de la distribución aprendida produzcan errores mayores al reconstruirse."
      ],
      "metadata": {
        "id": "QJiIbLYQwMF9"
      }
    },
    {
      "cell_type": "code",
      "source": [
        "from tensorflow import keras\n",
        "from tensorflow.keras import layers, regularizers\n",
        "\n",
        "input_dim = X_train.shape[1]\n",
        "\n",
        "hidden_dims = [256, 128, 64]  # más capacidad\n",
        "bottleneck = 32\n",
        "dropout_rate = 0.1\n",
        "\n",
        "inputs = keras.Input(shape=(input_dim,), name=\"input\")\n",
        "x = inputs\n",
        "for h in hidden_dims:\n",
        "    x = layers.Dense(h, activation=\"relu\",\n",
        "                     kernel_regularizer=regularizers.l2(1e-5))(x)\n",
        "    x = layers.BatchNormalization()(x)\n",
        "    if dropout_rate > 0:\n",
        "        x = layers.Dropout(dropout_rate)(x)\n",
        "\n",
        "z = layers.Dense(bottleneck, activation=\"relu\", name=\"bottleneck\")(x)\n",
        "\n",
        "x = z\n",
        "for h in reversed(hidden_dims):\n",
        "    x = layers.Dense(h, activation=\"relu\",\n",
        "                     kernel_regularizer=regularizers.l2(1e-5))(x)\n",
        "    x = layers.BatchNormalization()(x)\n",
        "\n",
        "outputs = layers.Dense(input_dim, activation=\"linear\", name=\"reconstruction\")(x)\n",
        "\n",
        "autoencoder = keras.Model(inputs, outputs, name=\"autoencoder\")\n",
        "\n",
        "\n",
        "autoencoder.summary()"
      ],
      "metadata": {
        "colab": {
          "base_uri": "https://localhost:8080/",
          "height": 866
        },
        "id": "2BMzqkmYwJzj",
        "outputId": "9af5c85b-068c-4c8a-ead5-470bd9cc599f"
      },
      "execution_count": 7,
      "outputs": [
        {
          "output_type": "display_data",
          "data": {
            "text/plain": [
              "\u001b[1mModel: \"autoencoder\"\u001b[0m\n"
            ],
            "text/html": [
              "<pre style=\"white-space:pre;overflow-x:auto;line-height:normal;font-family:Menlo,'DejaVu Sans Mono',consolas,'Courier New',monospace\"><span style=\"font-weight: bold\">Model: \"autoencoder\"</span>\n",
              "</pre>\n"
            ]
          },
          "metadata": {}
        },
        {
          "output_type": "display_data",
          "data": {
            "text/plain": [
              "┏━━━━━━━━━━━━━━━━━━━━━━━━━━━━━━━━━┳━━━━━━━━━━━━━━━━━━━━━━━━┳━━━━━━━━━━━━━━━┓\n",
              "┃\u001b[1m \u001b[0m\u001b[1mLayer (type)                   \u001b[0m\u001b[1m \u001b[0m┃\u001b[1m \u001b[0m\u001b[1mOutput Shape          \u001b[0m\u001b[1m \u001b[0m┃\u001b[1m \u001b[0m\u001b[1m      Param #\u001b[0m\u001b[1m \u001b[0m┃\n",
              "┡━━━━━━━━━━━━━━━━━━━━━━━━━━━━━━━━━╇━━━━━━━━━━━━━━━━━━━━━━━━╇━━━━━━━━━━━━━━━┩\n",
              "│ input (\u001b[38;5;33mInputLayer\u001b[0m)              │ (\u001b[38;5;45mNone\u001b[0m, \u001b[38;5;34m54\u001b[0m)             │             \u001b[38;5;34m0\u001b[0m │\n",
              "├─────────────────────────────────┼────────────────────────┼───────────────┤\n",
              "│ dense (\u001b[38;5;33mDense\u001b[0m)                   │ (\u001b[38;5;45mNone\u001b[0m, \u001b[38;5;34m256\u001b[0m)            │        \u001b[38;5;34m14,080\u001b[0m │\n",
              "├─────────────────────────────────┼────────────────────────┼───────────────┤\n",
              "│ batch_normalization             │ (\u001b[38;5;45mNone\u001b[0m, \u001b[38;5;34m256\u001b[0m)            │         \u001b[38;5;34m1,024\u001b[0m │\n",
              "│ (\u001b[38;5;33mBatchNormalization\u001b[0m)            │                        │               │\n",
              "├─────────────────────────────────┼────────────────────────┼───────────────┤\n",
              "│ dropout (\u001b[38;5;33mDropout\u001b[0m)               │ (\u001b[38;5;45mNone\u001b[0m, \u001b[38;5;34m256\u001b[0m)            │             \u001b[38;5;34m0\u001b[0m │\n",
              "├─────────────────────────────────┼────────────────────────┼───────────────┤\n",
              "│ dense_1 (\u001b[38;5;33mDense\u001b[0m)                 │ (\u001b[38;5;45mNone\u001b[0m, \u001b[38;5;34m128\u001b[0m)            │        \u001b[38;5;34m32,896\u001b[0m │\n",
              "├─────────────────────────────────┼────────────────────────┼───────────────┤\n",
              "│ batch_normalization_1           │ (\u001b[38;5;45mNone\u001b[0m, \u001b[38;5;34m128\u001b[0m)            │           \u001b[38;5;34m512\u001b[0m │\n",
              "│ (\u001b[38;5;33mBatchNormalization\u001b[0m)            │                        │               │\n",
              "├─────────────────────────────────┼────────────────────────┼───────────────┤\n",
              "│ dropout_1 (\u001b[38;5;33mDropout\u001b[0m)             │ (\u001b[38;5;45mNone\u001b[0m, \u001b[38;5;34m128\u001b[0m)            │             \u001b[38;5;34m0\u001b[0m │\n",
              "├─────────────────────────────────┼────────────────────────┼───────────────┤\n",
              "│ dense_2 (\u001b[38;5;33mDense\u001b[0m)                 │ (\u001b[38;5;45mNone\u001b[0m, \u001b[38;5;34m64\u001b[0m)             │         \u001b[38;5;34m8,256\u001b[0m │\n",
              "├─────────────────────────────────┼────────────────────────┼───────────────┤\n",
              "│ batch_normalization_2           │ (\u001b[38;5;45mNone\u001b[0m, \u001b[38;5;34m64\u001b[0m)             │           \u001b[38;5;34m256\u001b[0m │\n",
              "│ (\u001b[38;5;33mBatchNormalization\u001b[0m)            │                        │               │\n",
              "├─────────────────────────────────┼────────────────────────┼───────────────┤\n",
              "│ dropout_2 (\u001b[38;5;33mDropout\u001b[0m)             │ (\u001b[38;5;45mNone\u001b[0m, \u001b[38;5;34m64\u001b[0m)             │             \u001b[38;5;34m0\u001b[0m │\n",
              "├─────────────────────────────────┼────────────────────────┼───────────────┤\n",
              "│ bottleneck (\u001b[38;5;33mDense\u001b[0m)              │ (\u001b[38;5;45mNone\u001b[0m, \u001b[38;5;34m32\u001b[0m)             │         \u001b[38;5;34m2,080\u001b[0m │\n",
              "├─────────────────────────────────┼────────────────────────┼───────────────┤\n",
              "│ dense_3 (\u001b[38;5;33mDense\u001b[0m)                 │ (\u001b[38;5;45mNone\u001b[0m, \u001b[38;5;34m64\u001b[0m)             │         \u001b[38;5;34m2,112\u001b[0m │\n",
              "├─────────────────────────────────┼────────────────────────┼───────────────┤\n",
              "│ batch_normalization_3           │ (\u001b[38;5;45mNone\u001b[0m, \u001b[38;5;34m64\u001b[0m)             │           \u001b[38;5;34m256\u001b[0m │\n",
              "│ (\u001b[38;5;33mBatchNormalization\u001b[0m)            │                        │               │\n",
              "├─────────────────────────────────┼────────────────────────┼───────────────┤\n",
              "│ dense_4 (\u001b[38;5;33mDense\u001b[0m)                 │ (\u001b[38;5;45mNone\u001b[0m, \u001b[38;5;34m128\u001b[0m)            │         \u001b[38;5;34m8,320\u001b[0m │\n",
              "├─────────────────────────────────┼────────────────────────┼───────────────┤\n",
              "│ batch_normalization_4           │ (\u001b[38;5;45mNone\u001b[0m, \u001b[38;5;34m128\u001b[0m)            │           \u001b[38;5;34m512\u001b[0m │\n",
              "│ (\u001b[38;5;33mBatchNormalization\u001b[0m)            │                        │               │\n",
              "├─────────────────────────────────┼────────────────────────┼───────────────┤\n",
              "│ dense_5 (\u001b[38;5;33mDense\u001b[0m)                 │ (\u001b[38;5;45mNone\u001b[0m, \u001b[38;5;34m256\u001b[0m)            │        \u001b[38;5;34m33,024\u001b[0m │\n",
              "├─────────────────────────────────┼────────────────────────┼───────────────┤\n",
              "│ batch_normalization_5           │ (\u001b[38;5;45mNone\u001b[0m, \u001b[38;5;34m256\u001b[0m)            │         \u001b[38;5;34m1,024\u001b[0m │\n",
              "│ (\u001b[38;5;33mBatchNormalization\u001b[0m)            │                        │               │\n",
              "├─────────────────────────────────┼────────────────────────┼───────────────┤\n",
              "│ reconstruction (\u001b[38;5;33mDense\u001b[0m)          │ (\u001b[38;5;45mNone\u001b[0m, \u001b[38;5;34m54\u001b[0m)             │        \u001b[38;5;34m13,878\u001b[0m │\n",
              "└─────────────────────────────────┴────────────────────────┴───────────────┘\n"
            ],
            "text/html": [
              "<pre style=\"white-space:pre;overflow-x:auto;line-height:normal;font-family:Menlo,'DejaVu Sans Mono',consolas,'Courier New',monospace\">┏━━━━━━━━━━━━━━━━━━━━━━━━━━━━━━━━━┳━━━━━━━━━━━━━━━━━━━━━━━━┳━━━━━━━━━━━━━━━┓\n",
              "┃<span style=\"font-weight: bold\"> Layer (type)                    </span>┃<span style=\"font-weight: bold\"> Output Shape           </span>┃<span style=\"font-weight: bold\">       Param # </span>┃\n",
              "┡━━━━━━━━━━━━━━━━━━━━━━━━━━━━━━━━━╇━━━━━━━━━━━━━━━━━━━━━━━━╇━━━━━━━━━━━━━━━┩\n",
              "│ input (<span style=\"color: #0087ff; text-decoration-color: #0087ff\">InputLayer</span>)              │ (<span style=\"color: #00d7ff; text-decoration-color: #00d7ff\">None</span>, <span style=\"color: #00af00; text-decoration-color: #00af00\">54</span>)             │             <span style=\"color: #00af00; text-decoration-color: #00af00\">0</span> │\n",
              "├─────────────────────────────────┼────────────────────────┼───────────────┤\n",
              "│ dense (<span style=\"color: #0087ff; text-decoration-color: #0087ff\">Dense</span>)                   │ (<span style=\"color: #00d7ff; text-decoration-color: #00d7ff\">None</span>, <span style=\"color: #00af00; text-decoration-color: #00af00\">256</span>)            │        <span style=\"color: #00af00; text-decoration-color: #00af00\">14,080</span> │\n",
              "├─────────────────────────────────┼────────────────────────┼───────────────┤\n",
              "│ batch_normalization             │ (<span style=\"color: #00d7ff; text-decoration-color: #00d7ff\">None</span>, <span style=\"color: #00af00; text-decoration-color: #00af00\">256</span>)            │         <span style=\"color: #00af00; text-decoration-color: #00af00\">1,024</span> │\n",
              "│ (<span style=\"color: #0087ff; text-decoration-color: #0087ff\">BatchNormalization</span>)            │                        │               │\n",
              "├─────────────────────────────────┼────────────────────────┼───────────────┤\n",
              "│ dropout (<span style=\"color: #0087ff; text-decoration-color: #0087ff\">Dropout</span>)               │ (<span style=\"color: #00d7ff; text-decoration-color: #00d7ff\">None</span>, <span style=\"color: #00af00; text-decoration-color: #00af00\">256</span>)            │             <span style=\"color: #00af00; text-decoration-color: #00af00\">0</span> │\n",
              "├─────────────────────────────────┼────────────────────────┼───────────────┤\n",
              "│ dense_1 (<span style=\"color: #0087ff; text-decoration-color: #0087ff\">Dense</span>)                 │ (<span style=\"color: #00d7ff; text-decoration-color: #00d7ff\">None</span>, <span style=\"color: #00af00; text-decoration-color: #00af00\">128</span>)            │        <span style=\"color: #00af00; text-decoration-color: #00af00\">32,896</span> │\n",
              "├─────────────────────────────────┼────────────────────────┼───────────────┤\n",
              "│ batch_normalization_1           │ (<span style=\"color: #00d7ff; text-decoration-color: #00d7ff\">None</span>, <span style=\"color: #00af00; text-decoration-color: #00af00\">128</span>)            │           <span style=\"color: #00af00; text-decoration-color: #00af00\">512</span> │\n",
              "│ (<span style=\"color: #0087ff; text-decoration-color: #0087ff\">BatchNormalization</span>)            │                        │               │\n",
              "├─────────────────────────────────┼────────────────────────┼───────────────┤\n",
              "│ dropout_1 (<span style=\"color: #0087ff; text-decoration-color: #0087ff\">Dropout</span>)             │ (<span style=\"color: #00d7ff; text-decoration-color: #00d7ff\">None</span>, <span style=\"color: #00af00; text-decoration-color: #00af00\">128</span>)            │             <span style=\"color: #00af00; text-decoration-color: #00af00\">0</span> │\n",
              "├─────────────────────────────────┼────────────────────────┼───────────────┤\n",
              "│ dense_2 (<span style=\"color: #0087ff; text-decoration-color: #0087ff\">Dense</span>)                 │ (<span style=\"color: #00d7ff; text-decoration-color: #00d7ff\">None</span>, <span style=\"color: #00af00; text-decoration-color: #00af00\">64</span>)             │         <span style=\"color: #00af00; text-decoration-color: #00af00\">8,256</span> │\n",
              "├─────────────────────────────────┼────────────────────────┼───────────────┤\n",
              "│ batch_normalization_2           │ (<span style=\"color: #00d7ff; text-decoration-color: #00d7ff\">None</span>, <span style=\"color: #00af00; text-decoration-color: #00af00\">64</span>)             │           <span style=\"color: #00af00; text-decoration-color: #00af00\">256</span> │\n",
              "│ (<span style=\"color: #0087ff; text-decoration-color: #0087ff\">BatchNormalization</span>)            │                        │               │\n",
              "├─────────────────────────────────┼────────────────────────┼───────────────┤\n",
              "│ dropout_2 (<span style=\"color: #0087ff; text-decoration-color: #0087ff\">Dropout</span>)             │ (<span style=\"color: #00d7ff; text-decoration-color: #00d7ff\">None</span>, <span style=\"color: #00af00; text-decoration-color: #00af00\">64</span>)             │             <span style=\"color: #00af00; text-decoration-color: #00af00\">0</span> │\n",
              "├─────────────────────────────────┼────────────────────────┼───────────────┤\n",
              "│ bottleneck (<span style=\"color: #0087ff; text-decoration-color: #0087ff\">Dense</span>)              │ (<span style=\"color: #00d7ff; text-decoration-color: #00d7ff\">None</span>, <span style=\"color: #00af00; text-decoration-color: #00af00\">32</span>)             │         <span style=\"color: #00af00; text-decoration-color: #00af00\">2,080</span> │\n",
              "├─────────────────────────────────┼────────────────────────┼───────────────┤\n",
              "│ dense_3 (<span style=\"color: #0087ff; text-decoration-color: #0087ff\">Dense</span>)                 │ (<span style=\"color: #00d7ff; text-decoration-color: #00d7ff\">None</span>, <span style=\"color: #00af00; text-decoration-color: #00af00\">64</span>)             │         <span style=\"color: #00af00; text-decoration-color: #00af00\">2,112</span> │\n",
              "├─────────────────────────────────┼────────────────────────┼───────────────┤\n",
              "│ batch_normalization_3           │ (<span style=\"color: #00d7ff; text-decoration-color: #00d7ff\">None</span>, <span style=\"color: #00af00; text-decoration-color: #00af00\">64</span>)             │           <span style=\"color: #00af00; text-decoration-color: #00af00\">256</span> │\n",
              "│ (<span style=\"color: #0087ff; text-decoration-color: #0087ff\">BatchNormalization</span>)            │                        │               │\n",
              "├─────────────────────────────────┼────────────────────────┼───────────────┤\n",
              "│ dense_4 (<span style=\"color: #0087ff; text-decoration-color: #0087ff\">Dense</span>)                 │ (<span style=\"color: #00d7ff; text-decoration-color: #00d7ff\">None</span>, <span style=\"color: #00af00; text-decoration-color: #00af00\">128</span>)            │         <span style=\"color: #00af00; text-decoration-color: #00af00\">8,320</span> │\n",
              "├─────────────────────────────────┼────────────────────────┼───────────────┤\n",
              "│ batch_normalization_4           │ (<span style=\"color: #00d7ff; text-decoration-color: #00d7ff\">None</span>, <span style=\"color: #00af00; text-decoration-color: #00af00\">128</span>)            │           <span style=\"color: #00af00; text-decoration-color: #00af00\">512</span> │\n",
              "│ (<span style=\"color: #0087ff; text-decoration-color: #0087ff\">BatchNormalization</span>)            │                        │               │\n",
              "├─────────────────────────────────┼────────────────────────┼───────────────┤\n",
              "│ dense_5 (<span style=\"color: #0087ff; text-decoration-color: #0087ff\">Dense</span>)                 │ (<span style=\"color: #00d7ff; text-decoration-color: #00d7ff\">None</span>, <span style=\"color: #00af00; text-decoration-color: #00af00\">256</span>)            │        <span style=\"color: #00af00; text-decoration-color: #00af00\">33,024</span> │\n",
              "├─────────────────────────────────┼────────────────────────┼───────────────┤\n",
              "│ batch_normalization_5           │ (<span style=\"color: #00d7ff; text-decoration-color: #00d7ff\">None</span>, <span style=\"color: #00af00; text-decoration-color: #00af00\">256</span>)            │         <span style=\"color: #00af00; text-decoration-color: #00af00\">1,024</span> │\n",
              "│ (<span style=\"color: #0087ff; text-decoration-color: #0087ff\">BatchNormalization</span>)            │                        │               │\n",
              "├─────────────────────────────────┼────────────────────────┼───────────────┤\n",
              "│ reconstruction (<span style=\"color: #0087ff; text-decoration-color: #0087ff\">Dense</span>)          │ (<span style=\"color: #00d7ff; text-decoration-color: #00d7ff\">None</span>, <span style=\"color: #00af00; text-decoration-color: #00af00\">54</span>)             │        <span style=\"color: #00af00; text-decoration-color: #00af00\">13,878</span> │\n",
              "└─────────────────────────────────┴────────────────────────┴───────────────┘\n",
              "</pre>\n"
            ]
          },
          "metadata": {}
        },
        {
          "output_type": "display_data",
          "data": {
            "text/plain": [
              "\u001b[1m Total params: \u001b[0m\u001b[38;5;34m118,230\u001b[0m (461.84 KB)\n"
            ],
            "text/html": [
              "<pre style=\"white-space:pre;overflow-x:auto;line-height:normal;font-family:Menlo,'DejaVu Sans Mono',consolas,'Courier New',monospace\"><span style=\"font-weight: bold\"> Total params: </span><span style=\"color: #00af00; text-decoration-color: #00af00\">118,230</span> (461.84 KB)\n",
              "</pre>\n"
            ]
          },
          "metadata": {}
        },
        {
          "output_type": "display_data",
          "data": {
            "text/plain": [
              "\u001b[1m Trainable params: \u001b[0m\u001b[38;5;34m116,438\u001b[0m (454.84 KB)\n"
            ],
            "text/html": [
              "<pre style=\"white-space:pre;overflow-x:auto;line-height:normal;font-family:Menlo,'DejaVu Sans Mono',consolas,'Courier New',monospace\"><span style=\"font-weight: bold\"> Trainable params: </span><span style=\"color: #00af00; text-decoration-color: #00af00\">116,438</span> (454.84 KB)\n",
              "</pre>\n"
            ]
          },
          "metadata": {}
        },
        {
          "output_type": "display_data",
          "data": {
            "text/plain": [
              "\u001b[1m Non-trainable params: \u001b[0m\u001b[38;5;34m1,792\u001b[0m (7.00 KB)\n"
            ],
            "text/html": [
              "<pre style=\"white-space:pre;overflow-x:auto;line-height:normal;font-family:Menlo,'DejaVu Sans Mono',consolas,'Courier New',monospace\"><span style=\"font-weight: bold\"> Non-trainable params: </span><span style=\"color: #00af00; text-decoration-color: #00af00\">1,792</span> (7.00 KB)\n",
              "</pre>\n"
            ]
          },
          "metadata": {}
        }
      ]
    },
    {
      "cell_type": "markdown",
      "source": [
        "### Compilación\n",
        "Compilamos el modelo con **Adam** y **MSE** como pérdida/métrica para optimizar la reconstrucción. Usamos **early stopping** monitoreando `val_loss` para detener cuando ya no mejora (paciencia 5) y **restaurar los mejores pesos**, evitando sobreajuste. Además, aplicamos **ReduceLROnPlateau** para **bajar la tasa de aprendizaje** si la validación se estanca, estabilizando el entrenamiento y mejorando la convergencia."
      ],
      "metadata": {
        "id": "CBkPhnVUwPvE"
      }
    },
    {
      "cell_type": "code",
      "source": [
        "autoencoder.compile(\n",
        "    optimizer=keras.optimizers.Adam(learning_rate=5e-4),\n",
        "    loss=\"mse\",\n",
        "    metrics=[\"mse\"]\n",
        ")\n",
        "\n",
        "early_stop = keras.callbacks.EarlyStopping(\n",
        "    monitor=\"val_loss\", patience=7, mode=\"min\", restore_best_weights=True\n",
        ")\n",
        "reduce_lr = keras.callbacks.ReduceLROnPlateau(\n",
        "    monitor=\"val_loss\", factor=0.5, patience=3, verbose=1\n",
        ")"
      ],
      "metadata": {
        "id": "5tD6OREnwQ7m"
      },
      "execution_count": 8,
      "outputs": []
    },
    {
      "cell_type": "markdown",
      "source": [
        "### Entrenamiento\n",
        "Entrenamos el autoencoder con un tamaño de lote 1024 y hasta 100 épocas, confiando en early stopping y reducción de LR para evitar sobreajuste y estabilizar la convergencia. El entrenamiento usa solo normales (input=target) y valida también con normales, coherente con el objetivo de aprender la normalidad. El mejor val_loss (MSE) nos servirá luego para calibrar el umbral de detección y comparar configuraciones de modelo."
      ],
      "metadata": {
        "id": "H57HWCN2wTzj"
      }
    },
    {
      "cell_type": "code",
      "source": [
        "batch_size = 1024\n",
        "epochs = 100\n",
        "\n",
        "history = autoencoder.fit(\n",
        "    X_train, X_train,\n",
        "    validation_data=(X_val, X_val),\n",
        "    epochs=epochs,\n",
        "    batch_size=batch_size,\n",
        "    callbacks=[early_stop, reduce_lr],\n",
        "    verbose=1\n",
        ")\n",
        "\n",
        "print(\"Best val_loss:\", min(history.history[\"val_loss\"]))"
      ],
      "metadata": {
        "colab": {
          "base_uri": "https://localhost:8080/"
        },
        "id": "2XbkRFQCwUv6",
        "outputId": "a81842b9-f035-40eb-df51-66dcff375b5a"
      },
      "execution_count": 9,
      "outputs": [
        {
          "output_type": "stream",
          "name": "stdout",
          "text": [
            "Epoch 1/100\n",
            "\u001b[1m155/155\u001b[0m \u001b[32m━━━━━━━━━━━━━━━━━━━━\u001b[0m\u001b[37m\u001b[0m \u001b[1m17s\u001b[0m 48ms/step - loss: 0.5903 - mse: 0.5838 - val_loss: 0.1246 - val_mse: 0.1182 - learning_rate: 5.0000e-04\n",
            "Epoch 2/100\n",
            "\u001b[1m155/155\u001b[0m \u001b[32m━━━━━━━━━━━━━━━━━━━━\u001b[0m\u001b[37m\u001b[0m \u001b[1m1s\u001b[0m 5ms/step - loss: 0.0710 - mse: 0.0647 - val_loss: 0.0622 - val_mse: 0.0559 - learning_rate: 5.0000e-04\n",
            "Epoch 3/100\n",
            "\u001b[1m155/155\u001b[0m \u001b[32m━━━━━━━━━━━━━━━━━━━━\u001b[0m\u001b[37m\u001b[0m \u001b[1m1s\u001b[0m 5ms/step - loss: 0.0551 - mse: 0.0488 - val_loss: 0.0418 - val_mse: 0.0355 - learning_rate: 5.0000e-04\n",
            "Epoch 4/100\n",
            "\u001b[1m155/155\u001b[0m \u001b[32m━━━━━━━━━━━━━━━━━━━━\u001b[0m\u001b[37m\u001b[0m \u001b[1m1s\u001b[0m 5ms/step - loss: 0.0472 - mse: 0.0410 - val_loss: 0.0354 - val_mse: 0.0292 - learning_rate: 5.0000e-04\n",
            "Epoch 5/100\n",
            "\u001b[1m155/155\u001b[0m \u001b[32m━━━━━━━━━━━━━━━━━━━━\u001b[0m\u001b[37m\u001b[0m \u001b[1m1s\u001b[0m 5ms/step - loss: 0.0419 - mse: 0.0357 - val_loss: 0.0308 - val_mse: 0.0247 - learning_rate: 5.0000e-04\n",
            "Epoch 6/100\n",
            "\u001b[1m155/155\u001b[0m \u001b[32m━━━━━━━━━━━━━━━━━━━━\u001b[0m\u001b[37m\u001b[0m \u001b[1m1s\u001b[0m 6ms/step - loss: 0.0376 - mse: 0.0315 - val_loss: 0.0271 - val_mse: 0.0211 - learning_rate: 5.0000e-04\n",
            "Epoch 7/100\n",
            "\u001b[1m155/155\u001b[0m \u001b[32m━━━━━━━━━━━━━━━━━━━━\u001b[0m\u001b[37m\u001b[0m \u001b[1m1s\u001b[0m 7ms/step - loss: 0.0343 - mse: 0.0283 - val_loss: 0.0247 - val_mse: 0.0187 - learning_rate: 5.0000e-04\n",
            "Epoch 8/100\n",
            "\u001b[1m155/155\u001b[0m \u001b[32m━━━━━━━━━━━━━━━━━━━━\u001b[0m\u001b[37m\u001b[0m \u001b[1m1s\u001b[0m 6ms/step - loss: 0.0319 - mse: 0.0260 - val_loss: 0.0228 - val_mse: 0.0169 - learning_rate: 5.0000e-04\n",
            "Epoch 9/100\n",
            "\u001b[1m155/155\u001b[0m \u001b[32m━━━━━━━━━━━━━━━━━━━━\u001b[0m\u001b[37m\u001b[0m \u001b[1m1s\u001b[0m 6ms/step - loss: 0.0300 - mse: 0.0242 - val_loss: 0.0214 - val_mse: 0.0156 - learning_rate: 5.0000e-04\n",
            "Epoch 10/100\n",
            "\u001b[1m155/155\u001b[0m \u001b[32m━━━━━━━━━━━━━━━━━━━━\u001b[0m\u001b[37m\u001b[0m \u001b[1m1s\u001b[0m 6ms/step - loss: 0.0285 - mse: 0.0227 - val_loss: 0.0202 - val_mse: 0.0145 - learning_rate: 5.0000e-04\n",
            "Epoch 11/100\n",
            "\u001b[1m155/155\u001b[0m \u001b[32m━━━━━━━━━━━━━━━━━━━━\u001b[0m\u001b[37m\u001b[0m \u001b[1m1s\u001b[0m 6ms/step - loss: 0.0272 - mse: 0.0215 - val_loss: 0.0193 - val_mse: 0.0136 - learning_rate: 5.0000e-04\n",
            "Epoch 12/100\n",
            "\u001b[1m155/155\u001b[0m \u001b[32m━━━━━━━━━━━━━━━━━━━━\u001b[0m\u001b[37m\u001b[0m \u001b[1m1s\u001b[0m 6ms/step - loss: 0.0261 - mse: 0.0204 - val_loss: 0.0184 - val_mse: 0.0128 - learning_rate: 5.0000e-04\n",
            "Epoch 13/100\n",
            "\u001b[1m155/155\u001b[0m \u001b[32m━━━━━━━━━━━━━━━━━━━━\u001b[0m\u001b[37m\u001b[0m \u001b[1m1s\u001b[0m 5ms/step - loss: 0.0250 - mse: 0.0195 - val_loss: 0.0176 - val_mse: 0.0122 - learning_rate: 5.0000e-04\n",
            "Epoch 14/100\n",
            "\u001b[1m155/155\u001b[0m \u001b[32m━━━━━━━━━━━━━━━━━━━━\u001b[0m\u001b[37m\u001b[0m \u001b[1m1s\u001b[0m 5ms/step - loss: 0.0241 - mse: 0.0186 - val_loss: 0.0169 - val_mse: 0.0115 - learning_rate: 5.0000e-04\n",
            "Epoch 15/100\n",
            "\u001b[1m155/155\u001b[0m \u001b[32m━━━━━━━━━━━━━━━━━━━━\u001b[0m\u001b[37m\u001b[0m \u001b[1m1s\u001b[0m 6ms/step - loss: 0.0232 - mse: 0.0179 - val_loss: 0.0162 - val_mse: 0.0109 - learning_rate: 5.0000e-04\n",
            "Epoch 16/100\n",
            "\u001b[1m155/155\u001b[0m \u001b[32m━━━━━━━━━━━━━━━━━━━━\u001b[0m\u001b[37m\u001b[0m \u001b[1m1s\u001b[0m 6ms/step - loss: 0.0222 - mse: 0.0170 - val_loss: 0.0153 - val_mse: 0.0102 - learning_rate: 5.0000e-04\n",
            "Epoch 17/100\n",
            "\u001b[1m155/155\u001b[0m \u001b[32m━━━━━━━━━━━━━━━━━━━━\u001b[0m\u001b[37m\u001b[0m \u001b[1m1s\u001b[0m 6ms/step - loss: 0.0214 - mse: 0.0163 - val_loss: 0.0146 - val_mse: 0.0095 - learning_rate: 5.0000e-04\n",
            "Epoch 18/100\n",
            "\u001b[1m155/155\u001b[0m \u001b[32m━━━━━━━━━━━━━━━━━━━━\u001b[0m\u001b[37m\u001b[0m \u001b[1m1s\u001b[0m 6ms/step - loss: 0.0205 - mse: 0.0155 - val_loss: 0.0138 - val_mse: 0.0089 - learning_rate: 5.0000e-04\n",
            "Epoch 19/100\n",
            "\u001b[1m155/155\u001b[0m \u001b[32m━━━━━━━━━━━━━━━━━━━━\u001b[0m\u001b[37m\u001b[0m \u001b[1m1s\u001b[0m 7ms/step - loss: 0.0197 - mse: 0.0148 - val_loss: 0.0132 - val_mse: 0.0084 - learning_rate: 5.0000e-04\n",
            "Epoch 20/100\n",
            "\u001b[1m155/155\u001b[0m \u001b[32m━━━━━━━━━━━━━━━━━━━━\u001b[0m\u001b[37m\u001b[0m \u001b[1m1s\u001b[0m 7ms/step - loss: 0.0190 - mse: 0.0142 - val_loss: 0.0125 - val_mse: 0.0078 - learning_rate: 5.0000e-04\n",
            "Epoch 21/100\n",
            "\u001b[1m155/155\u001b[0m \u001b[32m━━━━━━━━━━━━━━━━━━━━\u001b[0m\u001b[37m\u001b[0m \u001b[1m1s\u001b[0m 6ms/step - loss: 0.0182 - mse: 0.0136 - val_loss: 0.0119 - val_mse: 0.0074 - learning_rate: 5.0000e-04\n",
            "Epoch 22/100\n",
            "\u001b[1m155/155\u001b[0m \u001b[32m━━━━━━━━━━━━━━━━━━━━\u001b[0m\u001b[37m\u001b[0m \u001b[1m1s\u001b[0m 6ms/step - loss: 0.0176 - mse: 0.0131 - val_loss: 0.0113 - val_mse: 0.0069 - learning_rate: 5.0000e-04\n",
            "Epoch 23/100\n",
            "\u001b[1m155/155\u001b[0m \u001b[32m━━━━━━━━━━━━━━━━━━━━\u001b[0m\u001b[37m\u001b[0m \u001b[1m1s\u001b[0m 6ms/step - loss: 0.0169 - mse: 0.0125 - val_loss: 0.0109 - val_mse: 0.0066 - learning_rate: 5.0000e-04\n",
            "Epoch 24/100\n",
            "\u001b[1m155/155\u001b[0m \u001b[32m━━━━━━━━━━━━━━━━━━━━\u001b[0m\u001b[37m\u001b[0m \u001b[1m1s\u001b[0m 6ms/step - loss: 0.0164 - mse: 0.0121 - val_loss: 0.0104 - val_mse: 0.0062 - learning_rate: 5.0000e-04\n",
            "Epoch 25/100\n",
            "\u001b[1m155/155\u001b[0m \u001b[32m━━━━━━━━━━━━━━━━━━━━\u001b[0m\u001b[37m\u001b[0m \u001b[1m1s\u001b[0m 6ms/step - loss: 0.0158 - mse: 0.0116 - val_loss: 0.0100 - val_mse: 0.0060 - learning_rate: 5.0000e-04\n",
            "Epoch 26/100\n",
            "\u001b[1m155/155\u001b[0m \u001b[32m━━━━━━━━━━━━━━━━━━━━\u001b[0m\u001b[37m\u001b[0m \u001b[1m1s\u001b[0m 6ms/step - loss: 0.0152 - mse: 0.0112 - val_loss: 0.0096 - val_mse: 0.0057 - learning_rate: 5.0000e-04\n",
            "Epoch 27/100\n",
            "\u001b[1m155/155\u001b[0m \u001b[32m━━━━━━━━━━━━━━━━━━━━\u001b[0m\u001b[37m\u001b[0m \u001b[1m1s\u001b[0m 6ms/step - loss: 0.0147 - mse: 0.0108 - val_loss: 0.0091 - val_mse: 0.0054 - learning_rate: 5.0000e-04\n",
            "Epoch 28/100\n",
            "\u001b[1m155/155\u001b[0m \u001b[32m━━━━━━━━━━━━━━━━━━━━\u001b[0m\u001b[37m\u001b[0m \u001b[1m1s\u001b[0m 6ms/step - loss: 0.0141 - mse: 0.0104 - val_loss: 0.0087 - val_mse: 0.0051 - learning_rate: 5.0000e-04\n",
            "Epoch 29/100\n",
            "\u001b[1m155/155\u001b[0m \u001b[32m━━━━━━━━━━━━━━━━━━━━\u001b[0m\u001b[37m\u001b[0m \u001b[1m1s\u001b[0m 6ms/step - loss: 0.0137 - mse: 0.0101 - val_loss: 0.0084 - val_mse: 0.0049 - learning_rate: 5.0000e-04\n",
            "Epoch 30/100\n",
            "\u001b[1m155/155\u001b[0m \u001b[32m━━━━━━━━━━━━━━━━━━━━\u001b[0m\u001b[37m\u001b[0m \u001b[1m1s\u001b[0m 6ms/step - loss: 0.0132 - mse: 0.0098 - val_loss: 0.0081 - val_mse: 0.0047 - learning_rate: 5.0000e-04\n",
            "Epoch 31/100\n",
            "\u001b[1m155/155\u001b[0m \u001b[32m━━━━━━━━━━━━━━━━━━━━\u001b[0m\u001b[37m\u001b[0m \u001b[1m1s\u001b[0m 6ms/step - loss: 0.0127 - mse: 0.0094 - val_loss: 0.0078 - val_mse: 0.0046 - learning_rate: 5.0000e-04\n",
            "Epoch 32/100\n",
            "\u001b[1m155/155\u001b[0m \u001b[32m━━━━━━━━━━━━━━━━━━━━\u001b[0m\u001b[37m\u001b[0m \u001b[1m1s\u001b[0m 8ms/step - loss: 0.0123 - mse: 0.0091 - val_loss: 0.0074 - val_mse: 0.0043 - learning_rate: 5.0000e-04\n",
            "Epoch 33/100\n",
            "\u001b[1m155/155\u001b[0m \u001b[32m━━━━━━━━━━━━━━━━━━━━\u001b[0m\u001b[37m\u001b[0m \u001b[1m1s\u001b[0m 7ms/step - loss: 0.0119 - mse: 0.0089 - val_loss: 0.0073 - val_mse: 0.0043 - learning_rate: 5.0000e-04\n",
            "Epoch 34/100\n",
            "\u001b[1m155/155\u001b[0m \u001b[32m━━━━━━━━━━━━━━━━━━━━\u001b[0m\u001b[37m\u001b[0m \u001b[1m1s\u001b[0m 6ms/step - loss: 0.0115 - mse: 0.0086 - val_loss: 0.0070 - val_mse: 0.0041 - learning_rate: 5.0000e-04\n",
            "Epoch 35/100\n",
            "\u001b[1m155/155\u001b[0m \u001b[32m━━━━━━━━━━━━━━━━━━━━\u001b[0m\u001b[37m\u001b[0m \u001b[1m1s\u001b[0m 6ms/step - loss: 0.0111 - mse: 0.0083 - val_loss: 0.0067 - val_mse: 0.0040 - learning_rate: 5.0000e-04\n",
            "Epoch 36/100\n",
            "\u001b[1m155/155\u001b[0m \u001b[32m━━━━━━━━━━━━━━━━━━━━\u001b[0m\u001b[37m\u001b[0m \u001b[1m1s\u001b[0m 6ms/step - loss: 0.0108 - mse: 0.0081 - val_loss: 0.0065 - val_mse: 0.0039 - learning_rate: 5.0000e-04\n",
            "Epoch 37/100\n",
            "\u001b[1m155/155\u001b[0m \u001b[32m━━━━━━━━━━━━━━━━━━━━\u001b[0m\u001b[37m\u001b[0m \u001b[1m1s\u001b[0m 6ms/step - loss: 0.0104 - mse: 0.0079 - val_loss: 0.0063 - val_mse: 0.0038 - learning_rate: 5.0000e-04\n",
            "Epoch 38/100\n",
            "\u001b[1m155/155\u001b[0m \u001b[32m━━━━━━━━━━━━━━━━━━━━\u001b[0m\u001b[37m\u001b[0m \u001b[1m1s\u001b[0m 6ms/step - loss: 0.0101 - mse: 0.0076 - val_loss: 0.0061 - val_mse: 0.0037 - learning_rate: 5.0000e-04\n",
            "Epoch 39/100\n",
            "\u001b[1m155/155\u001b[0m \u001b[32m━━━━━━━━━━━━━━━━━━━━\u001b[0m\u001b[37m\u001b[0m \u001b[1m1s\u001b[0m 6ms/step - loss: 0.0098 - mse: 0.0075 - val_loss: 0.0059 - val_mse: 0.0036 - learning_rate: 5.0000e-04\n",
            "Epoch 40/100\n",
            "\u001b[1m155/155\u001b[0m \u001b[32m━━━━━━━━━━━━━━━━━━━━\u001b[0m\u001b[37m\u001b[0m \u001b[1m1s\u001b[0m 6ms/step - loss: 0.0095 - mse: 0.0073 - val_loss: 0.0057 - val_mse: 0.0035 - learning_rate: 5.0000e-04\n",
            "Epoch 41/100\n",
            "\u001b[1m155/155\u001b[0m \u001b[32m━━━━━━━━━━━━━━━━━━━━\u001b[0m\u001b[37m\u001b[0m \u001b[1m1s\u001b[0m 6ms/step - loss: 0.0092 - mse: 0.0071 - val_loss: 0.0055 - val_mse: 0.0034 - learning_rate: 5.0000e-04\n",
            "Epoch 42/100\n",
            "\u001b[1m155/155\u001b[0m \u001b[32m━━━━━━━━━━━━━━━━━━━━\u001b[0m\u001b[37m\u001b[0m \u001b[1m1s\u001b[0m 5ms/step - loss: 0.0089 - mse: 0.0069 - val_loss: 0.0053 - val_mse: 0.0032 - learning_rate: 5.0000e-04\n",
            "Epoch 43/100\n",
            "\u001b[1m155/155\u001b[0m \u001b[32m━━━━━━━━━━━━━━━━━━━━\u001b[0m\u001b[37m\u001b[0m \u001b[1m1s\u001b[0m 6ms/step - loss: 0.0087 - mse: 0.0067 - val_loss: 0.0050 - val_mse: 0.0030 - learning_rate: 5.0000e-04\n",
            "Epoch 44/100\n",
            "\u001b[1m155/155\u001b[0m \u001b[32m━━━━━━━━━━━━━━━━━━━━\u001b[0m\u001b[37m\u001b[0m \u001b[1m1s\u001b[0m 6ms/step - loss: 0.0085 - mse: 0.0066 - val_loss: 0.0049 - val_mse: 0.0030 - learning_rate: 5.0000e-04\n",
            "Epoch 45/100\n",
            "\u001b[1m155/155\u001b[0m \u001b[32m━━━━━━━━━━━━━━━━━━━━\u001b[0m\u001b[37m\u001b[0m \u001b[1m1s\u001b[0m 8ms/step - loss: 0.0083 - mse: 0.0064 - val_loss: 0.0047 - val_mse: 0.0029 - learning_rate: 5.0000e-04\n",
            "Epoch 46/100\n",
            "\u001b[1m155/155\u001b[0m \u001b[32m━━━━━━━━━━━━━━━━━━━━\u001b[0m\u001b[37m\u001b[0m \u001b[1m1s\u001b[0m 7ms/step - loss: 0.0080 - mse: 0.0063 - val_loss: 0.0046 - val_mse: 0.0029 - learning_rate: 5.0000e-04\n",
            "Epoch 47/100\n",
            "\u001b[1m155/155\u001b[0m \u001b[32m━━━━━━━━━━━━━━━━━━━━\u001b[0m\u001b[37m\u001b[0m \u001b[1m1s\u001b[0m 6ms/step - loss: 0.0079 - mse: 0.0062 - val_loss: 0.0044 - val_mse: 0.0027 - learning_rate: 5.0000e-04\n",
            "Epoch 48/100\n",
            "\u001b[1m155/155\u001b[0m \u001b[32m━━━━━━━━━━━━━━━━━━━━\u001b[0m\u001b[37m\u001b[0m \u001b[1m1s\u001b[0m 6ms/step - loss: 0.0077 - mse: 0.0060 - val_loss: 0.0042 - val_mse: 0.0026 - learning_rate: 5.0000e-04\n",
            "Epoch 49/100\n",
            "\u001b[1m155/155\u001b[0m \u001b[32m━━━━━━━━━━━━━━━━━━━━\u001b[0m\u001b[37m\u001b[0m \u001b[1m1s\u001b[0m 6ms/step - loss: 0.0075 - mse: 0.0059 - val_loss: 0.0042 - val_mse: 0.0026 - learning_rate: 5.0000e-04\n",
            "Epoch 50/100\n",
            "\u001b[1m155/155\u001b[0m \u001b[32m━━━━━━━━━━━━━━━━━━━━\u001b[0m\u001b[37m\u001b[0m \u001b[1m1s\u001b[0m 6ms/step - loss: 0.0074 - mse: 0.0058 - val_loss: 0.0040 - val_mse: 0.0025 - learning_rate: 5.0000e-04\n",
            "Epoch 51/100\n",
            "\u001b[1m155/155\u001b[0m \u001b[32m━━━━━━━━━━━━━━━━━━━━\u001b[0m\u001b[37m\u001b[0m \u001b[1m1s\u001b[0m 6ms/step - loss: 0.0071 - mse: 0.0056 - val_loss: 0.0038 - val_mse: 0.0024 - learning_rate: 5.0000e-04\n",
            "Epoch 52/100\n",
            "\u001b[1m155/155\u001b[0m \u001b[32m━━━━━━━━━━━━━━━━━━━━\u001b[0m\u001b[37m\u001b[0m \u001b[1m1s\u001b[0m 6ms/step - loss: 0.0070 - mse: 0.0055 - val_loss: 0.0037 - val_mse: 0.0023 - learning_rate: 5.0000e-04\n",
            "Epoch 53/100\n",
            "\u001b[1m155/155\u001b[0m \u001b[32m━━━━━━━━━━━━━━━━━━━━\u001b[0m\u001b[37m\u001b[0m \u001b[1m1s\u001b[0m 6ms/step - loss: 0.0068 - mse: 0.0054 - val_loss: 0.0035 - val_mse: 0.0022 - learning_rate: 5.0000e-04\n",
            "Epoch 54/100\n",
            "\u001b[1m155/155\u001b[0m \u001b[32m━━━━━━━━━━━━━━━━━━━━\u001b[0m\u001b[37m\u001b[0m \u001b[1m1s\u001b[0m 6ms/step - loss: 0.0067 - mse: 0.0053 - val_loss: 0.0035 - val_mse: 0.0022 - learning_rate: 5.0000e-04\n",
            "Epoch 55/100\n",
            "\u001b[1m155/155\u001b[0m \u001b[32m━━━━━━━━━━━━━━━━━━━━\u001b[0m\u001b[37m\u001b[0m \u001b[1m1s\u001b[0m 6ms/step - loss: 0.0066 - mse: 0.0053 - val_loss: 0.0034 - val_mse: 0.0021 - learning_rate: 5.0000e-04\n",
            "Epoch 56/100\n",
            "\u001b[1m155/155\u001b[0m \u001b[32m━━━━━━━━━━━━━━━━━━━━\u001b[0m\u001b[37m\u001b[0m \u001b[1m1s\u001b[0m 6ms/step - loss: 0.0064 - mse: 0.0051 - val_loss: 0.0033 - val_mse: 0.0020 - learning_rate: 5.0000e-04\n",
            "Epoch 57/100\n",
            "\u001b[1m155/155\u001b[0m \u001b[32m━━━━━━━━━━━━━━━━━━━━\u001b[0m\u001b[37m\u001b[0m \u001b[1m1s\u001b[0m 7ms/step - loss: 0.0063 - mse: 0.0050 - val_loss: 0.0032 - val_mse: 0.0019 - learning_rate: 5.0000e-04\n",
            "Epoch 58/100\n",
            "\u001b[1m155/155\u001b[0m \u001b[32m━━━━━━━━━━━━━━━━━━━━\u001b[0m\u001b[37m\u001b[0m \u001b[1m1s\u001b[0m 8ms/step - loss: 0.0062 - mse: 0.0049 - val_loss: 0.0031 - val_mse: 0.0019 - learning_rate: 5.0000e-04\n",
            "Epoch 59/100\n",
            "\u001b[1m155/155\u001b[0m \u001b[32m━━━━━━━━━━━━━━━━━━━━\u001b[0m\u001b[37m\u001b[0m \u001b[1m1s\u001b[0m 6ms/step - loss: 0.0060 - mse: 0.0048 - val_loss: 0.0030 - val_mse: 0.0018 - learning_rate: 5.0000e-04\n",
            "Epoch 60/100\n",
            "\u001b[1m155/155\u001b[0m \u001b[32m━━━━━━━━━━━━━━━━━━━━\u001b[0m\u001b[37m\u001b[0m \u001b[1m1s\u001b[0m 6ms/step - loss: 0.0059 - mse: 0.0048 - val_loss: 0.0029 - val_mse: 0.0018 - learning_rate: 5.0000e-04\n",
            "Epoch 61/100\n",
            "\u001b[1m155/155\u001b[0m \u001b[32m━━━━━━━━━━━━━━━━━━━━\u001b[0m\u001b[37m\u001b[0m \u001b[1m1s\u001b[0m 6ms/step - loss: 0.0058 - mse: 0.0047 - val_loss: 0.0028 - val_mse: 0.0017 - learning_rate: 5.0000e-04\n",
            "Epoch 62/100\n",
            "\u001b[1m155/155\u001b[0m \u001b[32m━━━━━━━━━━━━━━━━━━━━\u001b[0m\u001b[37m\u001b[0m \u001b[1m1s\u001b[0m 5ms/step - loss: 0.0057 - mse: 0.0046 - val_loss: 0.0027 - val_mse: 0.0016 - learning_rate: 5.0000e-04\n",
            "Epoch 63/100\n",
            "\u001b[1m155/155\u001b[0m \u001b[32m━━━━━━━━━━━━━━━━━━━━\u001b[0m\u001b[37m\u001b[0m \u001b[1m1s\u001b[0m 5ms/step - loss: 0.0056 - mse: 0.0045 - val_loss: 0.0028 - val_mse: 0.0017 - learning_rate: 5.0000e-04\n",
            "Epoch 64/100\n",
            "\u001b[1m147/155\u001b[0m \u001b[32m━━━━━━━━━━━━━━━━━━\u001b[0m\u001b[37m━━\u001b[0m \u001b[1m0s\u001b[0m 4ms/step - loss: 0.0055 - mse: 0.0044\n",
            "Epoch 64: ReduceLROnPlateau reducing learning rate to 0.0002500000118743628.\n",
            "\u001b[1m155/155\u001b[0m \u001b[32m━━━━━━━━━━━━━━━━━━━━\u001b[0m\u001b[37m\u001b[0m \u001b[1m1s\u001b[0m 5ms/step - loss: 0.0055 - mse: 0.0044 - val_loss: 0.0027 - val_mse: 0.0017 - learning_rate: 5.0000e-04\n",
            "Epoch 65/100\n",
            "\u001b[1m155/155\u001b[0m \u001b[32m━━━━━━━━━━━━━━━━━━━━\u001b[0m\u001b[37m\u001b[0m \u001b[1m1s\u001b[0m 6ms/step - loss: 0.0052 - mse: 0.0042 - val_loss: 0.0025 - val_mse: 0.0014 - learning_rate: 2.5000e-04\n",
            "Epoch 66/100\n",
            "\u001b[1m155/155\u001b[0m \u001b[32m━━━━━━━━━━━━━━━━━━━━\u001b[0m\u001b[37m\u001b[0m \u001b[1m1s\u001b[0m 6ms/step - loss: 0.0051 - mse: 0.0040 - val_loss: 0.0024 - val_mse: 0.0014 - learning_rate: 2.5000e-04\n",
            "Epoch 67/100\n",
            "\u001b[1m155/155\u001b[0m \u001b[32m━━━━━━━━━━━━━━━━━━━━\u001b[0m\u001b[37m\u001b[0m \u001b[1m1s\u001b[0m 6ms/step - loss: 0.0050 - mse: 0.0040 - val_loss: 0.0024 - val_mse: 0.0014 - learning_rate: 2.5000e-04\n",
            "Epoch 68/100\n",
            "\u001b[1m155/155\u001b[0m \u001b[32m━━━━━━━━━━━━━━━━━━━━\u001b[0m\u001b[37m\u001b[0m \u001b[1m1s\u001b[0m 6ms/step - loss: 0.0049 - mse: 0.0040 - val_loss: 0.0022 - val_mse: 0.0013 - learning_rate: 2.5000e-04\n",
            "Epoch 69/100\n",
            "\u001b[1m155/155\u001b[0m \u001b[32m━━━━━━━━━━━━━━━━━━━━\u001b[0m\u001b[37m\u001b[0m \u001b[1m1s\u001b[0m 6ms/step - loss: 0.0049 - mse: 0.0040 - val_loss: 0.0022 - val_mse: 0.0013 - learning_rate: 2.5000e-04\n",
            "Epoch 70/100\n",
            "\u001b[1m155/155\u001b[0m \u001b[32m━━━━━━━━━━━━━━━━━━━━\u001b[0m\u001b[37m\u001b[0m \u001b[1m1s\u001b[0m 8ms/step - loss: 0.0049 - mse: 0.0039 - val_loss: 0.0022 - val_mse: 0.0013 - learning_rate: 2.5000e-04\n",
            "Epoch 71/100\n",
            "\u001b[1m153/155\u001b[0m \u001b[32m━━━━━━━━━━━━━━━━━━━\u001b[0m\u001b[37m━\u001b[0m \u001b[1m0s\u001b[0m 6ms/step - loss: 0.0048 - mse: 0.0039\n",
            "Epoch 71: ReduceLROnPlateau reducing learning rate to 0.0001250000059371814.\n",
            "\u001b[1m155/155\u001b[0m \u001b[32m━━━━━━━━━━━━━━━━━━━━\u001b[0m\u001b[37m\u001b[0m \u001b[1m1s\u001b[0m 7ms/step - loss: 0.0048 - mse: 0.0039 - val_loss: 0.0022 - val_mse: 0.0012 - learning_rate: 2.5000e-04\n",
            "Epoch 72/100\n",
            "\u001b[1m155/155\u001b[0m \u001b[32m━━━━━━━━━━━━━━━━━━━━\u001b[0m\u001b[37m\u001b[0m \u001b[1m1s\u001b[0m 6ms/step - loss: 0.0047 - mse: 0.0037 - val_loss: 0.0019 - val_mse: 9.8314e-04 - learning_rate: 1.2500e-04\n",
            "Epoch 73/100\n",
            "\u001b[1m155/155\u001b[0m \u001b[32m━━━━━━━━━━━━━━━━━━━━\u001b[0m\u001b[37m\u001b[0m \u001b[1m1s\u001b[0m 6ms/step - loss: 0.0046 - mse: 0.0037 - val_loss: 0.0018 - val_mse: 9.4276e-04 - learning_rate: 1.2500e-04\n",
            "Epoch 74/100\n",
            "\u001b[1m155/155\u001b[0m \u001b[32m━━━━━━━━━━━━━━━━━━━━\u001b[0m\u001b[37m\u001b[0m \u001b[1m1s\u001b[0m 6ms/step - loss: 0.0046 - mse: 0.0037 - val_loss: 0.0019 - val_mse: 9.5684e-04 - learning_rate: 1.2500e-04\n",
            "Epoch 75/100\n",
            "\u001b[1m151/155\u001b[0m \u001b[32m━━━━━━━━━━━━━━━━━━━\u001b[0m\u001b[37m━\u001b[0m \u001b[1m0s\u001b[0m 4ms/step - loss: 0.0046 - mse: 0.0037\n",
            "Epoch 75: ReduceLROnPlateau reducing learning rate to 6.25000029685907e-05.\n",
            "\u001b[1m155/155\u001b[0m \u001b[32m━━━━━━━━━━━━━━━━━━━━\u001b[0m\u001b[37m\u001b[0m \u001b[1m1s\u001b[0m 6ms/step - loss: 0.0046 - mse: 0.0037 - val_loss: 0.0018 - val_mse: 9.3483e-04 - learning_rate: 1.2500e-04\n",
            "Epoch 76/100\n",
            "\u001b[1m155/155\u001b[0m \u001b[32m━━━━━━━━━━━━━━━━━━━━\u001b[0m\u001b[37m\u001b[0m \u001b[1m1s\u001b[0m 6ms/step - loss: 0.0045 - mse: 0.0036 - val_loss: 0.0017 - val_mse: 7.8633e-04 - learning_rate: 6.2500e-05\n",
            "Epoch 77/100\n",
            "\u001b[1m155/155\u001b[0m \u001b[32m━━━━━━━━━━━━━━━━━━━━\u001b[0m\u001b[37m\u001b[0m \u001b[1m1s\u001b[0m 6ms/step - loss: 0.0045 - mse: 0.0036 - val_loss: 0.0017 - val_mse: 7.7690e-04 - learning_rate: 6.2500e-05\n",
            "Epoch 78/100\n",
            "\u001b[1m155/155\u001b[0m \u001b[32m━━━━━━━━━━━━━━━━━━━━\u001b[0m\u001b[37m\u001b[0m \u001b[1m1s\u001b[0m 6ms/step - loss: 0.0044 - mse: 0.0036 - val_loss: 0.0017 - val_mse: 7.7524e-04 - learning_rate: 6.2500e-05\n",
            "Epoch 79/100\n",
            "\u001b[1m155/155\u001b[0m \u001b[32m━━━━━━━━━━━━━━━━━━━━\u001b[0m\u001b[37m\u001b[0m \u001b[1m0s\u001b[0m 4ms/step - loss: 0.0044 - mse: 0.0035\n",
            "Epoch 79: ReduceLROnPlateau reducing learning rate to 3.125000148429535e-05.\n",
            "\u001b[1m155/155\u001b[0m \u001b[32m━━━━━━━━━━━━━━━━━━━━\u001b[0m\u001b[37m\u001b[0m \u001b[1m1s\u001b[0m 6ms/step - loss: 0.0044 - mse: 0.0035 - val_loss: 0.0016 - val_mse: 7.6690e-04 - learning_rate: 6.2500e-05\n",
            "Epoch 80/100\n",
            "\u001b[1m155/155\u001b[0m \u001b[32m━━━━━━━━━━━━━━━━━━━━\u001b[0m\u001b[37m\u001b[0m \u001b[1m1s\u001b[0m 7ms/step - loss: 0.0044 - mse: 0.0035 - val_loss: 0.0016 - val_mse: 7.0082e-04 - learning_rate: 3.1250e-05\n",
            "Epoch 81/100\n",
            "\u001b[1m155/155\u001b[0m \u001b[32m━━━━━━━━━━━━━━━━━━━━\u001b[0m\u001b[37m\u001b[0m \u001b[1m1s\u001b[0m 6ms/step - loss: 0.0043 - mse: 0.0035 - val_loss: 0.0016 - val_mse: 6.8776e-04 - learning_rate: 3.1250e-05\n",
            "Epoch 82/100\n",
            "\u001b[1m155/155\u001b[0m \u001b[32m━━━━━━━━━━━━━━━━━━━━\u001b[0m\u001b[37m\u001b[0m \u001b[1m1s\u001b[0m 7ms/step - loss: 0.0043 - mse: 0.0035 - val_loss: 0.0016 - val_mse: 6.9334e-04 - learning_rate: 3.1250e-05\n",
            "Epoch 83/100\n",
            "\u001b[1m153/155\u001b[0m \u001b[32m━━━━━━━━━━━━━━━━━━━\u001b[0m\u001b[37m━\u001b[0m \u001b[1m0s\u001b[0m 6ms/step - loss: 0.0043 - mse: 0.0035\n",
            "Epoch 83: ReduceLROnPlateau reducing learning rate to 1.5625000742147677e-05.\n",
            "\u001b[1m155/155\u001b[0m \u001b[32m━━━━━━━━━━━━━━━━━━━━\u001b[0m\u001b[37m\u001b[0m \u001b[1m1s\u001b[0m 8ms/step - loss: 0.0043 - mse: 0.0035 - val_loss: 0.0016 - val_mse: 6.9619e-04 - learning_rate: 3.1250e-05\n",
            "Epoch 84/100\n",
            "\u001b[1m155/155\u001b[0m \u001b[32m━━━━━━━━━━━━━━━━━━━━\u001b[0m\u001b[37m\u001b[0m \u001b[1m1s\u001b[0m 6ms/step - loss: 0.0043 - mse: 0.0034 - val_loss: 0.0015 - val_mse: 6.4959e-04 - learning_rate: 1.5625e-05\n",
            "Epoch 85/100\n",
            "\u001b[1m155/155\u001b[0m \u001b[32m━━━━━━━━━━━━━━━━━━━━\u001b[0m\u001b[37m\u001b[0m \u001b[1m1s\u001b[0m 6ms/step - loss: 0.0043 - mse: 0.0034 - val_loss: 0.0015 - val_mse: 6.4898e-04 - learning_rate: 1.5625e-05\n",
            "Epoch 86/100\n",
            "\u001b[1m149/155\u001b[0m \u001b[32m━━━━━━━━━━━━━━━━━━━\u001b[0m\u001b[37m━\u001b[0m \u001b[1m0s\u001b[0m 5ms/step - loss: 0.0043 - mse: 0.0034\n",
            "Epoch 86: ReduceLROnPlateau reducing learning rate to 7.812500371073838e-06.\n",
            "\u001b[1m155/155\u001b[0m \u001b[32m━━━━━━━━━━━━━━━━━━━━\u001b[0m\u001b[37m\u001b[0m \u001b[1m1s\u001b[0m 6ms/step - loss: 0.0043 - mse: 0.0034 - val_loss: 0.0015 - val_mse: 6.5245e-04 - learning_rate: 1.5625e-05\n",
            "Epoch 87/100\n",
            "\u001b[1m155/155\u001b[0m \u001b[32m━━━━━━━━━━━━━━━━━━━━\u001b[0m\u001b[37m\u001b[0m \u001b[1m1s\u001b[0m 6ms/step - loss: 0.0043 - mse: 0.0034 - val_loss: 0.0015 - val_mse: 6.3566e-04 - learning_rate: 7.8125e-06\n",
            "Epoch 88/100\n",
            "\u001b[1m155/155\u001b[0m \u001b[32m━━━━━━━━━━━━━━━━━━━━\u001b[0m\u001b[37m\u001b[0m \u001b[1m1s\u001b[0m 6ms/step - loss: 0.0043 - mse: 0.0034 - val_loss: 0.0015 - val_mse: 6.3318e-04 - learning_rate: 7.8125e-06\n",
            "Epoch 89/100\n",
            "\u001b[1m154/155\u001b[0m \u001b[32m━━━━━━━━━━━━━━━━━━━\u001b[0m\u001b[37m━\u001b[0m \u001b[1m0s\u001b[0m 5ms/step - loss: 0.0043 - mse: 0.0034\n",
            "Epoch 89: ReduceLROnPlateau reducing learning rate to 3.906250185536919e-06.\n",
            "\u001b[1m155/155\u001b[0m \u001b[32m━━━━━━━━━━━━━━━━━━━━\u001b[0m\u001b[37m\u001b[0m \u001b[1m1s\u001b[0m 6ms/step - loss: 0.0043 - mse: 0.0034 - val_loss: 0.0015 - val_mse: 6.3190e-04 - learning_rate: 7.8125e-06\n",
            "Epoch 90/100\n",
            "\u001b[1m155/155\u001b[0m \u001b[32m━━━━━━━━━━━━━━━━━━━━\u001b[0m\u001b[37m\u001b[0m \u001b[1m1s\u001b[0m 6ms/step - loss: 0.0043 - mse: 0.0034 - val_loss: 0.0015 - val_mse: 6.2669e-04 - learning_rate: 3.9063e-06\n",
            "Epoch 91/100\n",
            "\u001b[1m155/155\u001b[0m \u001b[32m━━━━━━━━━━━━━━━━━━━━\u001b[0m\u001b[37m\u001b[0m \u001b[1m1s\u001b[0m 6ms/step - loss: 0.0043 - mse: 0.0034 - val_loss: 0.0015 - val_mse: 6.2581e-04 - learning_rate: 3.9063e-06\n",
            "Epoch 92/100\n",
            "\u001b[1m151/155\u001b[0m \u001b[32m━━━━━━━━━━━━━━━━━━━\u001b[0m\u001b[37m━\u001b[0m \u001b[1m0s\u001b[0m 5ms/step - loss: 0.0043 - mse: 0.0034\n",
            "Epoch 92: ReduceLROnPlateau reducing learning rate to 1.9531250927684596e-06.\n",
            "\u001b[1m155/155\u001b[0m \u001b[32m━━━━━━━━━━━━━━━━━━━━\u001b[0m\u001b[37m\u001b[0m \u001b[1m1s\u001b[0m 6ms/step - loss: 0.0043 - mse: 0.0034 - val_loss: 0.0015 - val_mse: 6.2554e-04 - learning_rate: 3.9063e-06\n",
            "Epoch 93/100\n",
            "\u001b[1m155/155\u001b[0m \u001b[32m━━━━━━━━━━━━━━━━━━━━\u001b[0m\u001b[37m\u001b[0m \u001b[1m1s\u001b[0m 6ms/step - loss: 0.0043 - mse: 0.0034 - val_loss: 0.0015 - val_mse: 6.2254e-04 - learning_rate: 1.9531e-06\n",
            "Epoch 94/100\n",
            "\u001b[1m155/155\u001b[0m \u001b[32m━━━━━━━━━━━━━━━━━━━━\u001b[0m\u001b[37m\u001b[0m \u001b[1m1s\u001b[0m 7ms/step - loss: 0.0043 - mse: 0.0034 - val_loss: 0.0015 - val_mse: 6.2250e-04 - learning_rate: 1.9531e-06\n",
            "Epoch 95/100\n",
            "\u001b[1m152/155\u001b[0m \u001b[32m━━━━━━━━━━━━━━━━━━━\u001b[0m\u001b[37m━\u001b[0m \u001b[1m0s\u001b[0m 6ms/step - loss: 0.0043 - mse: 0.0034\n",
            "Epoch 95: ReduceLROnPlateau reducing learning rate to 9.765625463842298e-07.\n",
            "\u001b[1m155/155\u001b[0m \u001b[32m━━━━━━━━━━━━━━━━━━━━\u001b[0m\u001b[37m\u001b[0m \u001b[1m1s\u001b[0m 8ms/step - loss: 0.0043 - mse: 0.0034 - val_loss: 0.0015 - val_mse: 6.2205e-04 - learning_rate: 1.9531e-06\n",
            "Epoch 96/100\n",
            "\u001b[1m155/155\u001b[0m \u001b[32m━━━━━━━━━━━━━━━━━━━━\u001b[0m\u001b[37m\u001b[0m \u001b[1m1s\u001b[0m 7ms/step - loss: 0.0043 - mse: 0.0034 - val_loss: 0.0015 - val_mse: 6.2137e-04 - learning_rate: 9.7656e-07\n",
            "Epoch 97/100\n",
            "\u001b[1m155/155\u001b[0m \u001b[32m━━━━━━━━━━━━━━━━━━━━\u001b[0m\u001b[37m\u001b[0m \u001b[1m1s\u001b[0m 7ms/step - loss: 0.0043 - mse: 0.0034 - val_loss: 0.0015 - val_mse: 6.2110e-04 - learning_rate: 9.7656e-07\n",
            "Epoch 98/100\n",
            "\u001b[1m145/155\u001b[0m \u001b[32m━━━━━━━━━━━━━━━━━━\u001b[0m\u001b[37m━━\u001b[0m \u001b[1m0s\u001b[0m 5ms/step - loss: 0.0043 - mse: 0.0034\n",
            "Epoch 98: ReduceLROnPlateau reducing learning rate to 4.882812731921149e-07.\n",
            "\u001b[1m155/155\u001b[0m \u001b[32m━━━━━━━━━━━━━━━━━━━━\u001b[0m\u001b[37m\u001b[0m \u001b[1m1s\u001b[0m 6ms/step - loss: 0.0043 - mse: 0.0034 - val_loss: 0.0015 - val_mse: 6.2052e-04 - learning_rate: 9.7656e-07\n",
            "Epoch 99/100\n",
            "\u001b[1m155/155\u001b[0m \u001b[32m━━━━━━━━━━━━━━━━━━━━\u001b[0m\u001b[37m\u001b[0m \u001b[1m1s\u001b[0m 6ms/step - loss: 0.0043 - mse: 0.0034 - val_loss: 0.0015 - val_mse: 6.2042e-04 - learning_rate: 4.8828e-07\n",
            "Epoch 100/100\n",
            "\u001b[1m155/155\u001b[0m \u001b[32m━━━━━━━━━━━━━━━━━━━━\u001b[0m\u001b[37m\u001b[0m \u001b[1m1s\u001b[0m 6ms/step - loss: 0.0043 - mse: 0.0034 - val_loss: 0.0015 - val_mse: 6.1986e-04 - learning_rate: 4.8828e-07\n",
            "Best val_loss: 0.0014719419414177537\n"
          ]
        }
      ]
    },
    {
      "cell_type": "markdown",
      "source": [
        "### F1 at Umbral\n",
        "Utilizando la métricas de F1 at Umbral, podemos obtener un valor apto para el umbral que utilizaremos para realizar predicciones"
      ],
      "metadata": {
        "id": "4Hao5E64GUaP"
      }
    },
    {
      "cell_type": "code",
      "source": [
        "import numpy as np\n",
        "import matplotlib.pyplot as plt\n",
        "from sklearn.metrics import f1_score\n",
        "\n",
        "X_val_hat  = autoencoder.predict(X_val,  batch_size=2048, verbose=0)\n",
        "X_test_hat = autoencoder.predict(X_test, batch_size=2048, verbose=0)\n",
        "val_scores  = np.mean((X_val  - X_val_hat )**2, axis=1)\n",
        "test_scores = np.mean((X_test - X_test_hat)**2, axis=1)\n",
        "\n",
        "percentiles = np.linspace(70, 99.9, 400)\n",
        "f1_vals = []\n",
        "thrs = []\n",
        "\n",
        "for p in percentiles:\n",
        "    thr = np.percentile(val_scores, p)\n",
        "    thrs.append(thr)\n",
        "    y_pred = (test_scores > thr).astype(int)\n",
        "    f1_vals.append(f1_score(y_test, y_pred))\n",
        "\n",
        "f1_vals = np.array(f1_vals)\n",
        "thrs = np.array(thrs)\n",
        "\n",
        "best_ix = int(np.nanargmax(f1_vals))\n",
        "best_f1 = float(f1_vals[best_ix])\n",
        "best_pct = float(percentiles[best_ix])\n",
        "best_thr = float(thrs[best_ix])\n",
        "\n",
        "print(f\"BEST F1 = {best_f1:.4f}  @ PERCENTILE = P{best_pct:.3f}  (THRESHOLD = {best_thr:.6g})\")\n",
        "\n",
        "plt.figure()\n",
        "plt.plot(percentiles, f1_vals)\n",
        "plt.scatter(percentiles[best_ix], f1_vals[best_ix], marker=\"o\")\n",
        "plt.axvline(percentiles[best_ix], linestyle=\"--\")\n",
        "plt.xlabel(\"Percentil del umbral (en VALID normales)\")\n",
        "plt.ylabel(\"F1 en TEST\")\n",
        "plt.title(\"F1 vs. Percentil del Umbral (Autoencoder)\")\n",
        "plt.show()"
      ],
      "metadata": {
        "id": "1I0WCnV4Gd9x",
        "colab": {
          "base_uri": "https://localhost:8080/",
          "height": 489
        },
        "outputId": "c1b7cb72-9b5a-41e2-a1fb-f5e6d1eff50c"
      },
      "execution_count": 10,
      "outputs": [
        {
          "output_type": "stream",
          "name": "stdout",
          "text": [
            "BEST F1 = 0.6944  @ PERCENTILE = P70.000  (THRESHOLD = 0.000513788)\n"
          ]
        },
        {
          "output_type": "display_data",
          "data": {
            "text/plain": [
              "<Figure size 640x480 with 1 Axes>"
            ],
            "image/png": "[encoded data removed]"
          },
          "metadata": {}
        }
      ]
    },
    {
      "cell_type": "markdown",
      "source": [
        "En este caso, podemos ver que el umbral más apto se encuentra en el límite inferior de nuestro intervalo de búsqueda (70 percentil). Esto quiere decir que existe una cantidad muy alta de outliers que coinciden con los valores \"normales\", es decir, hay bastante overlap entre ambas clases. A futuro, se podría considerar probar con umbrales más bajos, sin embargo basados en la curva predecir que encontraremos un plateau."
      ],
      "metadata": {
        "id": "aq91OedAsAeo"
      }
    },
    {
      "cell_type": "code",
      "source": [
        "from sklearn.metrics import classification_report, roc_auc_score, average_precision_score, roc_curve\n",
        "import matplotlib.pyplot as plt\n",
        "\n",
        "y_pred_best = (test_scores > best_thr).astype(int)\n",
        "\n",
        "print(f\"Best threshold: {best_thr:.6g}  (percentile P{best_pct:.3f} on VALID normals)\")\n",
        "print(classification_report(y_test, y_pred_best, target_names=[\"Normal\",\"Anómalo\"]))\n",
        "print(f\"ROC-AUC: {roc_auc_score(y_test, test_scores):.4f} | PR-AUC: {average_precision_score(y_test, test_scores):.4f}\")\n",
        "\n",
        "fpr, tpr, _ = roc_curve(y_test, test_scores)\n",
        "auc_roc = roc_auc_score(y_test, test_scores)\n",
        "plt.figure()\n",
        "plt.plot(fpr, tpr, label=f\"AUC = {auc_roc:.3f}\")\n",
        "plt.plot([0,1], [0,1], linestyle=\"--\")\n",
        "plt.xlabel(\"False Positive Rate\"); plt.ylabel(\"True Positive Rate\")\n",
        "plt.title(\"Autoencoder — ROC\")\n",
        "plt.legend(); plt.show()"
      ],
      "metadata": {
        "colab": {
          "base_uri": "https://localhost:8080/",
          "height": 663
        },
        "id": "cpSYnqJSdxGf",
        "outputId": "b85293bf-7027-4923-cb80-bcad301b4dc3"
      },
      "execution_count": 11,
      "outputs": [
        {
          "output_type": "stream",
          "name": "stdout",
          "text": [
            "Best threshold: 0.000513788  (percentile P70.000 on VALID normals)\n",
            "              precision    recall  f1-score   support\n",
            "\n",
            "      Normal       0.69      0.70      0.70     56661\n",
            "     Anómalo       0.70      0.69      0.69     56661\n",
            "\n",
            "    accuracy                           0.70    113322\n",
            "   macro avg       0.70      0.70      0.70    113322\n",
            "weighted avg       0.70      0.70      0.70    113322\n",
            "\n",
            "ROC-AUC: 0.7672 | PR-AUC: 0.7990\n"
          ]
        },
        {
          "output_type": "display_data",
          "data": {
            "text/plain": [
              "<Figure size 640x480 with 1 Axes>"
            ],
            "image/png": "[encoded data removed]"
          },
          "metadata": {}
        }
      ]
    },
    {
      "cell_type": "markdown",
      "source": [
        "En cuanto a las métricas, podemos darnos cuenta que se obtienen valores similares entre precision y recall para ambas clases. Esto nos indica que la elección de umbral bajo el cual estamos operando es bastante adecuada. Cada clase tiene un Recall de alrededor de 0.7, lo cual es bastante bueno. Adicionalmente, observando la curva ROC este valor se mantiene bastante por encima de un modelo aleatorio. También apoyándonos en los valores de ROC-AUC (0.76) y PR-AUC (0.7990) podemos concluir que el modelo tiene un alto desempeño en cuánto a la detección de outliers."
      ],
      "metadata": {
        "id": "VziQLfY7sqt_"
      }
    },
    {
      "cell_type": "markdown",
      "source": [
        "# 5.1 Isolation Forest\n",
        "Entrenamos Isolation Forest únicamente con observaciones normales para que el modelo aprenda la distribución de “normalidad”. Aquí solo se construye y ajusta el estimador."
      ],
      "metadata": {
        "id": "rF0JCD3s4mBe"
      }
    },
    {
      "cell_type": "code",
      "source": [
        "from sklearn.ensemble import IsolationForest\n",
        "\n",
        "if_model = IsolationForest(\n",
        "    n_estimators=800,\n",
        "    max_samples=min(25600, X_train.shape[0]),\n",
        "    max_features=1.0,\n",
        "    bootstrap=False,\n",
        "    contamination=\"auto\",\n",
        "    n_jobs=-1,\n",
        "    random_state=42,\n",
        "    warm_start=False\n",
        ").fit(X_train)\n"
      ],
      "metadata": {
        "id": "4WkxM9y-4q_3"
      },
      "execution_count": 12,
      "outputs": []
    },
    {
      "cell_type": "markdown",
      "source": [
        "### F1 at Umbral\n",
        "Utilizando la métricas de F1 at Umbral, podemos obtener un valor apto para el umbral que utilizaremos para realizar predicciones"
      ],
      "metadata": {
        "id": "JB--wbTVGh40"
      }
    },
    {
      "cell_type": "code",
      "source": [
        "import numpy as np\n",
        "import matplotlib.pyplot as plt\n",
        "from sklearn.metrics import f1_score\n",
        "\n",
        "val_scores  = -if_model.decision_function(X_val)\n",
        "test_scores = -if_model.decision_function(X_test)\n",
        "\n",
        "percentiles = np.linspace(70, 99.9, 400)\n",
        "f1_vals, thrs = [], []\n",
        "\n",
        "for p in percentiles:\n",
        "    thr = np.percentile(val_scores, p)\n",
        "    thrs.append(thr)\n",
        "    y_pred = (test_scores > thr).astype(int)\n",
        "    f1_vals.append(f1_score(y_test, y_pred))\n",
        "\n",
        "f1_vals = np.array(f1_vals)\n",
        "thrs = np.array(thrs)\n",
        "\n",
        "best_ix  = int(np.nanargmax(f1_vals))\n",
        "best_f1  = float(f1_vals[best_ix])\n",
        "best_pct = float(percentiles[best_ix])\n",
        "best_thr = float(thrs[best_ix])\n",
        "\n",
        "print(f\"[IF] BEST F1 = {best_f1:.4f}  @ PERCENTILE = P{best_pct:.3f}  (THRESHOLD = {best_thr:.6g})\")\n",
        "\n",
        "plt.figure()\n",
        "plt.plot(percentiles, f1_vals)\n",
        "plt.scatter(percentiles[best_ix], f1_vals[best_ix], marker=\"o\")\n",
        "plt.axvline(percentiles[best_ix], linestyle=\"--\")\n",
        "plt.xlabel(\"Percentil del umbral (en VALID normales)\")\n",
        "plt.ylabel(\"F1 en TEST\")\n",
        "plt.title(\"Isolation Forest — F1 vs. Percentil del Umbral\")\n",
        "plt.show()\n"
      ],
      "metadata": {
        "colab": {
          "base_uri": "https://localhost:8080/",
          "height": 489
        },
        "id": "f302KeMmG0OZ",
        "outputId": "a99e87ec-cb68-4771-e522-20759630fa19"
      },
      "execution_count": 13,
      "outputs": [
        {
          "output_type": "stream",
          "name": "stdout",
          "text": [
            "[IF] BEST F1 = 0.6434  @ PERCENTILE = P70.000  (THRESHOLD = -0.121584)\n"
          ]
        },
        {
          "output_type": "display_data",
          "data": {
            "text/plain": [
              "<Figure size 640x480 with 1 Axes>"
            ],
            "image/png": "[encoded data removed]"
          },
          "metadata": {}
        }
      ]
    },
    {
      "cell_type": "markdown",
      "source": [
        "Aquí tenemos una curva bastante similar al anterior, sin embargo aquí pareciera que tenemos un plateau al que todavía no hemos llegado. A futuro, recomendamos explorar espacios más amplios en cuanto a umbrales para este modelo."
      ],
      "metadata": {
        "id": "mvGkrICCtMZa"
      }
    },
    {
      "cell_type": "code",
      "source": [
        "from sklearn.metrics import classification_report, roc_auc_score, average_precision_score, roc_curve\n",
        "import matplotlib.pyplot as plt\n",
        "\n",
        "y_pred_best = (test_scores > best_thr).astype(int)\n",
        "\n",
        "print(f\"Best threshold: {best_thr:.6g}  (percentile P{best_pct:.3f} on VALID normals)\")\n",
        "print(classification_report(y_test, y_pred_best, target_names=[\"Normal\",\"Anómalo\"]))\n",
        "print(f\"ROC-AUC: {roc_auc_score(y_test, test_scores):.4f} | PR-AUC: {average_precision_score(y_test, test_scores):.4f}\")\n",
        "\n",
        "fpr, tpr, _ = roc_curve(y_test, test_scores)\n",
        "auc_roc = roc_auc_score(y_test, test_scores)\n",
        "plt.figure()\n",
        "plt.plot(fpr, tpr, label=f\"AUC = {auc_roc:.3f}\")\n",
        "plt.plot([0,1], [0,1], linestyle=\"--\")\n",
        "plt.xlabel(\"False Positive Rate\"); plt.ylabel(\"True Positive Rate\")\n",
        "plt.title(\"Isolation Forest — ROC\")\n",
        "plt.legend(); plt.show()\n"
      ],
      "metadata": {
        "colab": {
          "base_uri": "https://localhost:8080/",
          "height": 663
        },
        "id": "1oB7AdLJfWOH",
        "outputId": "12ac18bd-6efc-4e8b-b242-fd8f6b17d0bf"
      },
      "execution_count": 14,
      "outputs": [
        {
          "output_type": "stream",
          "name": "stdout",
          "text": [
            "Best threshold: -0.121584  (percentile P70.000 on VALID normals)\n",
            "              precision    recall  f1-score   support\n",
            "\n",
            "      Normal       0.65      0.70      0.67     56661\n",
            "     Anómalo       0.67      0.62      0.64     56661\n",
            "\n",
            "    accuracy                           0.66    113322\n",
            "   macro avg       0.66      0.66      0.66    113322\n",
            "weighted avg       0.66      0.66      0.66    113322\n",
            "\n",
            "ROC-AUC: 0.7109 | PR-AUC: 0.7386\n"
          ]
        },
        {
          "output_type": "display_data",
          "data": {
            "text/plain": [
              "<Figure size 640x480 with 1 Axes>"
            ],
            "image/png": "[encoded data removed]"
          },
          "metadata": {}
        }
      ]
    },
    {
      "cell_type": "markdown",
      "source": [
        "En cuanto a las métricas, este modelo tiene un rendimiento más bajo en comparación al anterior. La curva ROC se encuentra con una menor separación en comparación al anterior, y además tenemos el valor de AUC de 0.711 en comparación a 0.76. Además, podemos observar que en las métricas se puede observar más diferencia entre una clase y la otra. Sin embargo, el modelo sigue siendo capaz de realizar predicciones bastante bien."
      ],
      "metadata": {
        "id": "bd3gZWaRtXoy"
      }
    },
    {
      "cell_type": "markdown",
      "source": [
        "# 5.2 LOF\n",
        "Entrenamos Local Outlier Factor (LOF) únicamente con observaciones normales para aprender la vecindad típica de la “normalidad”. Configuramos novelty=True para permitir puntajes sobre datos nuevos más adelante, pero aquí solo construimos y ajustamos el modelo."
      ],
      "metadata": {
        "id": "wvEoF-qv4n7e"
      }
    },
    {
      "cell_type": "code",
      "source": [
        "from sklearn.neighbors import LocalOutlierFactor\n",
        "\n",
        "lof_model = LocalOutlierFactor(\n",
        "    n_neighbors=20,\n",
        "    novelty=True\n",
        ").fit(X_train)"
      ],
      "metadata": {
        "id": "FVCbRqiq4s78"
      },
      "execution_count": 15,
      "outputs": []
    },
    {
      "cell_type": "markdown",
      "source": [
        "### F1 at Umbral\n",
        "Utilizando la métricas de F1 at Umbral, podemos obtener un valor apto para el umbral que utilizaremos para realizar predicciones"
      ],
      "metadata": {
        "id": "8iDfJq_5t1eE"
      }
    },
    {
      "cell_type": "code",
      "source": [
        "import numpy as np\n",
        "import matplotlib.pyplot as plt\n",
        "from sklearn.metrics import f1_score\n",
        "\n",
        "val_scores  = -lof_model.decision_function(X_val)\n",
        "test_scores = -lof_model.decision_function(X_test)\n",
        "\n",
        "percentiles = np.linspace(80, 99.9, 400)\n",
        "f1_vals, thrs = [], []\n",
        "\n",
        "for p in percentiles:\n",
        "    thr = np.percentile(val_scores, p)\n",
        "    thrs.append(thr)\n",
        "    y_pred = (test_scores > thr).astype(int)\n",
        "    f1_vals.append(f1_score(y_test, y_pred))\n",
        "\n",
        "f1_vals = np.array(f1_vals)\n",
        "thrs = np.array(thrs)\n",
        "\n",
        "best_ix  = int(np.nanargmax(f1_vals))\n",
        "best_f1  = float(f1_vals[best_ix])\n",
        "best_pct = float(percentiles[best_ix])\n",
        "best_thr = float(thrs[best_ix])\n",
        "\n",
        "print(f\"[LOF] BEST F1 = {best_f1:.4f}  @ PERCENTILE = P{best_pct:.3f}  (THRESHOLD = {best_thr:.6g})\")\n",
        "\n",
        "plt.figure()\n",
        "plt.plot(percentiles, f1_vals)\n",
        "plt.scatter(percentiles[best_ix], f1_vals[best_ix], marker=\"o\")\n",
        "plt.axvline(percentiles[best_ix], linestyle=\"--\")\n",
        "plt.xlabel(\"Percentil del umbral (en VALID normales)\")\n",
        "plt.ylabel(\"F1 en TEST\")\n",
        "plt.title(\"Local Outlier Factor — F1 vs. Percentil del Umbral\")\n",
        "plt.show()"
      ],
      "metadata": {
        "id": "sMkXzhd2G58R",
        "colab": {
          "base_uri": "https://localhost:8080/",
          "height": 489
        },
        "outputId": "b99fb2d0-137a-4437-ad0f-c45b2a154dc1"
      },
      "execution_count": 16,
      "outputs": [
        {
          "output_type": "stream",
          "name": "stdout",
          "text": [
            "[LOF] BEST F1 = 0.7977  @ PERCENTILE = P80.000  (THRESHOLD = -0.383428)\n"
          ]
        },
        {
          "output_type": "display_data",
          "data": {
            "text/plain": [
              "<Figure size 640x480 with 1 Axes>"
            ],
            "image/png": "[encoded data removed]"
          },
          "metadata": {}
        }
      ]
    },
    {
      "cell_type": "markdown",
      "source": [
        "En este caso, podemos ver que llegamos al plateau más rápido en comparación a los demás. Esto nos indica que este modelo tiene un poco más \"separadas\" las distribuciones de cada clase. Dónde por encima del 80 percentil del puntaje encontramos muy pocos outliers."
      ],
      "metadata": {
        "id": "2c_SyLqmvRCp"
      }
    },
    {
      "cell_type": "code",
      "source": [
        "from sklearn.metrics import classification_report, roc_auc_score, average_precision_score, roc_curve\n",
        "import matplotlib.pyplot as plt\n",
        "\n",
        "y_pred_best = (test_scores > best_thr).astype(int)\n",
        "\n",
        "print(f\"Best threshold: {best_thr:.6g}  (percentile P{best_pct:.3f} on VALID normals)\")\n",
        "print(classification_report(y_test, y_pred_best, target_names=[\"Normal\",\"Anómalo\"]))\n",
        "print(f\"ROC-AUC: {roc_auc_score(y_test, test_scores):.4f} | PR-AUC: {average_precision_score(y_test, test_scores):.4f}\")\n",
        "\n",
        "fpr, tpr, _ = roc_curve(y_test, test_scores)\n",
        "auc_roc = roc_auc_score(y_test, test_scores)\n",
        "plt.figure()\n",
        "plt.plot(fpr, tpr, label=f\"AUC = {auc_roc:.3f}\")\n",
        "plt.plot([0,1], [0,1], linestyle=\"--\")\n",
        "plt.xlabel(\"False Positive Rate\"); plt.ylabel(\"True Positive Rate\")\n",
        "plt.title(\"LOF — ROC\")\n",
        "plt.legend(); plt.show()"
      ],
      "metadata": {
        "colab": {
          "base_uri": "https://localhost:8080/",
          "height": 663
        },
        "id": "eYr8BbVOfchT",
        "outputId": "e44590f0-e67a-4109-a323-be591214cf5a"
      },
      "execution_count": 17,
      "outputs": [
        {
          "output_type": "stream",
          "name": "stdout",
          "text": [
            "Best threshold: -0.383428  (percentile P80.000 on VALID normals)\n",
            "              precision    recall  f1-score   support\n",
            "\n",
            "      Normal       0.80      0.80      0.80     56661\n",
            "     Anómalo       0.80      0.80      0.80     56661\n",
            "\n",
            "    accuracy                           0.80    113322\n",
            "   macro avg       0.80      0.80      0.80    113322\n",
            "weighted avg       0.80      0.80      0.80    113322\n",
            "\n",
            "ROC-AUC: 0.8775 | PR-AUC: 0.8922\n"
          ]
        },
        {
          "output_type": "display_data",
          "data": {
            "text/plain": [
              "<Figure size 640x480 with 1 Axes>"
            ],
            "image/png": "[encoded data removed]"
          },
          "metadata": {}
        }
      ]
    },
    {
      "cell_type": "markdown",
      "source": [
        "En cuánto a las métricas, podemos observar que tenemos 0.80 de recall y precisión para cada una de las clases. Esto es una buena señal, ya que nos indica que el modelo puede predecir de manera más precisa y logró encontrar algunos factores que distinguen cada una de las clases. Además, el \"overlap\" natural dentro de los datos es lo que genera la confusión dentro del modelo y no algún otro factor interno. Observando la curva ROC, este modelo se acerca bastante a una curva ideal y tiene un AUC de 0.877. Este es por mucho el mejor modelo probado dentro de este Notebook."
      ],
      "metadata": {
        "id": "bbaPQAORvc6N"
      }
    },
    {
      "cell_type": "markdown",
      "source": [
        "# 6. Evaluación\n",
        "Luego de haber cubierto cada modelo individualmente, podemos tomar el mejor modelo y obtener métricas adicionales."
      ],
      "metadata": {
        "id": "qDLIevIN4wSa"
      }
    },
    {
      "cell_type": "markdown",
      "source": [
        "### ROC y AUC"
      ],
      "metadata": {
        "id": "iNVGQtOkhizw"
      }
    },
    {
      "cell_type": "code",
      "source": [
        "import matplotlib.pyplot as plt\n",
        "from sklearn.metrics import roc_curve, roc_auc_score\n",
        "\n",
        "fpr, tpr, _ = roc_curve(y_test, test_scores)\n",
        "auc_roc = roc_auc_score(y_test, test_scores)\n",
        "\n",
        "plt.figure()\n",
        "plt.plot(fpr, tpr, label=f\"AUC = {auc_roc:.3f}\")\n",
        "plt.plot([0,1], [0,1], linestyle=\"--\")\n",
        "plt.xlabel(\"False Positive Rate\")\n",
        "plt.ylabel(\"True Positive Rate\")\n",
        "plt.title(\"LOF — ROC\")\n",
        "plt.legend()\n",
        "plt.show()\n",
        "\n",
        "print(f\"ROC-AUC: {auc_roc:.4f}\")"
      ],
      "metadata": {
        "colab": {
          "base_uri": "https://localhost:8080/",
          "height": 489
        },
        "id": "Z-zMSz54qOFY",
        "outputId": "54ec6dce-bf4b-454e-b32e-4a4db6eb8952"
      },
      "execution_count": 18,
      "outputs": [
        {
          "output_type": "display_data",
          "data": {
            "text/plain": [
              "<Figure size 640x480 with 1 Axes>"
            ],
            "image/png": "[encoded data removed]"
          },
          "metadata": {}
        },
        {
          "output_type": "stream",
          "name": "stdout",
          "text": [
            "ROC-AUC: 0.8775\n"
          ]
        }
      ]
    },
    {
      "cell_type": "markdown",
      "source": [
        "Como fue mencionado anteriormente, la curva ROC del modelo es bastante prometedora. Se encuentra bastante cercana a una curva ideal, lo cuál indica una capacidad alta de predicción al igual que su puntaje AUC de 0.877"
      ],
      "metadata": {
        "id": "lZuBbGzovyq-"
      }
    },
    {
      "cell_type": "markdown",
      "source": [
        "### PR y AUC"
      ],
      "metadata": {
        "id": "Hg7zqKLLhmkl"
      }
    },
    {
      "cell_type": "code",
      "source": [
        "import matplotlib.pyplot as plt\n",
        "from sklearn.metrics import precision_recall_curve, average_precision_score\n",
        "\n",
        "precision, recall, _ = precision_recall_curve(y_test, test_scores)\n",
        "ap = average_precision_score(y_test, test_scores)\n",
        "\n",
        "plt.figure()\n",
        "plt.plot(recall, precision, label=f\"AP = {ap:.3f}\")\n",
        "plt.xlabel(\"Recall\")\n",
        "plt.ylabel(\"Precision\")\n",
        "plt.title(\"LOF — Precision–Recall\")\n",
        "plt.legend()\n",
        "plt.show()\n",
        "\n",
        "print(f\"PR-AUC (AP): {ap:.4f}\")"
      ],
      "metadata": {
        "colab": {
          "base_uri": "https://localhost:8080/",
          "height": 489
        },
        "id": "AfopzYWuqnRt",
        "outputId": "71e3b39c-6337-4b33-d437-9e065d77aaab"
      },
      "execution_count": 19,
      "outputs": [
        {
          "output_type": "display_data",
          "data": {
            "text/plain": [
              "<Figure size 640x480 with 1 Axes>"
            ],
            "image/png": "[encoded data removed]"
          },
          "metadata": {}
        },
        {
          "output_type": "stream",
          "name": "stdout",
          "text": [
            "PR-AUC (AP): 0.8922\n"
          ]
        }
      ]
    },
    {
      "cell_type": "markdown",
      "source": [
        "Observando la gráfica PR, en este caso el modelo también se acerca bastante a lo que sería una curva ideal. Tenemos un área bajo la curva de 0.89, lo cuál indica una alta capacidad de predecir."
      ],
      "metadata": {
        "id": "ENSFOznkwAqe"
      }
    },
    {
      "cell_type": "markdown",
      "source": [
        "### Precision at K"
      ],
      "metadata": {
        "id": "NOtkjvQMh4BT"
      }
    },
    {
      "cell_type": "code",
      "source": [
        "import numpy as np\n",
        "import matplotlib.pyplot as plt\n",
        "\n",
        "order = np.argsort(test_scores)[::-1]\n",
        "y_sorted = y_test[order]\n",
        "\n",
        "ks = np.arange(1, len(y_sorted) + 1)\n",
        "prec_at_k = np.cumsum(y_sorted) / ks\n",
        "\n",
        "K_max = min(10000, len(y_sorted))\n",
        "plt.figure()\n",
        "plt.plot(ks[:K_max], prec_at_k[:K_max])\n",
        "plt.xlabel(\"k (top-k)\")\n",
        "plt.ylabel(\"Precision@k\")\n",
        "plt.title(\"LOF — Precision@k\")\n",
        "plt.show()\n",
        "\n",
        "for K in [100, 500, 1000, 5000]:\n",
        "    if K <= len(y_sorted):\n",
        "        print(f\"Precision@{K}: {prec_at_k[K-1]:.4f}\")"
      ],
      "metadata": {
        "colab": {
          "base_uri": "https://localhost:8080/",
          "height": 541
        },
        "id": "SHmsQCJ-qpUq",
        "outputId": "25e46d37-d396-4da4-a0df-fa98d997f765"
      },
      "execution_count": 20,
      "outputs": [
        {
          "output_type": "display_data",
          "data": {
            "text/plain": [
              "<Figure size 640x480 with 1 Axes>"
            ],
            "image/png": "[encoded data removed]"
          },
          "metadata": {}
        },
        {
          "output_type": "stream",
          "name": "stdout",
          "text": [
            "Precision@100: 1.0000\n",
            "Precision@500: 0.9980\n",
            "Precision@1000: 0.9990\n",
            "Precision@5000: 0.9944\n"
          ]
        }
      ]
    },
    {
      "cell_type": "markdown",
      "source": [
        "En cuánto a precision at K, el modelo mantiene una precisión sumamente alta para estos valores más extremos. En la gráfica, cubrimos desde 0 - 10,000 valores y el modelo tuvo valores de precisión de 99.2%. Podemos decir que el modelo es sumamente preciso cuándo los valores son extremos, en otras palabras los \"más outliers\" es más probable que sean clasificados de manera correcta por este modelo. Apoyando el análisis realizado anteriormente, dónde consideramos que los errores de clasificación vienen del \"área en común\" entre los outliers y los datos normales."
      ],
      "metadata": {
        "id": "e6IzK-dmwJ_N"
      }
    }
  ]
}