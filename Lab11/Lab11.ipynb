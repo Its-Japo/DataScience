{
 "cells": [
  {
   "cell_type": "markdown",
   "id": "4261dfcd",
   "metadata": {},
   "source": [
    "# Laboratorio 11\n",
    "\n",
    "- Joaquín Puente 22296\n",
    "- José Mérida"
   ]
  },
  {
   "cell_type": "markdown",
   "id": "a43sj9lgtsl",
   "metadata": {},
   "source": [
    "## 1. Inicialización de PySpark"
   ]
  },
  {
   "cell_type": "code",
   "execution_count": 1,
   "id": "ap3eg0fqco",
   "metadata": {},
   "outputs": [
    {
     "name": "stderr",
     "output_type": "stream",
     "text": [
      "WARNING: Using incubator modules: jdk.incubator.vector\n",
      "Using Spark's default log4j profile: org/apache/spark/log4j2-defaults.properties\n",
      "25/10/24 20:39:46 WARN Utils: Your hostname, ArchJapo, resolves to a loopback address: 127.0.1.1; using 10.0.0.36 instead (on interface wlp0s20f3)\n",
      "25/10/24 20:39:46 WARN Utils: Set SPARK_LOCAL_IP if you need to bind to another address\n",
      "Using Spark's default log4j profile: org/apache/spark/log4j2-defaults.properties\n",
      "Setting default log level to \"WARN\".\n",
      "To adjust logging level use sc.setLogLevel(newLevel). For SparkR, use setLogLevel(newLevel).\n",
      "25/10/24 20:39:46 WARN NativeCodeLoader: Unable to load native-hadoop library for your platform... using builtin-java classes where applicable\n"
     ]
    },
    {
     "name": "stdout",
     "output_type": "stream",
     "text": [
      "Spark Session iniciada exitosamente!\n",
      "Versión de Spark: 4.0.1\n"
     ]
    }
   ],
   "source": [
    "from pyspark.sql import SparkSession\n",
    "from pyspark.sql.functions import (\n",
    "    col, count, when, isnan, isnull, mean, stddev, \n",
    "    min as spark_min, max as spark_max, round as spark_round\n",
    ")\n",
    "from pyspark.sql.types import DoubleType, IntegerType\n",
    "import os\n",
    "\n",
    "spark = SparkSession.builder \\\n",
    "    .appName(\"Customer Churn Analysis - Lab 11\") \\\n",
    "    .config(\"spark.driver.memory\", \"4g\") \\\n",
    "    .getOrCreate()\n",
    "\n",
    "spark.sparkContext.setLogLevel(\"ERROR\")\n",
    "\n",
    "print(\"Spark Session iniciada exitosamente!\")\n",
    "print(f\"Versión de Spark: {spark.version}\")"
   ]
  },
  {
   "cell_type": "markdown",
   "id": "fz3x7ix9whp",
   "metadata": {},
   "source": [
    "## 2. Carga de Datos"
   ]
  },
  {
   "cell_type": "code",
   "execution_count": 2,
   "id": "xz8mk2a0suf",
   "metadata": {},
   "outputs": [
    {
     "name": "stdout",
     "output_type": "stream",
     "text": [
      "Dataset 'abandono_clientes' cargado: 900 filas\n",
      "Dataset 'clientes_nuevos' cargado: 6 filas\n"
     ]
    }
   ],
   "source": [
    "abandono_path = \"abandono_clientes.csv\"\n",
    "nuevos_path = \"clientes_nuevos.csv\"\n",
    "\n",
    "df_abandono = spark.read.csv(abandono_path, header=True, inferSchema=True)\n",
    "df_nuevos = spark.read.csv(nuevos_path, header=True, inferSchema=True)\n",
    "\n",
    "print(f\"Dataset 'abandono_clientes' cargado: {df_abandono.count()} filas\")\n",
    "print(f\"Dataset 'clientes_nuevos' cargado: {df_nuevos.count()} filas\")"
   ]
  },
  {
   "cell_type": "markdown",
   "id": "te1spvx7719",
   "metadata": {},
   "source": [
    "## 3. Análisis Exploratorio de Datos (EDA) - Abandono Clientes\n",
    "\n",
    "### 3.1 Estructura del Dataset"
   ]
  },
  {
   "cell_type": "code",
   "execution_count": 3,
   "id": "sfqfgkqeet",
   "metadata": {},
   "outputs": [
    {
     "name": "stdout",
     "output_type": "stream",
     "text": [
      "root\n",
      " |-- Names: string (nullable = true)\n",
      " |-- Age: double (nullable = true)\n",
      " |-- Total_Purchase: double (nullable = true)\n",
      " |-- Account_Manager: integer (nullable = true)\n",
      " |-- Years: double (nullable = true)\n",
      " |-- Num_Sites: double (nullable = true)\n",
      " |-- Onboard_date: timestamp (nullable = true)\n",
      " |-- Location: string (nullable = true)\n",
      " |-- Company: string (nullable = true)\n",
      " |-- Churn: integer (nullable = true)\n",
      "\n"
     ]
    }
   ],
   "source": [
    "df_abandono.printSchema()"
   ]
  },
  {
   "cell_type": "markdown",
   "id": "ze5laeyz62",
   "metadata": {},
   "source": [
    "### 3.2 Primeras Filas del Dataset"
   ]
  },
  {
   "cell_type": "code",
   "execution_count": 4,
   "id": "8zq8hoks7l",
   "metadata": {},
   "outputs": [
    {
     "name": "stdout",
     "output_type": "stream",
     "text": [
      "+----------------+----+--------------+---------------+-----+---------+-------------------+--------------------+--------------------+-----+\n",
      "|           Names| Age|Total_Purchase|Account_Manager|Years|Num_Sites|       Onboard_date|            Location|             Company|Churn|\n",
      "+----------------+----+--------------+---------------+-----+---------+-------------------+--------------------+--------------------+-----+\n",
      "|Cameron Williams|42.0|       11066.8|              0| 7.22|      8.0|2013-08-30 07:00:40|10265 Elizabeth M...|          Harvey LLC|    1|\n",
      "|   Kevin Mueller|41.0|      11916.22|              0|  6.5|     11.0|2013-08-13 00:38:46|6157 Frank Garden...|          Wilson PLC|    1|\n",
      "|     Eric Lozano|38.0|      12884.75|              0| 6.67|     12.0|2016-06-29 06:20:07|1331 Keith Court ...|Miller, Johnson a...|    1|\n",
      "|   Phillip White|42.0|       8010.76|              0| 6.71|     10.0|2014-04-22 12:43:12|13120 Daniel Moun...|           Smith Inc|    1|\n",
      "|  Cynthia Norton|37.0|       9191.58|              0| 5.56|      9.0|2016-01-19 15:31:15|765 Tricia Row Ka...|          Love-Jones|    1|\n",
      "|Jessica Williams|48.0|      10356.02|              0| 5.12|      8.0|2009-03-03 23:13:37|6187 Olson Mounta...|        Kelly-Warren|    1|\n",
      "|     Eric Butler|44.0|      11331.58|              1| 5.23|     11.0|2016-12-05 03:35:43|4846 Savannah Roa...|   Reynolds-Sheppard|    1|\n",
      "|   Zachary Walsh|32.0|       9885.12|              1| 6.92|      9.0|2006-03-09 14:50:20|25271 Roy Express...|          Singh-Cole|    1|\n",
      "|     Ashlee Carr|43.0|       14062.6|              1| 5.46|     11.0|2011-09-29 05:47:23|3725 Caroline Str...|           Lopez PLC|    1|\n",
      "|  Jennifer Lynch|40.0|       8066.94|              1| 7.11|     11.0|2006-03-28 15:42:45|363 Sandra Lodge ...|       Reed-Martinez|    1|\n",
      "+----------------+----+--------------+---------------+-----+---------+-------------------+--------------------+--------------------+-----+\n",
      "only showing top 10 rows\n"
     ]
    }
   ],
   "source": [
    "df_abandono.show(10, truncate=True)"
   ]
  },
  {
   "cell_type": "markdown",
   "id": "ug937lc1llf",
   "metadata": {},
   "source": [
    "### 3.3 Estadísticas Descriptivas"
   ]
  },
  {
   "cell_type": "code",
   "execution_count": 5,
   "id": "y6blgply8jj",
   "metadata": {},
   "outputs": [
    {
     "name": "stdout",
     "output_type": "stream",
     "text": [
      "+-------+-------------+-----------------+-----------------+------------------+-----------------+------------------+--------------------+--------------------+-------------------+\n",
      "|summary|        Names|              Age|   Total_Purchase|   Account_Manager|            Years|         Num_Sites|            Location|             Company|              Churn|\n",
      "+-------+-------------+-----------------+-----------------+------------------+-----------------+------------------+--------------------+--------------------+-------------------+\n",
      "|  count|          900|              900|              900|               900|              900|               900|                 900|                 900|                900|\n",
      "|   mean|         NULL|41.81666666666667|10062.82403333334|0.4811111111111111| 5.27315555555555| 8.587777777777777|                NULL|                NULL|0.16666666666666666|\n",
      "| stddev|         NULL|6.127560416916251|2408.644531858096|0.4999208935073339|1.274449013194616|1.7648355920350969|                NULL|                NULL| 0.3728852122772358|\n",
      "|    min|   Aaron King|             22.0|            100.0|                 0|              1.0|               3.0|00103 Jeffrey Cre...|     Abbott-Thompson|                  0|\n",
      "|    max|Zachary Walsh|             65.0|         18026.01|                 1|             9.15|              14.0|Unit 9800 Box 287...|Zuniga, Clark and...|                  1|\n",
      "+-------+-------------+-----------------+-----------------+------------------+-----------------+------------------+--------------------+--------------------+-------------------+\n",
      "\n"
     ]
    }
   ],
   "source": [
    "df_abandono.describe().show()"
   ]
  },
  {
   "cell_type": "markdown",
   "id": "hkq5rf0za29",
   "metadata": {},
   "source": [
    "### 3.4 Análisis de Valores Nulos"
   ]
  },
  {
   "cell_type": "code",
   "execution_count": 6,
   "id": "yte4rvaxdq",
   "metadata": {},
   "outputs": [
    {
     "name": "stdout",
     "output_type": "stream",
     "text": [
      "+-----+---+--------------+---------------+-----+---------+------------+--------+-------+-----+\n",
      "|Names|Age|Total_Purchase|Account_Manager|Years|Num_Sites|Onboard_date|Location|Company|Churn|\n",
      "+-----+---+--------------+---------------+-----+---------+------------+--------+-------+-----+\n",
      "|    0|  0|             0|              0|    0|        0|           0|       0|      0|    0|\n",
      "+-----+---+--------------+---------------+-----+---------+------------+--------+-------+-----+\n",
      "\n"
     ]
    }
   ],
   "source": [
    "null_counts = df_abandono.select([\n",
    "    count(when(col(c).isNull(), c)).alias(c)\n",
    "    for c in df_abandono.columns\n",
    "])\n",
    "null_counts.show()"
   ]
  },
  {
   "cell_type": "markdown",
   "id": "czvsp7fz76j",
   "metadata": {},
   "source": [
    "### 3.5 Distribución de la Variable Objetivo (Churn)"
   ]
  },
  {
   "cell_type": "code",
   "execution_count": 7,
   "id": "t2ogqxyg8u",
   "metadata": {},
   "outputs": [
    {
     "name": "stdout",
     "output_type": "stream",
     "text": [
      "+-----+-----+\n",
      "|Churn|count|\n",
      "+-----+-----+\n",
      "|    0|  750|\n",
      "|    1|  150|\n",
      "+-----+-----+\n",
      "\n",
      "No Abandono (Churn=0): 750 (83.33%)\n",
      "Abandono (Churn=1): 150 (16.67%)\n",
      "\n",
      "Tasa de Abandono: 16.67%\n"
     ]
    }
   ],
   "source": [
    "churn_dist = df_abandono.groupBy(\"Churn\").count().orderBy(\"Churn\")\n",
    "churn_dist.show()\n",
    "\n",
    "churn_stats = churn_dist.collect()\n",
    "total = sum([row['count'] for row in churn_stats])\n",
    "for row in churn_stats:\n",
    "    percentage = (row['count'] / total) * 100\n",
    "    label = \"No Abandono\" if row['Churn'] == 0 else \"Abandono\"\n",
    "    print(f\"{label} (Churn={row['Churn']}): {row['count']} ({percentage:.2f}%)\")\n",
    "\n",
    "churn_rate = churn_stats[1]['count'] / total * 100 if len(churn_stats) > 1 else 0\n",
    "print(f\"\\nTasa de Abandono: {churn_rate:.2f}%\")"
   ]
  },
  {
   "cell_type": "markdown",
   "id": "xm7f6res21",
   "metadata": {},
   "source": [
    "### 3.6 Estadísticas Detalladas por Columnas Numéricas"
   ]
  },
  {
   "cell_type": "code",
   "execution_count": null,
   "id": "ig40mwr8wu",
   "metadata": {},
   "outputs": [
    {
     "name": "stdout",
     "output_type": "stream",
     "text": [
      "================================================================================\n",
      "ESTADÍSTICAS DETALLADAS - COLUMNAS NUMÉRICAS\n",
      "================================================================================\n",
      "\n",
      "Age:\n",
      "----------------------------------------\n",
      "  Mínimo:     22.0\n",
      "  Máximo:     65.0\n",
      "  Media:      41.82\n",
      "  Desv. Est.: 6.13\n",
      "\n",
      "Total_Purchase:\n",
      "----------------------------------------\n",
      "  Mínimo:     100.0\n",
      "  Máximo:     18026.01\n",
      "  Media:      10062.82\n",
      "  Desv. Est.: 2408.64\n",
      "\n",
      "Years:\n",
      "----------------------------------------\n",
      "  Mínimo:     1.0\n",
      "  Máximo:     9.15\n",
      "  Media:      5.27\n",
      "  Desv. Est.: 1.27\n",
      "\n",
      "Num_Sites:\n",
      "----------------------------------------\n",
      "  Mínimo:     3.0\n",
      "  Máximo:     14.0\n",
      "  Media:      8.59\n",
      "  Desv. Est.: 1.76\n"
     ]
    }
   ],
   "source": [
    "numeric_cols = ['Age', 'Total_Purchase', 'Years', 'Num_Sites']\n",
    "\n",
    "print(\"=\" * 80)\n",
    "print(\"ESTADÍSTICAS DETALLADAS - COLUMNAS NUMÉRICAS\")\n",
    "print(\"=\" * 80)\n",
    "\n",
    "for col_name in numeric_cols:\n",
    "    print(f\"\\n{col_name}:\")\n",
    "    print(\"-\" * 40)\n",
    "    \n",
    "    stats = df_abandono.select(\n",
    "        spark_min(col_name).alias(\"min\"),\n",
    "        spark_max(col_name).alias(\"max\"),\n",
    "        mean(col_name).alias(\"mean\"),\n",
    "        stddev(col_name).alias(\"stddev\")\n",
    "    ).collect()[0]\n",
    "    \n",
    "    print(f\"  Mínimo:     {stats['min']}\")\n",
    "    print(f\"  Máximo:     {stats['max']}\")\n",
    "    print(f\"  Media:      {stats['mean']:.2f}\" if stats['mean'] else \"  Media:      None\")\n",
    "    print(f\"  Desv. Est.: {stats['stddev']:.2f}\" if stats['stddev'] else \"  Desv. Est.: None\")"
   ]
  },
  {
   "cell_type": "markdown",
   "id": "qmdcioc8cat",
   "metadata": {},
   "source": [
    "### 3.7 Distribución de Account Manager"
   ]
  },
  {
   "cell_type": "code",
   "execution_count": 9,
   "id": "c1zixnljbml",
   "metadata": {},
   "outputs": [
    {
     "name": "stdout",
     "output_type": "stream",
     "text": [
      "+---------------+-----+\n",
      "|Account_Manager|count|\n",
      "+---------------+-----+\n",
      "|              0|  467|\n",
      "|              1|  433|\n",
      "+---------------+-----+\n",
      "\n",
      "Con Account Manager: 433 (48.11%)\n",
      "Sin Account Manager: 467 (51.89%)\n"
     ]
    }
   ],
   "source": [
    "df_abandono.groupBy(\"Account_Manager\").count().orderBy(\"Account_Manager\").show()\n",
    "\n",
    "am_stats = df_abandono.groupBy(\"Account_Manager\").count().collect()\n",
    "total = sum([row['count'] for row in am_stats])\n",
    "for row in am_stats:\n",
    "    percentage = (row['count'] / total) * 100\n",
    "    label = \"Con Account Manager\" if row['Account_Manager'] == 1 else \"Sin Account Manager\"\n",
    "    print(f\"{label}: {row['count']} ({percentage:.2f}%)\")"
   ]
  },
  {
   "cell_type": "markdown",
   "id": "nvf7f3q9ylm",
   "metadata": {},
   "source": [
    "## 4. Análisis Exploratorio de Datos (EDA) - Clientes Nuevos\n",
    "\n",
    "### 4.1 Estructura del Dataset"
   ]
  },
  {
   "cell_type": "code",
   "execution_count": 10,
   "id": "ty5a6ci9ygn",
   "metadata": {},
   "outputs": [
    {
     "name": "stdout",
     "output_type": "stream",
     "text": [
      "root\n",
      " |-- Names: string (nullable = true)\n",
      " |-- Age: double (nullable = true)\n",
      " |-- Total_Purchase: double (nullable = true)\n",
      " |-- Account_Manager: integer (nullable = true)\n",
      " |-- Years: double (nullable = true)\n",
      " |-- Num_Sites: double (nullable = true)\n",
      " |-- Onboard_date: timestamp (nullable = true)\n",
      " |-- Location: string (nullable = true)\n",
      " |-- Company: string (nullable = true)\n",
      "\n"
     ]
    }
   ],
   "source": [
    "df_nuevos.printSchema()"
   ]
  },
  {
   "cell_type": "markdown",
   "id": "qscah8are9",
   "metadata": {},
   "source": [
    "### 4.2 Primeras Filas y Estadísticas"
   ]
  },
  {
   "cell_type": "code",
   "execution_count": 11,
   "id": "9ywef6d0qnd",
   "metadata": {},
   "outputs": [
    {
     "name": "stdout",
     "output_type": "stream",
     "text": [
      "+--------------+----+--------------+---------------+-----+---------+-------------------+--------------------+----------------+\n",
      "|         Names| Age|Total_Purchase|Account_Manager|Years|Num_Sites|       Onboard_date|            Location|         Company|\n",
      "+--------------+----+--------------+---------------+-----+---------+-------------------+--------------------+----------------+\n",
      "| Andrew Mccall|37.0|       9935.53|              1| 7.71|      8.0|2011-08-29 18:37:54|38612 Johnny Stra...|        King Ltd|\n",
      "|Michele Wright|23.0|       7526.94|              1| 9.28|     15.0|2013-07-22 18:19:54|21083 Nicole Junc...|   Cannon-Benson|\n",
      "|  Jeremy Chang|65.0|         100.0|              1|  1.0|     15.0|2006-12-11 07:48:13|085 Austin Views ...|Barron-Robertson|\n",
      "|Megan Ferguson|32.0|        6487.5|              0|  9.4|     14.0|2016-10-28 05:32:13|922 Wright Branch...|   Sexton-Golden|\n",
      "|  Taylor Young|32.0|      13147.71|              1| 10.0|      8.0|2012-03-20 00:36:46|Unit 0789 Box 073...|        Wood LLC|\n",
      "| Jessica Drake|22.0|       8445.26|              1| 3.46|     14.0|2011-02-04 19:29:27|1148 Tina Straven...|   Parks-Robbins|\n",
      "+--------------+----+--------------+---------------+-----+---------+-------------------+--------------------+----------------+\n",
      "\n",
      "+-------+-------------+------------------+-----------------+------------------+-----------------+------------------+--------------------+----------------+\n",
      "|summary|        Names|               Age|   Total_Purchase|   Account_Manager|            Years|         Num_Sites|            Location|         Company|\n",
      "+-------+-------------+------------------+-----------------+------------------+-----------------+------------------+--------------------+----------------+\n",
      "|  count|            6|                 6|                6|                 6|                6|                 6|                   6|               6|\n",
      "|   mean|         NULL|35.166666666666664|7607.156666666667|0.8333333333333334|6.808333333333334|12.333333333333334|                NULL|            NULL|\n",
      "| stddev|         NULL| 15.71517313511584|4346.008232825459| 0.408248290463863|3.708737880555414|3.3862466931200785|                NULL|            NULL|\n",
      "|    min|Andrew Mccall|              22.0|            100.0|                 0|              1.0|               8.0|085 Austin Views ...|Barron-Robertson|\n",
      "|    max| Taylor Young|              65.0|         13147.71|                 1|             10.0|              15.0|Unit 0789 Box 073...|        Wood LLC|\n",
      "+-------+-------------+------------------+-----------------+------------------+-----------------+------------------+--------------------+----------------+\n",
      "\n"
     ]
    }
   ],
   "source": [
    "df_nuevos.show(10, truncate=True)\n",
    "df_nuevos.describe().show()"
   ]
  },
  {
   "cell_type": "markdown",
   "id": "zqfvn42xtj",
   "metadata": {},
   "source": [
    "### 4.3 Análisis de Valores Nulos"
   ]
  },
  {
   "cell_type": "code",
   "execution_count": 12,
   "id": "kk8w30xvusj",
   "metadata": {},
   "outputs": [
    {
     "name": "stdout",
     "output_type": "stream",
     "text": [
      "+-----+---+--------------+---------------+-----+---------+------------+--------+-------+\n",
      "|Names|Age|Total_Purchase|Account_Manager|Years|Num_Sites|Onboard_date|Location|Company|\n",
      "+-----+---+--------------+---------------+-----+---------+------------+--------+-------+\n",
      "|    0|  0|             0|              0|    0|        0|           0|       0|      0|\n",
      "+-----+---+--------------+---------------+-----+---------+------------+--------+-------+\n",
      "\n"
     ]
    }
   ],
   "source": [
    "null_counts_nuevos = df_nuevos.select([\n",
    "    count(when(col(c).isNull(), c)).alias(c)\n",
    "    for c in df_nuevos.columns\n",
    "])\n",
    "null_counts_nuevos.show()"
   ]
  },
  {
   "cell_type": "markdown",
   "id": "q9am0tjyngr",
   "metadata": {},
   "source": [
    "## 5. Identificación de Problemas de Calidad de Datos\n",
    "\n",
    "### 5.1 Verificación de Duplicados"
   ]
  },
  {
   "cell_type": "code",
   "execution_count": 13,
   "id": "mob00uq8c1r",
   "metadata": {},
   "outputs": [
    {
     "name": "stdout",
     "output_type": "stream",
     "text": [
      "Abandono Clientes - Duplicados: 0\n",
      "Clientes Nuevos - Duplicados: 0\n"
     ]
    }
   ],
   "source": [
    "abandono_total = df_abandono.count()\n",
    "abandono_distinct = df_abandono.distinct().count()\n",
    "print(f\"Abandono Clientes - Duplicados: {abandono_total - abandono_distinct}\")\n",
    "\n",
    "nuevos_total = df_nuevos.count()\n",
    "nuevos_distinct = df_nuevos.distinct().count()\n",
    "print(f\"Clientes Nuevos - Duplicados: {nuevos_total - nuevos_distinct}\")"
   ]
  },
  {
   "cell_type": "markdown",
   "id": "9bb5zpvz5fu",
   "metadata": {},
   "source": [
    "### 5.2 Verificación de Valores Inválidos (Negativos)"
   ]
  },
  {
   "cell_type": "code",
   "execution_count": 14,
   "id": "6i28p6qr6ie",
   "metadata": {},
   "outputs": [
    {
     "name": "stdout",
     "output_type": "stream",
     "text": [
      "Abandono Clientes - Valores Negativos:\n",
      "  Age: 0\n",
      "  Total_Purchase: 0\n",
      "  Years: 0\n",
      "  Num_Sites: 0\n",
      "\n",
      "Clientes Nuevos - Valores Negativos:\n",
      "  Age: 0\n",
      "  Total_Purchase: 0\n",
      "  Years: 0\n",
      "  Num_Sites: 0\n"
     ]
    }
   ],
   "source": [
    "print(\"Abandono Clientes - Valores Negativos:\")\n",
    "for col_name in numeric_cols:\n",
    "    negative_count = df_abandono.filter(col(col_name) < 0).count()\n",
    "    print(f\"  {col_name}: {negative_count}\")\n",
    "\n",
    "print(\"\\nClientes Nuevos - Valores Negativos:\")\n",
    "for col_name in numeric_cols:\n",
    "    negative_count = df_nuevos.filter(col(col_name) < 0).count()\n",
    "    print(f\"  {col_name}: {negative_count}\")"
   ]
  },
  {
   "cell_type": "markdown",
   "id": "clql97sknwp",
   "metadata": {},
   "source": [
    "### 5.3 Análisis de Edades No Realistas"
   ]
  },
  {
   "cell_type": "code",
   "execution_count": 15,
   "id": "6tsgjgocipa",
   "metadata": {},
   "outputs": [
    {
     "name": "stdout",
     "output_type": "stream",
     "text": [
      "Abandono Clientes - Edades fuera de rango (< 18 o > 100): 0\n",
      "Clientes Nuevos - Edades fuera de rango (< 18 o > 100): 0\n"
     ]
    }
   ],
   "source": [
    "unrealistic_ages_abandono = df_abandono.filter((col(\"Age\") < 18) | (col(\"Age\") > 100))\n",
    "print(f\"Abandono Clientes - Edades fuera de rango (< 18 o > 100): {unrealistic_ages_abandono.count()}\")\n",
    "\n",
    "unrealistic_ages_nuevos = df_nuevos.filter((col(\"Age\") < 18) | (col(\"Age\") > 100))\n",
    "print(f\"Clientes Nuevos - Edades fuera de rango (< 18 o > 100): {unrealistic_ages_nuevos.count()}\")"
   ]
  },
  {
   "cell_type": "markdown",
   "id": "hxbrrn8op2",
   "metadata": {},
   "source": [
    "### 5.4 Análisis de Compras Muy Bajas o Cero"
   ]
  },
  {
   "cell_type": "code",
   "execution_count": 16,
   "id": "2rg190vmoeb",
   "metadata": {},
   "outputs": [
    {
     "name": "stdout",
     "output_type": "stream",
     "text": [
      "Abandono Clientes con Total_Purchase < 1000: 1\n",
      "Clientes Nuevos con Total_Purchase < 1000: 1\n",
      "+------------+--------------+-----+\n",
      "|       Names|Total_Purchase|Churn|\n",
      "+------------+--------------+-----+\n",
      "|Kayla Reeves|         100.0|    0|\n",
      "+------------+--------------+-----+\n",
      "\n"
     ]
    }
   ],
   "source": [
    "low_purchase_abandono = df_abandono.filter(col(\"Total_Purchase\") < 1000).count()\n",
    "print(f\"Abandono Clientes con Total_Purchase < 1000: {low_purchase_abandono}\")\n",
    "\n",
    "low_purchase_nuevos = df_nuevos.filter(col(\"Total_Purchase\") < 1000).count()\n",
    "print(f\"Clientes Nuevos con Total_Purchase < 1000: {low_purchase_nuevos}\")\n",
    "\n",
    "df_abandono.filter(col(\"Total_Purchase\") < 1000).select(\"Names\", \"Total_Purchase\", \"Churn\").show()"
   ]
  },
  {
   "cell_type": "markdown",
   "id": "kqluqklra5",
   "metadata": {},
   "source": [
    "## 6. Limpieza de Datos (Data Cleansing)\n",
    "\n",
    "### 6.1 Función de Limpieza"
   ]
  },
  {
   "cell_type": "code",
   "execution_count": 17,
   "id": "1pyxbesm4xr",
   "metadata": {},
   "outputs": [],
   "source": [
    "def clean_dataset(df, dataset_name):\n",
    "    print(f\"Limpiando dataset: {dataset_name}\")\n",
    "    original_count = df.count()\n",
    "    \n",
    "    df_clean = df.dropDuplicates()\n",
    "    \n",
    "    numeric_cols_to_clean = ['Age', 'Total_Purchase', 'Years', 'Num_Sites']\n",
    "    \n",
    "    for col_name in numeric_cols_to_clean:\n",
    "        null_count = df_clean.filter(col(col_name).isNull()).count()\n",
    "        if null_count > 0:\n",
    "            mean_value = df_clean.select(mean(col(col_name))).collect()[0][0]\n",
    "            if mean_value is not None:\n",
    "                df_clean = df_clean.fillna({col_name: mean_value})\n",
    "            else:\n",
    "                df_clean = df_clean.filter(col(col_name).isNotNull())\n",
    "    \n",
    "    if 'Account_Manager' in df_clean.columns:\n",
    "        null_count = df_clean.filter(col(\"Account_Manager\").isNull()).count()\n",
    "        if null_count > 0:\n",
    "            mode_row = df_clean.groupBy(\"Account_Manager\").count().orderBy(col(\"count\").desc()).first()\n",
    "            if mode_row and mode_row['Account_Manager'] is not None:\n",
    "                mode_value = mode_row['Account_Manager']\n",
    "                df_clean = df_clean.fillna({\"Account_Manager\": mode_value})\n",
    "            else:\n",
    "                df_clean = df_clean.filter(col(\"Account_Manager\").isNotNull())\n",
    "    \n",
    "    string_cols = ['Names', 'Location', 'Company']\n",
    "    for col_name in string_cols:\n",
    "        if col_name in df_clean.columns:\n",
    "            null_count = df_clean.filter(col(col_name).isNull()).count()\n",
    "            if null_count > 0:\n",
    "                percentage = (null_count / df_clean.count()) * 100\n",
    "                if percentage < 5:\n",
    "                    df_clean = df_clean.filter(col(col_name).isNotNull())\n",
    "                else:\n",
    "                    df_clean = df_clean.fillna({col_name: \"Unknown\"})\n",
    "    \n",
    "    for col_name in numeric_cols_to_clean:\n",
    "        negative_count = df_clean.filter(col(col_name) < 0).count()\n",
    "        if negative_count > 0:\n",
    "            df_clean = df_clean.filter(col(col_name) >= 0)\n",
    "    \n",
    "    df_clean = df_clean.withColumn(\"Age\", col(\"Age\").cast(DoubleType())) \\\n",
    "                       .withColumn(\"Total_Purchase\", col(\"Total_Purchase\").cast(DoubleType())) \\\n",
    "                       .withColumn(\"Account_Manager\", col(\"Account_Manager\").cast(IntegerType())) \\\n",
    "                       .withColumn(\"Years\", col(\"Years\").cast(DoubleType())) \\\n",
    "                       .withColumn(\"Num_Sites\", col(\"Num_Sites\").cast(DoubleType()))\n",
    "    \n",
    "    if 'Churn' in df_clean.columns:\n",
    "        df_clean = df_clean.withColumn(\"Churn\", col(\"Churn\").cast(IntegerType()))\n",
    "    \n",
    "    final_count = df_clean.count()\n",
    "    print(f\"Filas procesadas: {original_count} -> {final_count} (eliminadas: {original_count - final_count})\")\n",
    "    \n",
    "    return df_clean"
   ]
  },
  {
   "cell_type": "markdown",
   "id": "djij3ignsna",
   "metadata": {},
   "source": [
    "### 6.2 Aplicar Limpieza a Ambos Datasets"
   ]
  },
  {
   "cell_type": "code",
   "execution_count": 18,
   "id": "ma8guivdn7m",
   "metadata": {},
   "outputs": [
    {
     "name": "stdout",
     "output_type": "stream",
     "text": [
      "Limpiando dataset: ABANDONO CLIENTES\n",
      "Filas procesadas: 900 -> 900 (eliminadas: 0)\n",
      "Limpiando dataset: CLIENTES NUEVOS\n",
      "Filas procesadas: 6 -> 6 (eliminadas: 0)\n"
     ]
    }
   ],
   "source": [
    "df_abandono_clean = clean_dataset(df_abandono, \"ABANDONO CLIENTES\")\n",
    "df_nuevos_clean = clean_dataset(df_nuevos, \"CLIENTES NUEVOS\")"
   ]
  },
  {
   "cell_type": "markdown",
   "id": "1cjzdsdqu49",
   "metadata": {},
   "source": [
    "## 7. Verificación de Datos Limpios\n",
    "\n",
    "### 7.1 Verificar Abandono Clientes Limpio"
   ]
  },
  {
   "cell_type": "code",
   "execution_count": 19,
   "id": "wh1ko70gk2",
   "metadata": {},
   "outputs": [
    {
     "name": "stdout",
     "output_type": "stream",
     "text": [
      "Total de filas: 900\n",
      "root\n",
      " |-- Names: string (nullable = true)\n",
      " |-- Age: double (nullable = true)\n",
      " |-- Total_Purchase: double (nullable = true)\n",
      " |-- Account_Manager: integer (nullable = true)\n",
      " |-- Years: double (nullable = true)\n",
      " |-- Num_Sites: double (nullable = true)\n",
      " |-- Onboard_date: timestamp (nullable = true)\n",
      " |-- Location: string (nullable = true)\n",
      " |-- Company: string (nullable = true)\n",
      " |-- Churn: integer (nullable = true)\n",
      "\n",
      "+-----+---+--------------+---------------+-----+---------+------------+--------+-------+-----+\n",
      "|Names|Age|Total_Purchase|Account_Manager|Years|Num_Sites|Onboard_date|Location|Company|Churn|\n",
      "+-----+---+--------------+---------------+-----+---------+------------+--------+-------+-----+\n",
      "|    0|  0|             0|              0|    0|        0|           0|       0|      0|    0|\n",
      "+-----+---+--------------+---------------+-----+---------+------------+--------+-------+-----+\n",
      "\n",
      "+-------+-------------+-----------------+-----------------+------------------+------------------+------------------+--------------------+--------------------+-------------------+\n",
      "|summary|        Names|              Age|   Total_Purchase|   Account_Manager|             Years|         Num_Sites|            Location|             Company|              Churn|\n",
      "+-------+-------------+-----------------+-----------------+------------------+------------------+------------------+--------------------+--------------------+-------------------+\n",
      "|  count|          900|              900|              900|               900|               900|               900|                 900|                 900|                900|\n",
      "|   mean|         NULL|41.81666666666667|10062.82403333332|0.4811111111111111| 5.273155555555557| 8.587777777777777|                NULL|                NULL|0.16666666666666666|\n",
      "| stddev|         NULL|6.127560416916246|2408.644531858094|0.4999208935073342|1.2744490131946151|1.7648355920350922|                NULL|                NULL| 0.3728852122772354|\n",
      "|    min|   Aaron King|             22.0|            100.0|                 0|               1.0|               3.0|00103 Jeffrey Cre...|     Abbott-Thompson|                  0|\n",
      "|    max|Zachary Walsh|             65.0|         18026.01|                 1|              9.15|              14.0|Unit 9800 Box 287...|Zuniga, Clark and...|                  1|\n",
      "+-------+-------------+-----------------+-----------------+------------------+------------------+------------------+--------------------+--------------------+-------------------+\n",
      "\n",
      "+------------------+----+--------------+---------------+-----+---------+-------------------+--------------------+--------------+-----+\n",
      "|             Names| Age|Total_Purchase|Account_Manager|Years|Num_Sites|       Onboard_date|            Location|       Company|Churn|\n",
      "+------------------+----+--------------+---------------+-----+---------+-------------------+--------------------+--------------+-----+\n",
      "|  Brittany Hopkins|55.0|       5024.52|              0| 8.11|      9.0|2010-02-10 10:22:37|2529 King Knoll A...|    Dixon-Love|    1|\n",
      "|Elizabeth Chandler|43.0|      13116.73|              0| 3.57|      9.0|2006-04-15 03:59:33|USNS Garcia FPO A...|    Morris Inc|    0|\n",
      "|   Justin Friedman|38.0|       8473.65|              1| 4.78|      7.0|2010-11-29 19:37:15|9195 Erin Terrace...|Garcia-Johnson|    0|\n",
      "|        John Jones|44.0|       7736.13|              1| 4.48|      8.0|2013-06-06 09:25:02|2297 Jackson Isla...|       Day LLC|    0|\n",
      "|      Robert Allen|48.0|      10241.32|              1| 7.25|      7.0|2014-10-29 10:48:54|510 Nicholas Isla...|  Williams Ltd|    0|\n",
      "+------------------+----+--------------+---------------+-----+---------+-------------------+--------------------+--------------+-----+\n",
      "only showing top 5 rows\n"
     ]
    }
   ],
   "source": [
    "print(f\"Total de filas: {df_abandono_clean.count()}\")\n",
    "\n",
    "df_abandono_clean.printSchema()\n",
    "\n",
    "null_check = df_abandono_clean.select([\n",
    "    count(when(col(c).isNull(), c)).alias(c)\n",
    "    for c in df_abandono_clean.columns\n",
    "])\n",
    "null_check.show()\n",
    "\n",
    "df_abandono_clean.describe().show()\n",
    "df_abandono_clean.show(5, truncate=True)"
   ]
  },
  {
   "cell_type": "markdown",
   "id": "0u8etizwgux",
   "metadata": {},
   "source": [
    "### 7.2 Verificar Clientes Nuevos Limpio"
   ]
  },
  {
   "cell_type": "code",
   "execution_count": 20,
   "id": "ly8ixn7ond",
   "metadata": {},
   "outputs": [
    {
     "name": "stdout",
     "output_type": "stream",
     "text": [
      "Total de filas: 6\n",
      "root\n",
      " |-- Names: string (nullable = true)\n",
      " |-- Age: double (nullable = true)\n",
      " |-- Total_Purchase: double (nullable = true)\n",
      " |-- Account_Manager: integer (nullable = true)\n",
      " |-- Years: double (nullable = true)\n",
      " |-- Num_Sites: double (nullable = true)\n",
      " |-- Onboard_date: timestamp (nullable = true)\n",
      " |-- Location: string (nullable = true)\n",
      " |-- Company: string (nullable = true)\n",
      "\n",
      "+-----+---+--------------+---------------+-----+---------+------------+--------+-------+\n",
      "|Names|Age|Total_Purchase|Account_Manager|Years|Num_Sites|Onboard_date|Location|Company|\n",
      "+-----+---+--------------+---------------+-----+---------+------------+--------+-------+\n",
      "|    0|  0|             0|              0|    0|        0|           0|       0|      0|\n",
      "+-----+---+--------------+---------------+-----+---------+------------+--------+-------+\n",
      "\n",
      "+-------+-------------+------------------+-----------------+------------------+------------------+------------------+--------------------+----------------+\n",
      "|summary|        Names|               Age|   Total_Purchase|   Account_Manager|             Years|         Num_Sites|            Location|         Company|\n",
      "+-------+-------------+------------------+-----------------+------------------+------------------+------------------+--------------------+----------------+\n",
      "|  count|            6|                 6|                6|                 6|                 6|                 6|                   6|               6|\n",
      "|   mean|         NULL|35.166666666666664|7607.156666666667|0.8333333333333334| 6.808333333333334|12.333333333333334|                NULL|            NULL|\n",
      "| stddev|         NULL| 15.71517313511584|4346.008232825458| 0.408248290463863|3.7087378805554145|3.3862466931200785|                NULL|            NULL|\n",
      "|    min|Andrew Mccall|              22.0|            100.0|                 0|               1.0|               8.0|085 Austin Views ...|Barron-Robertson|\n",
      "|    max| Taylor Young|              65.0|         13147.71|                 1|              10.0|              15.0|Unit 0789 Box 073...|        Wood LLC|\n",
      "+-------+-------------+------------------+-----------------+------------------+------------------+------------------+--------------------+----------------+\n",
      "\n",
      "+--------------+----+--------------+---------------+-----+---------+-------------------+--------------------+-------------+\n",
      "|         Names| Age|Total_Purchase|Account_Manager|Years|Num_Sites|       Onboard_date|            Location|      Company|\n",
      "+--------------+----+--------------+---------------+-----+---------+-------------------+--------------------+-------------+\n",
      "| Jessica Drake|22.0|       8445.26|              1| 3.46|     14.0|2011-02-04 19:29:27|1148 Tina Straven...|Parks-Robbins|\n",
      "|Michele Wright|23.0|       7526.94|              1| 9.28|     15.0|2013-07-22 18:19:54|21083 Nicole Junc...|Cannon-Benson|\n",
      "|Megan Ferguson|32.0|        6487.5|              0|  9.4|     14.0|2016-10-28 05:32:13|922 Wright Branch...|Sexton-Golden|\n",
      "| Andrew Mccall|37.0|       9935.53|              1| 7.71|      8.0|2011-08-29 18:37:54|38612 Johnny Stra...|     King Ltd|\n",
      "|  Taylor Young|32.0|      13147.71|              1| 10.0|      8.0|2012-03-20 00:36:46|Unit 0789 Box 073...|     Wood LLC|\n",
      "+--------------+----+--------------+---------------+-----+---------+-------------------+--------------------+-------------+\n",
      "only showing top 5 rows\n"
     ]
    }
   ],
   "source": [
    "print(f\"Total de filas: {df_nuevos_clean.count()}\")\n",
    "\n",
    "df_nuevos_clean.printSchema()\n",
    "\n",
    "null_check_nuevos = df_nuevos_clean.select([\n",
    "    count(when(col(c).isNull(), c)).alias(c)\n",
    "    for c in df_nuevos_clean.columns\n",
    "])\n",
    "null_check_nuevos.show()\n",
    "\n",
    "df_nuevos_clean.describe().show()\n",
    "df_nuevos_clean.show(5, truncate=True)"
   ]
  },
  {
   "cell_type": "markdown",
   "id": "pocwtdci4p",
   "metadata": {},
   "source": [
    "## 8. Guardar Datos Limpios"
   ]
  },
  {
   "cell_type": "code",
   "execution_count": 21,
   "id": "0nhmuo6ut8b",
   "metadata": {},
   "outputs": [
    {
     "name": "stdout",
     "output_type": "stream",
     "text": [
      "Datasets guardados en abandono_clientes_clean.csv y clientes_nuevos_clean.csv\n"
     ]
    }
   ],
   "source": [
    "output_abandono = \"abandono_clientes_clean.csv\"\n",
    "output_nuevos = \"clientes_nuevos_clean.csv\"\n",
    "\n",
    "df_abandono_clean.coalesce(1).write.csv(output_abandono, header=True, mode='overwrite')\n",
    "df_nuevos_clean.coalesce(1).write.csv(output_nuevos, header=True, mode='overwrite')\n",
    "\n",
    "print(f\"Datasets guardados en {output_abandono} y {output_nuevos}\")"
   ]
  },
  {
   "cell_type": "markdown",
   "id": "ilqg7pfzkbq",
   "metadata": {},
   "source": [
    "## 9. Resumen del Análisis\n",
    "\n",
    "### Hallazgos Principales del EDA:\n",
    "\n",
    "**Dataset Abandono Clientes:**\n",
    "- Total: 900 registros de clientes históricos\n",
    "- Variable objetivo: Churn (abandono)\n",
    "  - No Abandono (0): 750 clientes (83.33%)\n",
    "  - Abandono (1): 150 clientes (16.67%)\n",
    "- Distribución Account Manager: 48.11% con AM, 51.89% sin AM\n",
    "\n",
    "**Dataset Clientes Nuevos:**\n",
    "- Total: 6 registros sin variable objetivo (para predicción)\n",
    "\n",
    "### Calidad de los Datos:\n",
    "\n",
    "**Datos originales en excelente estado:**\n",
    "- Sin valores nulos en ninguna columna\n",
    "- Sin duplicados\n",
    "- Sin valores negativos\n",
    "- Todas las edades en rango válido (22-65 años)\n",
    "- 1 cliente con compra muy baja ($100) en cada dataset\n",
    "\n",
    "**Características Numéricas (Abandono Clientes):**\n",
    "- Age: rango 22-65 años, media 41.82 años\n",
    "- Total_Purchase: rango $100-$18,026, media $10,062\n",
    "- Years: rango 1.0-9.15 años, media 5.27 años\n",
    "- Num_Sites: rango 3-14 sitios, media 8.59 sitios\n",
    "\n",
    "### Proceso de Limpieza:\n",
    "\n",
    "La función clean_dataset() implementa 6 pasos:\n",
    "1. Eliminación de duplicados\n",
    "2. Imputación de nulos numéricos con media\n",
    "3. Imputación de nulos categóricos con moda\n",
    "4. Manejo de nulos en texto (eliminar o imputar según porcentaje)\n",
    "5. Eliminación de valores negativos\n",
    "6. Conversión a tipos de datos correctos\n",
    "\n",
    "**Resultado:** Ambos datasets estaban limpios, 0 filas eliminadas (0.00%)\n",
    "\n",
    "### Próximos Pasos:\n",
    "\n",
    "Los datos están listos para:\n",
    "- Feature engineering (extracción de características de fecha, creación de features derivadas)\n",
    "- Normalización/estandarización de variables numéricas\n",
    "- Encoding de variables categóricas\n",
    "- Modelado predictivo con PySpark MLlib (Regresión Logística, Random Forest, Gradient Boosting)\n",
    "- Predicción de abandono en clientes nuevos"
   ]
  }
 ],
 "metadata": {
  "kernelspec": {
   "display_name": ".venv",
   "language": "python",
   "name": "python3"
  },
  "language_info": {
   "codemirror_mode": {
    "name": "ipython",
    "version": 3
   },
   "file_extension": ".py",
   "mimetype": "text/x-python",
   "name": "python",
   "nbconvert_exporter": "python",
   "pygments_lexer": "ipython3",
   "version": "3.13.7"
  }
 },
 "nbformat": 4,
 "nbformat_minor": 5
}
