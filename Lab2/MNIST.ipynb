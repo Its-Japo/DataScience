{
  "cells": [
    {
      "cell_type": "markdown",
      "metadata": {
        "id": "9-vtxSkchusz"
      },
      "source": [
        "# Red Neuronal Profunda (DNN) para clasificación MNIST\n",
        "\n",
        "Aplicaremos todos nuestros conocimientos para crear una DNN, frecuentemente llamada también una Artificial Neural Network (ANN).  El problema que vamos a trabajar se conoce como el \"Hola Mundo\" del aprendizaje profundo porque para la mayoría de estudiantes este es el primer algoritmo de aprendizaje profundo que ven.\n",
        "\n",
        "El conjunto de datos se llama MNIST y se refiere al reconocimiento de dígitos escritos a mano.  Pueden encontrar más información en el sitio web de Yann LeCun (Director of AI Research, Facebook).  El es uno de los pioneros de todo este tema, así como de otras metodologías más complejas como las Redes Neurales Convolucionales (CNN) que se utilizan hoy día.\n",
        "\n",
        "El conjunto de datos tiene 70,000 imágenes (28x28 pixels) de dígitos escritos a mano (1 dígito por imagen).\n",
        "\n",
        "La meta es escribir un algoritmo que detecta qué dígito ha sido escrito.  Como solo hay 10 dígitos (0 al 9), este es un problema de clasificación con 10 clases.\n",
        "\n",
        "Nuestra meta será construir una RN con 2 capas escondidas."
      ]
    },
    {
      "cell_type": "markdown",
      "metadata": {
        "id": "UEnhmn2Shus0"
      },
      "source": [
        "## Plan de Acción para preparar el modelo\n",
        "\n",
        "1.  Preparar los datos y preprocesarlos.  Crear los conjuntos de datos para entrenar, validar y probar\n",
        "2.  Crear un esboso del modelo y seleccionar las funciones de activación\n",
        "3.  Fijar los optimizadores avanzados y la función de pérdida\n",
        "4.  Hacer que el modelo aprenda\n",
        "5.  Probar la exactitud (\"accuracy\") del modelo"
      ]
    },
    {
      "cell_type": "markdown",
      "metadata": {
        "id": "xTiTP8eihus0"
      },
      "source": [
        "## Importar los paquetes relevantes\n",
        "\n",
        "TensorFlow incluye un proveedor de los datos de MNIST que utilizaremos acá.  Viene con el módulo **\"tensorflow.keras.datasets\"**."
      ]
    },
    {
      "cell_type": "code",
      "execution_count": 76,
      "metadata": {
        "tags": [],
        "id": "y6eW47Y6hus0"
      },
      "outputs": [],
      "source": [
        "import numpy as np\n",
        "import tensorflow as tf"
      ]
    },
    {
      "cell_type": "markdown",
      "metadata": {
        "id": "TRTdA32ehus1"
      },
      "source": [
        "La siguiente instrucción, cuando se corre por primera vez, descarga el conjunto de datos en lo indicado por el parámetro path, relativo a  ~/.keras/datasets).  Como si se hubiera ejecutado Lo siguiente:\n",
        "\n",
        "tf.keras.datasets.mnist.load_data(\n",
        "    path = 'mnist.npz'\n",
        ")\n",
        "\n",
        "luego separa los datos en un conjunto para entrenamiento y otro para pruebas.\n",
        "\n",
        "Si se ejecuta más de una vez, ya no descarga el archivo."
      ]
    },
    {
      "cell_type": "code",
      "execution_count": 77,
      "metadata": {
        "id": "vu-NAhADhus1"
      },
      "outputs": [],
      "source": [
        "(X_entreno, y_entreno), (X_prueba, y_prueba) = tf.keras.datasets.mnist.load_data()\n"
      ]
    },
    {
      "cell_type": "code",
      "execution_count": 78,
      "metadata": {
        "colab": {
          "base_uri": "https://localhost:8080/"
        },
        "id": "qYU-hcZnhus1",
        "outputId": "647e3d26-322a-4fbb-d7f2-1bc8f21bc0b5"
      },
      "outputs": [
        {
          "output_type": "execute_result",
          "data": {
            "text/plain": [
              "array([[[0, 0, 0, ..., 0, 0, 0],\n",
              "        [0, 0, 0, ..., 0, 0, 0],\n",
              "        [0, 0, 0, ..., 0, 0, 0],\n",
              "        ...,\n",
              "        [0, 0, 0, ..., 0, 0, 0],\n",
              "        [0, 0, 0, ..., 0, 0, 0],\n",
              "        [0, 0, 0, ..., 0, 0, 0]],\n",
              "\n",
              "       [[0, 0, 0, ..., 0, 0, 0],\n",
              "        [0, 0, 0, ..., 0, 0, 0],\n",
              "        [0, 0, 0, ..., 0, 0, 0],\n",
              "        ...,\n",
              "        [0, 0, 0, ..., 0, 0, 0],\n",
              "        [0, 0, 0, ..., 0, 0, 0],\n",
              "        [0, 0, 0, ..., 0, 0, 0]],\n",
              "\n",
              "       [[0, 0, 0, ..., 0, 0, 0],\n",
              "        [0, 0, 0, ..., 0, 0, 0],\n",
              "        [0, 0, 0, ..., 0, 0, 0],\n",
              "        ...,\n",
              "        [0, 0, 0, ..., 0, 0, 0],\n",
              "        [0, 0, 0, ..., 0, 0, 0],\n",
              "        [0, 0, 0, ..., 0, 0, 0]],\n",
              "\n",
              "       ...,\n",
              "\n",
              "       [[0, 0, 0, ..., 0, 0, 0],\n",
              "        [0, 0, 0, ..., 0, 0, 0],\n",
              "        [0, 0, 0, ..., 0, 0, 0],\n",
              "        ...,\n",
              "        [0, 0, 0, ..., 0, 0, 0],\n",
              "        [0, 0, 0, ..., 0, 0, 0],\n",
              "        [0, 0, 0, ..., 0, 0, 0]],\n",
              "\n",
              "       [[0, 0, 0, ..., 0, 0, 0],\n",
              "        [0, 0, 0, ..., 0, 0, 0],\n",
              "        [0, 0, 0, ..., 0, 0, 0],\n",
              "        ...,\n",
              "        [0, 0, 0, ..., 0, 0, 0],\n",
              "        [0, 0, 0, ..., 0, 0, 0],\n",
              "        [0, 0, 0, ..., 0, 0, 0]],\n",
              "\n",
              "       [[0, 0, 0, ..., 0, 0, 0],\n",
              "        [0, 0, 0, ..., 0, 0, 0],\n",
              "        [0, 0, 0, ..., 0, 0, 0],\n",
              "        ...,\n",
              "        [0, 0, 0, ..., 0, 0, 0],\n",
              "        [0, 0, 0, ..., 0, 0, 0],\n",
              "        [0, 0, 0, ..., 0, 0, 0]]], dtype=uint8)"
            ]
          },
          "metadata": {},
          "execution_count": 78
        }
      ],
      "source": [
        "X_entreno"
      ]
    },
    {
      "cell_type": "raw",
      "metadata": {
        "id": "WO0D-Ve6hus1"
      },
      "source": [
        "X_entreno.shape"
      ]
    },
    {
      "cell_type": "markdown",
      "metadata": {
        "id": "lgRAETu8hus1"
      },
      "source": [
        "Como no podemos ver la forma de los conjuntos...les queda de tarea averiguar por qué no...podemos utilizar la instrucción **assert**"
      ]
    },
    {
      "cell_type": "code",
      "execution_count": 79,
      "metadata": {
        "id": "caPmC_AThus1"
      },
      "outputs": [],
      "source": [
        "assert X_entreno.shape == (60000, 28, 28)\n",
        "assert X_prueba.shape == (10000, 28, 28)\n",
        "assert y_entreno.shape == (60000,)\n",
        "assert y_prueba.shape == (10000,)"
      ]
    },
    {
      "cell_type": "markdown",
      "metadata": {
        "id": "7iyJAp-Mhus1"
      },
      "source": [
        "## Datos\n",
        "\n",
        "Esta sección es donde pre-procesaremos nuestros datos."
      ]
    },
    {
      "cell_type": "markdown",
      "metadata": {
        "id": "BsrTsLiehus1"
      },
      "source": [
        "Por default, TF2 tiene conjuntos de datos de entrenamiento y de prueba, pero no tiene un conjunto de validación, por lo que debemos dividirlo por nuestra cuenta\n",
        "\n",
        "Lo haremos del mismo tamaño que el conjunto de prueba"
      ]
    },
    {
      "cell_type": "code",
      "execution_count": 80,
      "metadata": {
        "id": "LJovjjwahus1"
      },
      "outputs": [],
      "source": [
        "num_obs_validacion = y_prueba.shape[0]"
      ]
    },
    {
      "cell_type": "markdown",
      "metadata": {
        "id": "QDwBgfcRhus1"
      },
      "source": [
        "Usaremos una variable dedicada para el número de observaciones de prueba"
      ]
    },
    {
      "cell_type": "code",
      "execution_count": 81,
      "metadata": {
        "id": "oCSWm_x_hus1"
      },
      "outputs": [],
      "source": [
        "num_obs_prueba = y_prueba.shape[0]"
      ]
    },
    {
      "cell_type": "markdown",
      "metadata": {
        "id": "z61qVPWZhus1"
      },
      "source": [
        "Generalmente preferimos \"normalizar\" nuestros datos en alguna forma para que el resultado sea numéricamente más estable.  En este caso simplemente preferimos tener entradas entre 0 y 1, por lo que definimos una función, que reciba la imagen MNIST.\n",
        "\n",
        "Como los posibles valores de las entradas son entre 0 y 255 (256 posibles tonos de gris), al dividirlos por 255 obtenemos el resultado deseado."
      ]
    },
    {
      "cell_type": "code",
      "execution_count": 82,
      "metadata": {
        "tags": [],
        "id": "SJadUgb3hus1"
      },
      "outputs": [],
      "source": [
        "X_entreno_normalizado = X_entreno / 255"
      ]
    },
    {
      "cell_type": "markdown",
      "metadata": {
        "id": "wZD-v6Yxhus1"
      },
      "source": [
        "Finalmente, normalizaremos y convertiremos los datos de pruebas en tandas.  Los normalizamos para que tengan la misma magnitud que los datos de entrenamiento y validación.\n",
        "\n",
        "No hay necesidad de \"barajearlo\" ya que no estaremos entrenando con los datos de prueba.  Habra una sola tanda, igual al tamaño de los datos de prueba."
      ]
    },
    {
      "cell_type": "code",
      "execution_count": 83,
      "metadata": {
        "id": "bj4N9lbjhus1"
      },
      "outputs": [],
      "source": [
        "X_prueba_normalizado = X_prueba / 255"
      ]
    },
    {
      "cell_type": "markdown",
      "metadata": {
        "id": "5ECKF_Slhus1"
      },
      "source": [
        "Una vez se han \"normalizado\" los datos, podemos proceder a extraer los datos de entrenamiento y de validación.\n",
        "\n",
        "Nuestros datos de validación serán 10000 para ser igual al conjunto de prueba.\n",
        "\n",
        "Finalmente, creamos una tanda con un tamaño de tanda igual al total de muestras de validación."
      ]
    },
    {
      "cell_type": "code",
      "execution_count": 84,
      "metadata": {
        "id": "d8cI3hnThus1"
      },
      "outputs": [],
      "source": [
        "X_validacion = X_entreno_normalizado[-num_obs_validacion: , : , : ]\n",
        "y_validacion = y_entreno[-num_obs_validacion:]"
      ]
    },
    {
      "cell_type": "markdown",
      "metadata": {
        "id": "vpeQg5yxhus1"
      },
      "source": [
        "Similarmente, los datos de entrenamiento son todos los demás por lo que nos salteamos tantas observaciones como las hay en el conjunto de validación."
      ]
    },
    {
      "cell_type": "code",
      "execution_count": 85,
      "metadata": {
        "id": "295UXwF9hus2"
      },
      "outputs": [],
      "source": [
        "X_entreno = X_entreno_normalizado[ : X_entreno_normalizado.shape[0] - num_obs_validacion, : , : ]\n",
        "y_entreno = y_entreno[ : y_entreno.shape[0] - num_obs_validacion]\n",
        "num_obs_entreno = y_entreno.shape[0]"
      ]
    },
    {
      "cell_type": "markdown",
      "metadata": {
        "id": "_-Uo-myZhus2"
      },
      "source": [
        "Convertir de Arreglos Numpy a Tensores"
      ]
    },
    {
      "cell_type": "code",
      "execution_count": 86,
      "metadata": {
        "id": "zCXudn_-hus2"
      },
      "outputs": [],
      "source": [
        "datos_entreno = tf.data.Dataset.from_tensor_slices((X_entreno, y_entreno))\n",
        "datos_validacion = tf.data.Dataset.from_tensor_slices((X_validacion, y_validacion))\n",
        "datos_prueba = tf.data.Dataset.from_tensor_slices((X_prueba, y_prueba))"
      ]
    },
    {
      "cell_type": "markdown",
      "metadata": {
        "id": "iQcTNEmihus2"
      },
      "source": [
        "Barajear y hacer tandas con el conjunto de datos de entrenamiento"
      ]
    },
    {
      "cell_type": "code",
      "execution_count": 87,
      "metadata": {
        "id": "bG20xCoIhus2"
      },
      "outputs": [],
      "source": [
        "TAMANIO_TANDA = 100\n",
        "datos_entreno = datos_entreno.shuffle(buffer_size = num_obs_entreno).batch(TAMANIO_TANDA)"
      ]
    },
    {
      "cell_type": "markdown",
      "metadata": {
        "id": "UwXdAUabhus2"
      },
      "source": [
        "Hacer tandas con los conjuntos de validación y prueba, no se necesita barajearlos"
      ]
    },
    {
      "cell_type": "code",
      "execution_count": 88,
      "metadata": {
        "id": "CyUZ7385hus2"
      },
      "outputs": [],
      "source": [
        "datos_validacion = datos_validacion.batch(TAMANIO_TANDA)\n",
        "datos_prueba = datos_prueba.batch(TAMANIO_TANDA)"
      ]
    },
    {
      "cell_type": "markdown",
      "metadata": {
        "id": "xTup5fk7hus2"
      },
      "source": [
        "## Modelo"
      ]
    },
    {
      "cell_type": "markdown",
      "metadata": {
        "id": "ACRx0UFVhus2"
      },
      "source": [
        "### Delineamos el modelo\n",
        "\n",
        "Cuando pensamos sobre un algoritmo de aprendizaje profundo, casi siempre imaginamos la realización del mismo.  Asi que esta vez, hagámoslo.  :)"
      ]
    },
    {
      "cell_type": "code",
      "execution_count": 89,
      "metadata": {
        "tags": [],
        "id": "A2ZOjQv-hus2"
      },
      "outputs": [],
      "source": [
        "tamanio_entrada = 784\n",
        "tamanio_salida = 10"
      ]
    },
    {
      "cell_type": "markdown",
      "metadata": {
        "id": "jyJ3a-9ihus2"
      },
      "source": [
        "Usaremos el mismo ancho para ambas capas escondidas.  (No es una necesidad!)"
      ]
    },
    {
      "cell_type": "code",
      "execution_count": 90,
      "metadata": {
        "id": "qUN20eoPhus2"
      },
      "outputs": [],
      "source": [
        "tamanio_capa_escondida = 50"
      ]
    },
    {
      "cell_type": "markdown",
      "metadata": {
        "id": "wLAErur2hus2"
      },
      "source": [
        "# Definimos cómo se verá el modelo\n",
        "\n",
        "La primera capa (la de entrada):  cada observación es de 28x28 píxeles, por lo tanto es un tensor de rango 2.\n",
        "\n",
        "Como aún no hemos aprendido sobre CNNs, no sabemos como alimentar este tipo de entrada a nuestra red, por lo tanto hay que \"aplanar\" las imágenes.  Hay un método conveniente **Flatten** que toma nuestro tensor de 28x28 y lo convierte en  un vector (None,) o (784,)...porque 28x28 = 784.  Esto nos permite crear una red de alimentación hacia adelante.\n",
        "\n",
        "    \n",
        "**tf.keras.layers.Dense** básicamente implementa:  *salida = activation(dot(entrada, peso) + sesgo)*.  Requiere varios argumentos, pero los más importantes para nosotros son el ancho de la capa escondida y la función de activación.\n",
        "\n",
        "La capa final no es diferente, solo nos aseguramos de activarla con **softmax**\n"
      ]
    },
    {
      "cell_type": "code",
      "execution_count": 91,
      "metadata": {
        "id": "j3zULufAhus2"
      },
      "outputs": [],
      "source": [
        "modelo = tf.keras.Sequential([\n",
        "\n",
        "    tf.keras.layers.Flatten(input_shape=(28, 28)), # capa entrada\n",
        "\n",
        "    tf.keras.layers.Dense(tamanio_capa_escondida, activation='relu'), # 1era capa escondida\n",
        "    tf.keras.layers.Dense(tamanio_capa_escondida, activation='relu'), # 2nda capa escondida\n",
        "\n",
        "    tf.keras.layers.Dense(tamanio_salida, activation='softmax') # capa salida\n",
        "])"
      ]
    },
    {
      "cell_type": "markdown",
      "metadata": {
        "id": "7DxIKNs8hus2"
      },
      "source": [
        "### Seleccionar el optimizador y la función de pérdida"
      ]
    },
    {
      "cell_type": "markdown",
      "metadata": {
        "tags": [],
        "id": "vUYzrSY-hus2"
      },
      "source": [
        "Definimos el optimizador que nos gustaría utilizar, la función de pérdida, y las métricas que nos interesa obtener en cada interacción"
      ]
    },
    {
      "cell_type": "code",
      "execution_count": 92,
      "metadata": {
        "id": "sB1GB8wFhus2"
      },
      "outputs": [],
      "source": [
        "modelo.compile(optimizer='adam', loss='sparse_categorical_crossentropy', metrics=['accuracy'])"
      ]
    },
    {
      "cell_type": "markdown",
      "metadata": {
        "id": "s2gJcq3Bhus9"
      },
      "source": [
        "### Entrenamiento\n",
        "\n",
        "Acá es donde entrenamos el modelo que hemos construído\n",
        "\n",
        "Determinamos el número máximo de épocas.\n",
        "\n",
        "Ajustamos el modelo , especificando:\n",
        "\n",
        "* los datos de entrenamiento\n",
        "* el número total de épocas\n",
        "* y los datos de validación que creamos en el formato (entradas, metas)"
      ]
    },
    {
      "cell_type": "code",
      "execution_count": 93,
      "metadata": {
        "colab": {
          "base_uri": "https://localhost:8080/"
        },
        "id": "YvLvk9eZhus9",
        "outputId": "18e1433c-eff0-4735-9780-e99be19e0115"
      },
      "outputs": [
        {
          "output_type": "stream",
          "name": "stdout",
          "text": [
            "Epoch 1/5\n",
            "500/500 - 3s - 7ms/step - accuracy: 0.8774 - loss: 0.4387 - val_accuracy: 0.9475 - val_loss: 0.1879\n",
            "Epoch 2/5\n",
            "500/500 - 1s - 3ms/step - accuracy: 0.9473 - loss: 0.1801 - val_accuracy: 0.9576 - val_loss: 0.1510\n",
            "Epoch 3/5\n",
            "500/500 - 1s - 3ms/step - accuracy: 0.9602 - loss: 0.1358 - val_accuracy: 0.9600 - val_loss: 0.1339\n",
            "Epoch 4/5\n",
            "500/500 - 2s - 4ms/step - accuracy: 0.9665 - loss: 0.1133 - val_accuracy: 0.9651 - val_loss: 0.1219\n",
            "Epoch 5/5\n",
            "500/500 - 1s - 3ms/step - accuracy: 0.9702 - loss: 0.0956 - val_accuracy: 0.9671 - val_loss: 0.1171\n"
          ]
        },
        {
          "output_type": "execute_result",
          "data": {
            "text/plain": [
              "<keras.src.callbacks.history.History at 0x788aec064d10>"
            ]
          },
          "metadata": {},
          "execution_count": 93
        }
      ],
      "source": [
        "NUMERO_EPOCAS = 5\n",
        "\n",
        "modelo.fit(datos_entreno,\n",
        "          epochs = NUMERO_EPOCAS,\n",
        "          validation_data = datos_validacion,\n",
        "          verbose = 2)"
      ]
    },
    {
      "cell_type": "markdown",
      "metadata": {
        "id": "slUmFo62hus9"
      },
      "source": [
        "## Probar el modelo\n",
        "\n",
        "Como se discutió en clase, luego del entrenamiento (con los datos de entrenamiento), y la validación (con los datos de validación), probamos el potencial de predicción final de nuestro modelo con el conjunto de datos de prueba que el algoritmo NUNCA ha visto antes.\n",
        "\n",
        "Es muy importante reconocer que estar \"jugando\" con los hiperparámetros sobre-ajusta el conjunto de datos de validación.\n",
        "\n",
        "La prueba es la instancia absolutamente final. **NUNCA** debe probarse el modelo antes de haber completamente ajustado el mismo.\n",
        "\n",
        "Si se ajusta el modelo después de hacer la prueba, se empezará a sobre-ajustar el conjunto de datos de prueba, que echaría \"por los suelos\" el propósito original del mismo."
      ]
    },
    {
      "cell_type": "code",
      "execution_count": 94,
      "metadata": {
        "colab": {
          "base_uri": "https://localhost:8080/"
        },
        "id": "LGizaIZWhus9",
        "outputId": "b8b16974-a2b4-4033-80bf-1d2a7ea63fbb"
      },
      "outputs": [
        {
          "output_type": "stream",
          "name": "stdout",
          "text": [
            "\u001b[1m100/100\u001b[0m \u001b[32m━━━━━━━━━━━━━━━━━━━━\u001b[0m\u001b[37m\u001b[0m \u001b[1m0s\u001b[0m 2ms/step - accuracy: 0.9614 - loss: 20.6999\n"
          ]
        }
      ],
      "source": [
        "perdida_prueba, precision_prueba = modelo.evaluate(datos_prueba)"
      ]
    },
    {
      "cell_type": "code",
      "execution_count": 95,
      "metadata": {
        "colab": {
          "base_uri": "https://localhost:8080/"
        },
        "id": "nGFcRVINhus-",
        "outputId": "75fdf28c-50ba-433e-e3af-6efe837e9ded"
      },
      "outputs": [
        {
          "output_type": "stream",
          "name": "stdout",
          "text": [
            "Pérdida de prueba: 18.33. Precisión de prueba: 96.60%\n"
          ]
        }
      ],
      "source": [
        "# Si se desea, se puede aplicar un formateo \"bonito\"\n",
        "print('Pérdida de prueba: {0:.2f}. Precisión de prueba: {1:.2f}%'.format(perdida_prueba, precision_prueba * 100.))"
      ]
    },
    {
      "cell_type": "markdown",
      "metadata": {
        "id": "WQ4q1rkShus-"
      },
      "source": [
        "Utilizando el modelo inicial y los hiperparámetros dados en este notebook, la precisión de prueba final debe ser aproximadamente 97%.\n",
        "\n",
        "Cada vez que se ejecuta el código, se obtiene una precisión diferente debido a la \"barajeada\" de las tandas, los pesos se inicializan en forma diferente, etc.\n",
        "\n",
        "Finalmente, intencionalmente se ha llegado a una solución subóptima, para que puedan tener la oportunidad de mejorarla como ejercicio de laboratorio."
      ]
    },
    {
      "cell_type": "markdown",
      "source": [
        "# 1. Modificación Ancho de la Red\n",
        "Para este inciso estaremos trabajando sobre el modelo Baseline proporcionado, teniendo dos capas \"baseline\" utilizando diferentes tamaños de capas escondidas."
      ],
      "metadata": {
        "id": "8aBx07Zpi7Pg"
      }
    },
    {
      "cell_type": "markdown",
      "source": [
        "## 200 Neuronas"
      ],
      "metadata": {
        "id": "SLrN_6GMkXGa"
      }
    },
    {
      "cell_type": "code",
      "source": [
        "modelo = tf.keras.Sequential([\n",
        "\n",
        "    tf.keras.layers.Flatten(input_shape=(28, 28)), # capa entrada\n",
        "\n",
        "    tf.keras.layers.Dense(200, activation='relu'), # 1era capa escondida\n",
        "    tf.keras.layers.Dense(200, activation='relu'), # 2nda capa escondida\n",
        "\n",
        "    tf.keras.layers.Dense(tamanio_salida, activation='softmax') # capa salida\n",
        "])\n",
        "\n",
        "modelo.compile(optimizer='adam', loss='sparse_categorical_crossentropy', metrics=['accuracy'])\n",
        "\n",
        "NUMERO_EPOCAS = 5\n",
        "\n",
        "modelo.fit(datos_entreno,\n",
        "          epochs = NUMERO_EPOCAS,\n",
        "          validation_data = datos_validacion,\n",
        "          verbose = 2)\n",
        "\n",
        "perdida_prueba, precision_prueba = modelo.evaluate(datos_prueba)\n",
        "\n",
        "print('Pérdida de prueba: {0:.2f}. Precisión de prueba: {1:.2f}%'.format(perdida_prueba, precision_prueba * 100.))"
      ],
      "metadata": {
        "id": "50CHIf10h9fk",
        "colab": {
          "base_uri": "https://localhost:8080/"
        },
        "outputId": "f5cf9935-0a07-4791-9663-8f1e5358b88a"
      },
      "execution_count": 96,
      "outputs": [
        {
          "output_type": "stream",
          "name": "stdout",
          "text": [
            "Epoch 1/5\n",
            "500/500 - 3s - 6ms/step - accuracy: 0.9179 - loss: 0.2862 - val_accuracy: 0.9625 - val_loss: 0.1349\n",
            "Epoch 2/5\n",
            "500/500 - 1s - 3ms/step - accuracy: 0.9672 - loss: 0.1100 - val_accuracy: 0.9712 - val_loss: 0.1001\n",
            "Epoch 3/5\n",
            "500/500 - 1s - 3ms/step - accuracy: 0.9784 - loss: 0.0717 - val_accuracy: 0.9688 - val_loss: 0.1047\n",
            "Epoch 4/5\n",
            "500/500 - 1s - 3ms/step - accuracy: 0.9836 - loss: 0.0537 - val_accuracy: 0.9761 - val_loss: 0.0810\n",
            "Epoch 5/5\n",
            "500/500 - 2s - 4ms/step - accuracy: 0.9867 - loss: 0.0403 - val_accuracy: 0.9761 - val_loss: 0.0808\n",
            "\u001b[1m100/100\u001b[0m \u001b[32m━━━━━━━━━━━━━━━━━━━━\u001b[0m\u001b[37m\u001b[0m \u001b[1m0s\u001b[0m 2ms/step - accuracy: 0.9726 - loss: 15.2571\n",
            "Pérdida de prueba: 12.85. Precisión de prueba: 97.77%\n"
          ]
        }
      ]
    },
    {
      "cell_type": "markdown",
      "source": [
        "## 50 Neuronas"
      ],
      "metadata": {
        "id": "oERNDCFJki6x"
      }
    },
    {
      "cell_type": "code",
      "source": [
        "modelo = tf.keras.Sequential([\n",
        "\n",
        "    tf.keras.layers.Flatten(input_shape=(28, 28)), # capa entrada\n",
        "\n",
        "    tf.keras.layers.Dense(50, activation='relu'), # 1era capa escondida\n",
        "    tf.keras.layers.Dense(50, activation='relu'), # 2nda capa escondida\n",
        "\n",
        "    tf.keras.layers.Dense(tamanio_salida, activation='softmax') # capa salida\n",
        "])\n",
        "\n",
        "modelo.compile(optimizer='adam', loss='sparse_categorical_crossentropy', metrics=['accuracy'])\n",
        "\n",
        "NUMERO_EPOCAS = 5\n",
        "\n",
        "modelo.fit(datos_entreno,\n",
        "          epochs = NUMERO_EPOCAS,\n",
        "          validation_data = datos_validacion,\n",
        "          verbose = 2)\n",
        "\n",
        "perdida_prueba, precision_prueba = modelo.evaluate(datos_prueba)\n",
        "\n",
        "print('Pérdida de prueba: {0:.2f}. Precisión de prueba: {1:.2f}%'.format(perdida_prueba, precision_prueba * 100.))"
      ],
      "metadata": {
        "colab": {
          "base_uri": "https://localhost:8080/"
        },
        "id": "ex92WaBBjEix",
        "outputId": "e2405317-1d12-431f-8431-7e55d58773fd"
      },
      "execution_count": 97,
      "outputs": [
        {
          "output_type": "stream",
          "name": "stdout",
          "text": [
            "Epoch 1/5\n",
            "500/500 - 3s - 6ms/step - accuracy: 0.8801 - loss: 0.4233 - val_accuracy: 0.9356 - val_loss: 0.2208\n",
            "Epoch 2/5\n",
            "500/500 - 1s - 3ms/step - accuracy: 0.9438 - loss: 0.1963 - val_accuracy: 0.9525 - val_loss: 0.1695\n",
            "Epoch 3/5\n",
            "500/500 - 3s - 5ms/step - accuracy: 0.9554 - loss: 0.1484 - val_accuracy: 0.9565 - val_loss: 0.1455\n",
            "Epoch 4/5\n",
            "500/500 - 1s - 3ms/step - accuracy: 0.9645 - loss: 0.1200 - val_accuracy: 0.9625 - val_loss: 0.1272\n",
            "Epoch 5/5\n",
            "500/500 - 1s - 3ms/step - accuracy: 0.9691 - loss: 0.1004 - val_accuracy: 0.9655 - val_loss: 0.1199\n",
            "\u001b[1m100/100\u001b[0m \u001b[32m━━━━━━━━━━━━━━━━━━━━\u001b[0m\u001b[37m\u001b[0m \u001b[1m1s\u001b[0m 3ms/step - accuracy: 0.9569 - loss: 21.2703\n",
            "Pérdida de prueba: 19.84. Precisión de prueba: 96.10%\n"
          ]
        }
      ]
    },
    {
      "cell_type": "markdown",
      "source": [
        "## 100 Neuronas"
      ],
      "metadata": {
        "id": "Q4PsU5YXklAQ"
      }
    },
    {
      "cell_type": "code",
      "source": [
        "modelo = tf.keras.Sequential([\n",
        "\n",
        "    tf.keras.layers.Flatten(input_shape=(28, 28)), # capa entrada\n",
        "\n",
        "    tf.keras.layers.Dense(100, activation='relu'), # 1era capa escondida\n",
        "    tf.keras.layers.Dense(100, activation='relu'), # 2nda capa escondida\n",
        "\n",
        "    tf.keras.layers.Dense(tamanio_salida, activation='softmax') # capa salida\n",
        "])\n",
        "\n",
        "modelo.compile(optimizer='adam', loss='sparse_categorical_crossentropy', metrics=['accuracy'])\n",
        "\n",
        "NUMERO_EPOCAS = 5\n",
        "\n",
        "modelo.fit(datos_entreno,\n",
        "          epochs = NUMERO_EPOCAS,\n",
        "          validation_data = datos_validacion,\n",
        "          verbose = 2)\n",
        "\n",
        "perdida_prueba, precision_prueba = modelo.evaluate(datos_prueba)\n",
        "\n",
        "print('Pérdida de prueba: {0:.2f}. Precisión de prueba: {1:.2f}%'.format(perdida_prueba, precision_prueba * 100.))"
      ],
      "metadata": {
        "colab": {
          "base_uri": "https://localhost:8080/"
        },
        "id": "a5XCd_DpjYhn",
        "outputId": "9e8a1b16-d813-4115-8ea6-a3f8276c0a42"
      },
      "execution_count": 98,
      "outputs": [
        {
          "output_type": "stream",
          "name": "stdout",
          "text": [
            "Epoch 1/5\n",
            "500/500 - 3s - 6ms/step - accuracy: 0.9002 - loss: 0.3501 - val_accuracy: 0.9544 - val_loss: 0.1582\n",
            "Epoch 2/5\n",
            "500/500 - 1s - 3ms/step - accuracy: 0.9571 - loss: 0.1438 - val_accuracy: 0.9668 - val_loss: 0.1171\n",
            "Epoch 3/5\n",
            "500/500 - 1s - 3ms/step - accuracy: 0.9700 - loss: 0.0992 - val_accuracy: 0.9680 - val_loss: 0.1122\n",
            "Epoch 4/5\n",
            "500/500 - 1s - 3ms/step - accuracy: 0.9770 - loss: 0.0753 - val_accuracy: 0.9734 - val_loss: 0.0885\n",
            "Epoch 5/5\n",
            "500/500 - 1s - 3ms/step - accuracy: 0.9816 - loss: 0.0600 - val_accuracy: 0.9732 - val_loss: 0.0910\n",
            "\u001b[1m100/100\u001b[0m \u001b[32m━━━━━━━━━━━━━━━━━━━━\u001b[0m\u001b[37m\u001b[0m \u001b[1m0s\u001b[0m 2ms/step - accuracy: 0.9696 - loss: 18.2785\n",
            "Pérdida de prueba: 16.22. Precisión de prueba: 97.24%\n"
          ]
        }
      ]
    },
    {
      "cell_type": "markdown",
      "source": [
        "## 300 Neuronas"
      ],
      "metadata": {
        "id": "K7wXXeG7kmke"
      }
    },
    {
      "cell_type": "code",
      "source": [
        "modelo = tf.keras.Sequential([\n",
        "\n",
        "    tf.keras.layers.Flatten(input_shape=(28, 28)), # capa entrada\n",
        "\n",
        "    tf.keras.layers.Dense(300, activation='relu'), # 1era capa escondida\n",
        "    tf.keras.layers.Dense(300, activation='relu'), # 2nda capa escondida\n",
        "\n",
        "    tf.keras.layers.Dense(tamanio_salida, activation='softmax') # capa salida\n",
        "])\n",
        "\n",
        "modelo.compile(optimizer='adam', loss='sparse_categorical_crossentropy', metrics=['accuracy'])\n",
        "\n",
        "NUMERO_EPOCAS = 5\n",
        "\n",
        "modelo.fit(datos_entreno,\n",
        "          epochs = NUMERO_EPOCAS,\n",
        "          validation_data = datos_validacion,\n",
        "          verbose = 2)\n",
        "\n",
        "perdida_prueba, precision_prueba = modelo.evaluate(datos_prueba)\n",
        "\n",
        "print('Pérdida de prueba: {0:.2f}. Precisión de prueba: {1:.2f}%'.format(perdida_prueba, precision_prueba * 100.))"
      ],
      "metadata": {
        "colab": {
          "base_uri": "https://localhost:8080/"
        },
        "id": "YFqBGulHjbeN",
        "outputId": "a2cd2e2a-3c16-4124-98e4-1a12d372395e"
      },
      "execution_count": 99,
      "outputs": [
        {
          "output_type": "stream",
          "name": "stdout",
          "text": [
            "Epoch 1/5\n",
            "500/500 - 3s - 7ms/step - accuracy: 0.9235 - loss: 0.2564 - val_accuracy: 0.9643 - val_loss: 0.1173\n",
            "Epoch 2/5\n",
            "500/500 - 2s - 3ms/step - accuracy: 0.9707 - loss: 0.0963 - val_accuracy: 0.9721 - val_loss: 0.0863\n",
            "Epoch 3/5\n",
            "500/500 - 2s - 5ms/step - accuracy: 0.9812 - loss: 0.0616 - val_accuracy: 0.9763 - val_loss: 0.0790\n",
            "Epoch 4/5\n",
            "500/500 - 1s - 3ms/step - accuracy: 0.9862 - loss: 0.0437 - val_accuracy: 0.9767 - val_loss: 0.0797\n",
            "Epoch 5/5\n",
            "500/500 - 1s - 3ms/step - accuracy: 0.9905 - loss: 0.0307 - val_accuracy: 0.9775 - val_loss: 0.0813\n",
            "\u001b[1m100/100\u001b[0m \u001b[32m━━━━━━━━━━━━━━━━━━━━\u001b[0m\u001b[37m\u001b[0m \u001b[1m0s\u001b[0m 2ms/step - accuracy: 0.9729 - loss: 18.3866\n",
            "Pérdida de prueba: 14.86. Precisión de prueba: 97.77%\n"
          ]
        }
      ]
    },
    {
      "cell_type": "markdown",
      "source": [
        "## 500 Neuronas"
      ],
      "metadata": {
        "id": "TBrKGFDDkoXW"
      }
    },
    {
      "cell_type": "code",
      "source": [
        "modelo = tf.keras.Sequential([\n",
        "\n",
        "    tf.keras.layers.Flatten(input_shape=(28, 28)), # capa entrada\n",
        "\n",
        "    tf.keras.layers.Dense(500, activation='relu'), # 1era capa escondida\n",
        "    tf.keras.layers.Dense(500, activation='relu'), # 2nda capa escondida\n",
        "\n",
        "    tf.keras.layers.Dense(tamanio_salida, activation='softmax') # capa salida\n",
        "])\n",
        "\n",
        "modelo.compile(optimizer='adam', loss='sparse_categorical_crossentropy', metrics=['accuracy'])\n",
        "\n",
        "NUMERO_EPOCAS = 5\n",
        "\n",
        "modelo.fit(datos_entreno,\n",
        "          epochs = NUMERO_EPOCAS,\n",
        "          validation_data = datos_validacion,\n",
        "          verbose = 2)\n",
        "\n",
        "perdida_prueba, precision_prueba = modelo.evaluate(datos_prueba)\n",
        "\n",
        "print('Pérdida de prueba: {0:.2f}. Precisión de prueba: {1:.2f}%'.format(perdida_prueba, precision_prueba * 100.))"
      ],
      "metadata": {
        "colab": {
          "base_uri": "https://localhost:8080/"
        },
        "id": "gdff_pqqjdeD",
        "outputId": "a62b12d7-fb2d-49b5-e0cd-e987309acbe0"
      },
      "execution_count": 100,
      "outputs": [
        {
          "output_type": "stream",
          "name": "stdout",
          "text": [
            "Epoch 1/5\n",
            "500/500 - 3s - 7ms/step - accuracy: 0.9315 - loss: 0.2292 - val_accuracy: 0.9684 - val_loss: 0.1054\n",
            "Epoch 2/5\n",
            "500/500 - 2s - 3ms/step - accuracy: 0.9731 - loss: 0.0868 - val_accuracy: 0.9721 - val_loss: 0.0950\n",
            "Epoch 3/5\n",
            "500/500 - 1s - 3ms/step - accuracy: 0.9827 - loss: 0.0529 - val_accuracy: 0.9732 - val_loss: 0.0912\n",
            "Epoch 4/5\n",
            "500/500 - 1s - 3ms/step - accuracy: 0.9889 - loss: 0.0362 - val_accuracy: 0.9751 - val_loss: 0.0920\n",
            "Epoch 5/5\n",
            "500/500 - 2s - 3ms/step - accuracy: 0.9900 - loss: 0.0301 - val_accuracy: 0.9790 - val_loss: 0.0758\n",
            "\u001b[1m100/100\u001b[0m \u001b[32m━━━━━━━━━━━━━━━━━━━━\u001b[0m\u001b[37m\u001b[0m \u001b[1m1s\u001b[0m 2ms/step - accuracy: 0.9738 - loss: 16.2990\n",
            "Pérdida de prueba: 13.89. Precisión de prueba: 97.69%\n"
          ]
        }
      ]
    },
    {
      "cell_type": "markdown",
      "source": [
        "## 2. Modificación de la Profundidad de Red"
      ],
      "metadata": {
        "id": "0BZ2UGWklbkA"
      }
    },
    {
      "cell_type": "code",
      "source": [
        "modelo = tf.keras.Sequential([\n",
        "\n",
        "    tf.keras.layers.Flatten(input_shape=(28, 28)), # capa entrada\n",
        "\n",
        "    tf.keras.layers.Dense(500, activation='relu'), # 1era capa escondida\n",
        "    tf.keras.layers.Dense(500, activation='relu'), # 2nda capa escondida\n",
        "    tf.keras.layers.Dense(500, activation='relu'), # 2nda capa escondida\n",
        "\n",
        "    tf.keras.layers.Dense(tamanio_salida, activation='softmax') # capa salida\n",
        "])\n",
        "\n",
        "modelo.compile(optimizer='adam', loss='sparse_categorical_crossentropy', metrics=['accuracy'])\n",
        "\n",
        "NUMERO_EPOCAS = 5\n",
        "\n",
        "modelo.fit(datos_entreno,\n",
        "          epochs = NUMERO_EPOCAS,\n",
        "          validation_data = datos_validacion,\n",
        "          verbose = 2)\n",
        "\n",
        "perdida_prueba, precision_prueba = modelo.evaluate(datos_prueba)\n",
        "\n",
        "print('Pérdida de prueba: {0:.2f}. Precisión de prueba: {1:.2f}%'.format(perdida_prueba, precision_prueba * 100.))"
      ],
      "metadata": {
        "colab": {
          "base_uri": "https://localhost:8080/"
        },
        "id": "QT5FDGNdjG7P",
        "outputId": "96a7b062-30cf-4ee3-d7d7-f9148e89cbe9"
      },
      "execution_count": 101,
      "outputs": [
        {
          "output_type": "stream",
          "name": "stdout",
          "text": [
            "Epoch 1/5\n",
            "500/500 - 4s - 7ms/step - accuracy: 0.9312 - loss: 0.2283 - val_accuracy: 0.9609 - val_loss: 0.1337\n",
            "Epoch 2/5\n",
            "500/500 - 4s - 8ms/step - accuracy: 0.9722 - loss: 0.0889 - val_accuracy: 0.9739 - val_loss: 0.0869\n",
            "Epoch 3/5\n",
            "500/500 - 3s - 5ms/step - accuracy: 0.9816 - loss: 0.0599 - val_accuracy: 0.9737 - val_loss: 0.0881\n",
            "Epoch 4/5\n",
            "500/500 - 2s - 3ms/step - accuracy: 0.9861 - loss: 0.0446 - val_accuracy: 0.9684 - val_loss: 0.1133\n",
            "Epoch 5/5\n",
            "500/500 - 2s - 3ms/step - accuracy: 0.9886 - loss: 0.0360 - val_accuracy: 0.9802 - val_loss: 0.0706\n",
            "\u001b[1m100/100\u001b[0m \u001b[32m━━━━━━━━━━━━━━━━━━━━\u001b[0m\u001b[37m\u001b[0m \u001b[1m1s\u001b[0m 3ms/step - accuracy: 0.9776 - loss: 16.4733\n",
            "Pérdida de prueba: 13.43. Precisión de prueba: 98.08%\n"
          ]
        }
      ]
    },
    {
      "cell_type": "markdown",
      "source": [
        "## 3. Redes Profundas"
      ],
      "metadata": {
        "id": "dHyGNuTelg_T"
      }
    },
    {
      "cell_type": "code",
      "source": [
        "modelo = tf.keras.Sequential([\n",
        "\n",
        "    tf.keras.layers.Flatten(input_shape=(28, 28)), # capa entrada\n",
        "\n",
        "    tf.keras.layers.Dense(500, activation='relu'), # 1era capa escondida\n",
        "    tf.keras.layers.Dense(500, activation='relu'), # 2nda capa escondida\n",
        "    tf.keras.layers.Dense(500, activation='relu'), # 2nda capa escondida\n",
        "    tf.keras.layers.Dense(500, activation='relu'), # 2nda capa escondida\n",
        "\n",
        "    tf.keras.layers.Dense(tamanio_salida, activation='softmax') # capa salida\n",
        "])\n",
        "\n",
        "modelo.compile(optimizer='adam', loss='sparse_categorical_crossentropy', metrics=['accuracy'])\n",
        "\n",
        "NUMERO_EPOCAS = 5\n",
        "\n",
        "modelo.fit(datos_entreno,\n",
        "          epochs = NUMERO_EPOCAS,\n",
        "          validation_data = datos_validacion,\n",
        "          verbose = 2)\n",
        "\n",
        "perdida_prueba, precision_prueba = modelo.evaluate(datos_prueba)\n",
        "\n",
        "print('Pérdida de prueba: {0:.2f}. Precisión de prueba: {1:.2f}%'.format(perdida_prueba, precision_prueba * 100.))"
      ],
      "metadata": {
        "colab": {
          "base_uri": "https://localhost:8080/"
        },
        "id": "KJ5QJHgEljes",
        "outputId": "1d91408a-3069-4c79-b1e3-0c9afc27a656"
      },
      "execution_count": 102,
      "outputs": [
        {
          "output_type": "stream",
          "name": "stdout",
          "text": [
            "Epoch 1/5\n",
            "500/500 - 5s - 9ms/step - accuracy: 0.9291 - loss: 0.2295 - val_accuracy: 0.9687 - val_loss: 0.1062\n",
            "Epoch 2/5\n",
            "500/500 - 2s - 4ms/step - accuracy: 0.9699 - loss: 0.0961 - val_accuracy: 0.9717 - val_loss: 0.0965\n",
            "Epoch 3/5\n",
            "500/500 - 2s - 3ms/step - accuracy: 0.9802 - loss: 0.0645 - val_accuracy: 0.9756 - val_loss: 0.0837\n",
            "Epoch 4/5\n",
            "500/500 - 2s - 3ms/step - accuracy: 0.9839 - loss: 0.0515 - val_accuracy: 0.9764 - val_loss: 0.0889\n",
            "Epoch 5/5\n",
            "500/500 - 2s - 3ms/step - accuracy: 0.9872 - loss: 0.0419 - val_accuracy: 0.9727 - val_loss: 0.0970\n",
            "\u001b[1m100/100\u001b[0m \u001b[32m━━━━━━━━━━━━━━━━━━━━\u001b[0m\u001b[37m\u001b[0m \u001b[1m0s\u001b[0m 2ms/step - accuracy: 0.9680 - loss: 21.4640\n",
            "Pérdida de prueba: 17.74. Precisión de prueba: 97.19%\n"
          ]
        }
      ]
    },
    {
      "cell_type": "code",
      "source": [
        "modelo = tf.keras.Sequential([\n",
        "\n",
        "    tf.keras.layers.Flatten(input_shape=(28, 28)), # capa entrada\n",
        "\n",
        "    tf.keras.layers.Dense(500, activation='relu'), # 1era capa escondida\n",
        "    tf.keras.layers.Dense(500, activation='relu'), # 2nda capa escondida\n",
        "    tf.keras.layers.Dense(500, activation='relu'), # 2nda capa escondida\n",
        "    tf.keras.layers.Dense(500, activation='relu'), # 2nda capa escondida\n",
        "    tf.keras.layers.Dense(500, activation='relu'), # 2nda capa escondida\n",
        "\n",
        "    tf.keras.layers.Dense(tamanio_salida, activation='softmax') # capa salida\n",
        "])\n",
        "\n",
        "modelo.compile(optimizer='adam', loss='sparse_categorical_crossentropy', metrics=['accuracy'])\n",
        "\n",
        "NUMERO_EPOCAS = 5\n",
        "\n",
        "modelo.fit(datos_entreno,\n",
        "          epochs = NUMERO_EPOCAS,\n",
        "          validation_data = datos_validacion,\n",
        "          verbose = 2)\n",
        "\n",
        "perdida_prueba, precision_prueba = modelo.evaluate(datos_prueba)\n",
        "\n",
        "print('Pérdida de prueba: {0:.2f}. Precisión de prueba: {1:.2f}%'.format(perdida_prueba, precision_prueba * 100.))"
      ],
      "metadata": {
        "colab": {
          "base_uri": "https://localhost:8080/"
        },
        "id": "Uck05aitlo4y",
        "outputId": "585fa34b-87cb-4949-e3d9-e5f5089062ad"
      },
      "execution_count": 103,
      "outputs": [
        {
          "output_type": "stream",
          "name": "stdout",
          "text": [
            "Epoch 1/5\n",
            "500/500 - 5s - 11ms/step - accuracy: 0.9252 - loss: 0.2442 - val_accuracy: 0.9672 - val_loss: 0.1138\n",
            "Epoch 2/5\n",
            "500/500 - 2s - 4ms/step - accuracy: 0.9682 - loss: 0.1058 - val_accuracy: 0.9688 - val_loss: 0.1007\n",
            "Epoch 3/5\n",
            "500/500 - 2s - 4ms/step - accuracy: 0.9781 - loss: 0.0745 - val_accuracy: 0.9760 - val_loss: 0.0863\n",
            "Epoch 4/5\n",
            "500/500 - 2s - 4ms/step - accuracy: 0.9832 - loss: 0.0567 - val_accuracy: 0.9755 - val_loss: 0.1004\n",
            "Epoch 5/5\n",
            "500/500 - 2s - 4ms/step - accuracy: 0.9862 - loss: 0.0486 - val_accuracy: 0.9734 - val_loss: 0.1007\n",
            "\u001b[1m100/100\u001b[0m \u001b[32m━━━━━━━━━━━━━━━━━━━━\u001b[0m\u001b[37m\u001b[0m \u001b[1m1s\u001b[0m 3ms/step - accuracy: 0.9668 - loss: 19.3245\n",
            "Pérdida de prueba: 16.50. Precisión de prueba: 97.36%\n"
          ]
        }
      ]
    },
    {
      "cell_type": "markdown",
      "source": [
        "## 4. Funciones de Activación I"
      ],
      "metadata": {
        "id": "q394l_-QpRIZ"
      }
    },
    {
      "cell_type": "code",
      "source": [
        "modelo = tf.keras.Sequential([\n",
        "\n",
        "    tf.keras.layers.Flatten(input_shape=(28, 28)), # capa entrada\n",
        "\n",
        "    tf.keras.layers.Dense(tamanio_capa_escondida, activation='sigmoid'), # 1era capa escondida\n",
        "    tf.keras.layers.Dense(tamanio_capa_escondida, activation='sigmoid'), # 2nda capa escondida\n",
        "\n",
        "    tf.keras.layers.Dense(tamanio_salida, activation='softmax') # capa salida\n",
        "])\n",
        "\n",
        "modelo.compile(optimizer='adam', loss='sparse_categorical_crossentropy', metrics=['accuracy'])\n",
        "\n",
        "NUMERO_EPOCAS = 5\n",
        "\n",
        "modelo.fit(datos_entreno,\n",
        "          epochs = NUMERO_EPOCAS,\n",
        "          validation_data = datos_validacion,\n",
        "          verbose = 2)\n",
        "\n",
        "perdida_prueba, precision_prueba = modelo.evaluate(datos_prueba)\n",
        "\n",
        "print('Pérdida de prueba: {0:.2f}. Precisión de prueba: {1:.2f}%'.format(perdida_prueba, precision_prueba * 100.))"
      ],
      "metadata": {
        "colab": {
          "base_uri": "https://localhost:8080/"
        },
        "id": "NVkBPDWLpYTV",
        "outputId": "04b0ff41-e090-4a0e-b348-1ad4723f64df"
      },
      "execution_count": 104,
      "outputs": [
        {
          "output_type": "stream",
          "name": "stdout",
          "text": [
            "Epoch 1/5\n",
            "500/500 - 4s - 7ms/step - accuracy: 0.7790 - loss: 1.0551 - val_accuracy: 0.9036 - val_loss: 0.4186\n",
            "Epoch 2/5\n",
            "500/500 - 2s - 4ms/step - accuracy: 0.9110 - loss: 0.3453 - val_accuracy: 0.9302 - val_loss: 0.2604\n",
            "Epoch 3/5\n",
            "500/500 - 1s - 3ms/step - accuracy: 0.9295 - loss: 0.2509 - val_accuracy: 0.9416 - val_loss: 0.2112\n",
            "Epoch 4/5\n",
            "500/500 - 1s - 3ms/step - accuracy: 0.9404 - loss: 0.2075 - val_accuracy: 0.9472 - val_loss: 0.1860\n",
            "Epoch 5/5\n",
            "500/500 - 1s - 3ms/step - accuracy: 0.9474 - loss: 0.1793 - val_accuracy: 0.9510 - val_loss: 0.1693\n",
            "\u001b[1m100/100\u001b[0m \u001b[32m━━━━━━━━━━━━━━━━━━━━\u001b[0m\u001b[37m\u001b[0m \u001b[1m0s\u001b[0m 2ms/step - accuracy: 0.9348 - loss: 0.2195\n",
            "Pérdida de prueba: 0.20. Precisión de prueba: 94.12%\n"
          ]
        }
      ]
    },
    {
      "cell_type": "markdown",
      "source": [
        "## 5. Funciones de Activación II"
      ],
      "metadata": {
        "id": "Op09UDPGpgzn"
      }
    },
    {
      "cell_type": "code",
      "source": [
        "modelo = tf.keras.Sequential([\n",
        "\n",
        "    tf.keras.layers.Flatten(input_shape=(28, 28)), # capa entrada\n",
        "\n",
        "    tf.keras.layers.Dense(tamanio_capa_escondida, activation='relu'), # 1era capa escondida\n",
        "    tf.keras.layers.Dense(tamanio_capa_escondida, activation='tanh'), # 2nda capa escondida\n",
        "\n",
        "    tf.keras.layers.Dense(tamanio_salida, activation='softmax') # capa salida\n",
        "])\n",
        "\n",
        "modelo.compile(optimizer='adam', loss='sparse_categorical_crossentropy', metrics=['accuracy'])\n",
        "\n",
        "NUMERO_EPOCAS = 5\n",
        "\n",
        "modelo.fit(datos_entreno,\n",
        "          epochs = NUMERO_EPOCAS,\n",
        "          validation_data = datos_validacion,\n",
        "          verbose = 2)\n",
        "\n",
        "perdida_prueba, precision_prueba = modelo.evaluate(datos_prueba)\n",
        "\n",
        "print('Pérdida de prueba: {0:.2f}. Precisión de prueba: {1:.2f}%'.format(perdida_prueba, precision_prueba * 100.))"
      ],
      "metadata": {
        "colab": {
          "base_uri": "https://localhost:8080/"
        },
        "id": "eC-Xq5oapjKq",
        "outputId": "edcd028f-76c2-4f8b-92fc-628eea34039b"
      },
      "execution_count": 105,
      "outputs": [
        {
          "output_type": "stream",
          "name": "stdout",
          "text": [
            "Epoch 1/5\n",
            "500/500 - 4s - 8ms/step - accuracy: 0.8832 - loss: 0.4246 - val_accuracy: 0.9424 - val_loss: 0.2057\n",
            "Epoch 2/5\n",
            "500/500 - 1s - 3ms/step - accuracy: 0.9450 - loss: 0.1881 - val_accuracy: 0.9566 - val_loss: 0.1574\n",
            "Epoch 3/5\n",
            "500/500 - 3s - 5ms/step - accuracy: 0.9583 - loss: 0.1408 - val_accuracy: 0.9636 - val_loss: 0.1291\n",
            "Epoch 4/5\n",
            "500/500 - 1s - 3ms/step - accuracy: 0.9660 - loss: 0.1113 - val_accuracy: 0.9636 - val_loss: 0.1196\n",
            "Epoch 5/5\n",
            "500/500 - 2s - 5ms/step - accuracy: 0.9721 - loss: 0.0921 - val_accuracy: 0.9680 - val_loss: 0.1058\n",
            "\u001b[1m100/100\u001b[0m \u001b[32m━━━━━━━━━━━━━━━━━━━━\u001b[0m\u001b[37m\u001b[0m \u001b[1m1s\u001b[0m 3ms/step - accuracy: 0.9556 - loss: 0.1601\n",
            "Pérdida de prueba: 0.14. Precisión de prueba: 96.01%\n"
          ]
        }
      ]
    },
    {
      "cell_type": "markdown",
      "source": [
        "## 6. Tamaño de Batch Grande"
      ],
      "metadata": {
        "id": "ceUtb3w4pnhE"
      }
    },
    {
      "cell_type": "code",
      "source": [
        "TAMANIO_TANDA = 10000\n",
        "\n",
        "datos_entreno = datos_entreno.unbatch().shuffle(buffer_size=num_obs_entreno).batch(TAMANIO_TANDA)\n",
        "datos_validacion = datos_validacion.unbatch().batch(TAMANIO_TANDA)\n",
        "datos_prueba = datos_prueba.unbatch().batch(TAMANIO_TANDA)\n"
      ],
      "metadata": {
        "id": "TO-o9czWbpta"
      },
      "execution_count": 106,
      "outputs": []
    },
    {
      "cell_type": "code",
      "source": [
        "modelo = tf.keras.Sequential([\n",
        "\n",
        "    tf.keras.layers.Flatten(input_shape=(28, 28)), # capa entrada\n",
        "\n",
        "    tf.keras.layers.Dense(tamanio_capa_escondida, activation='relu'), # 1era capa escondida\n",
        "    tf.keras.layers.Dense(tamanio_capa_escondida, activation='relu'), # 2nda capa escondida\n",
        "\n",
        "    tf.keras.layers.Dense(tamanio_salida, activation='softmax') # capa salida\n",
        "])\n",
        "\n",
        "modelo.compile(optimizer='adam', loss='sparse_categorical_crossentropy', metrics=['accuracy'])\n",
        "\n",
        "NUMERO_EPOCAS = 5\n",
        "\n",
        "modelo.fit(datos_entreno,\n",
        "          epochs = NUMERO_EPOCAS,\n",
        "          validation_data = datos_validacion,\n",
        "          verbose = 2)\n",
        "\n",
        "perdida_prueba, precision_prueba = modelo.evaluate(datos_prueba)\n",
        "\n",
        "print('Pérdida de prueba: {0:.2f}. Precisión de prueba: {1:.2f}%'.format(perdida_prueba, precision_prueba * 100.))"
      ],
      "metadata": {
        "colab": {
          "base_uri": "https://localhost:8080/"
        },
        "id": "3LXtBK1Lbs6u",
        "outputId": "89c1bd55-d035-4478-e236-a53f47f6babd"
      },
      "execution_count": 107,
      "outputs": [
        {
          "output_type": "stream",
          "name": "stdout",
          "text": [
            "Epoch 1/5\n",
            "5/5 - 3s - 636ms/step - accuracy: 0.2621 - loss: 2.1966 - val_accuracy: 0.4190 - val_loss: 2.0405\n",
            "Epoch 2/5\n",
            "5/5 - 2s - 306ms/step - accuracy: 0.4726 - loss: 1.9281 - val_accuracy: 0.5234 - val_loss: 1.7512\n",
            "Epoch 3/5\n",
            "5/5 - 1s - 251ms/step - accuracy: 0.5565 - loss: 1.6364 - val_accuracy: 0.6092 - val_loss: 1.4545\n",
            "Epoch 4/5\n",
            "5/5 - 1s - 163ms/step - accuracy: 0.6406 - loss: 1.3539 - val_accuracy: 0.7042 - val_loss: 1.1757\n",
            "Epoch 5/5\n",
            "5/5 - 1s - 251ms/step - accuracy: 0.7170 - loss: 1.0987 - val_accuracy: 0.7788 - val_loss: 0.9310\n",
            "\u001b[1m1/1\u001b[0m \u001b[32m━━━━━━━━━━━━━━━━━━━━\u001b[0m\u001b[37m\u001b[0m \u001b[1m0s\u001b[0m 403ms/step - accuracy: 0.7648 - loss: 40.3152\n",
            "Pérdida de prueba: 40.32. Precisión de prueba: 76.48%\n"
          ]
        }
      ]
    },
    {
      "cell_type": "markdown",
      "source": [],
      "metadata": {
        "id": "4XE9h05Tbikt"
      }
    },
    {
      "cell_type": "markdown",
      "source": [
        "## 7. Descenso de Gradiente Estocástico"
      ],
      "metadata": {
        "id": "rPV5J7Eqpvt1"
      }
    },
    {
      "cell_type": "code",
      "source": [
        "TAMANIO_TANDA = 1\n",
        "\n",
        "datos_entreno = datos_entreno.unbatch().shuffle(buffer_size=num_obs_entreno).batch(TAMANIO_TANDA)\n",
        "datos_validacion = datos_validacion.unbatch().batch(TAMANIO_TANDA)\n",
        "datos_prueba = datos_prueba.unbatch().batch(TAMANIO_TANDA)"
      ],
      "metadata": {
        "id": "KRWVPV-Eby68"
      },
      "execution_count": 108,
      "outputs": []
    },
    {
      "cell_type": "code",
      "source": [
        "modelo = tf.keras.Sequential([\n",
        "\n",
        "    tf.keras.layers.Flatten(input_shape=(28, 28)), # capa entrada\n",
        "\n",
        "    tf.keras.layers.Dense(tamanio_capa_escondida, activation='relu'), # 1era capa escondida\n",
        "    tf.keras.layers.Dense(tamanio_capa_escondida, activation='relu'), # 2nda capa escondida\n",
        "\n",
        "    tf.keras.layers.Dense(tamanio_salida, activation='softmax') # capa salida\n",
        "])\n",
        "\n",
        "modelo.compile(optimizer='adam', loss='sparse_categorical_crossentropy', metrics=['accuracy'])\n",
        "\n",
        "NUMERO_EPOCAS = 5\n",
        "\n",
        "modelo.fit(datos_entreno,\n",
        "          epochs = NUMERO_EPOCAS,\n",
        "          validation_data = datos_validacion,\n",
        "          verbose = 2)\n",
        "\n",
        "print('Pérdida de prueba: {0:.2f}. Precisión de prueba: {1:.2f}%'.format(perdida_prueba, precision_prueba * 100.))"
      ],
      "metadata": {
        "colab": {
          "base_uri": "https://localhost:8080/"
        },
        "id": "XM3beWs4b1FD",
        "outputId": "3ae33e19-230a-4e37-abd8-ff484f86035b"
      },
      "execution_count": 109,
      "outputs": [
        {
          "output_type": "stream",
          "name": "stdout",
          "text": [
            "Epoch 1/5\n",
            "50000/50000 - 118s - 2ms/step - accuracy: 0.9230 - loss: 0.2595 - val_accuracy: 0.9529 - val_loss: 0.1698\n",
            "Epoch 2/5\n",
            "50000/50000 - 141s - 3ms/step - accuracy: 0.9558 - loss: 0.1582 - val_accuracy: 0.9623 - val_loss: 0.1336\n",
            "Epoch 3/5\n",
            "50000/50000 - 142s - 3ms/step - accuracy: 0.9623 - loss: 0.1389 - val_accuracy: 0.9418 - val_loss: 0.2180\n",
            "Epoch 4/5\n",
            "50000/50000 - 115s - 2ms/step - accuracy: 0.9657 - loss: 0.1306 - val_accuracy: 0.9656 - val_loss: 0.1424\n",
            "Epoch 5/5\n",
            "50000/50000 - 144s - 3ms/step - accuracy: 0.9685 - loss: 0.1294 - val_accuracy: 0.9590 - val_loss: 0.1660\n",
            "Pérdida de prueba: 40.32. Precisión de prueba: 76.48%\n"
          ]
        }
      ]
    },
    {
      "cell_type": "markdown",
      "source": [
        "## 8. Tasa de Aprendizaje Baja"
      ],
      "metadata": {
        "id": "Goj4PfhMpzQe"
      }
    },
    {
      "cell_type": "code",
      "source": [
        "TAMANIO_TANDA = 100\n",
        "\n",
        "datos_entreno = datos_entreno.unbatch().shuffle(buffer_size=num_obs_entreno).batch(TAMANIO_TANDA)\n",
        "datos_validacion = datos_validacion.unbatch().batch(TAMANIO_TANDA)\n",
        "datos_prueba = datos_prueba.unbatch().batch(TAMANIO_TANDA)\n",
        "\n",
        "modelo = tf.keras.Sequential([\n",
        "\n",
        "    tf.keras.layers.Flatten(input_shape=(28, 28)), # capa entrada\n",
        "\n",
        "    tf.keras.layers.Dense(tamanio_capa_escondida, activation='relu'), # 1era capa escondida\n",
        "    tf.keras.layers.Dense(tamanio_capa_escondida, activation='relu'), # 2nda capa escondida\n",
        "\n",
        "    tf.keras.layers.Dense(tamanio_salida, activation='softmax') # capa salida\n",
        "])\n",
        "\n",
        "optimizador = tf.keras.optimizers.Adam(learning_rate=0.0001)\n",
        "\n",
        "modelo.compile(optimizer=optimizador, loss='sparse_categorical_crossentropy', metrics=['accuracy'])\n",
        "\n",
        "NUMERO_EPOCAS = 5\n",
        "\n",
        "modelo.fit(datos_entreno,\n",
        "          epochs = NUMERO_EPOCAS,\n",
        "          validation_data = datos_validacion,\n",
        "          verbose = 2)\n",
        "\n",
        "perdida_prueba, precision_prueba = modelo.evaluate(datos_prueba)\n",
        "\n",
        "print('Pérdida de prueba: {0:.2f}. Precisión de prueba: {1:.2f}%'.format(perdida_prueba, precision_prueba * 100.))"
      ],
      "metadata": {
        "colab": {
          "base_uri": "https://localhost:8080/"
        },
        "id": "kIcztPVDb5IC",
        "outputId": "84a9a9fa-27ca-4891-e512-d201de7d2f91"
      },
      "execution_count": 110,
      "outputs": [
        {
          "output_type": "stream",
          "name": "stdout",
          "text": [
            "Epoch 1/5\n",
            "500/500 - 4s - 9ms/step - accuracy: 0.6607 - loss: 1.2952 - val_accuracy: 0.8722 - val_loss: 0.5756\n",
            "Epoch 2/5\n",
            "500/500 - 4s - 9ms/step - accuracy: 0.8782 - loss: 0.4806 - val_accuracy: 0.9066 - val_loss: 0.3636\n",
            "Epoch 3/5\n",
            "500/500 - 10s - 20ms/step - accuracy: 0.9015 - loss: 0.3615 - val_accuracy: 0.9174 - val_loss: 0.3044\n",
            "Epoch 4/5\n",
            "500/500 - 10s - 20ms/step - accuracy: 0.9128 - loss: 0.3146 - val_accuracy: 0.9226 - val_loss: 0.2758\n",
            "Epoch 5/5\n",
            "500/500 - 3s - 5ms/step - accuracy: 0.9196 - loss: 0.2863 - val_accuracy: 0.9289 - val_loss: 0.2555\n",
            "\u001b[1m100/100\u001b[0m \u001b[32m━━━━━━━━━━━━━━━━━━━━\u001b[0m\u001b[37m\u001b[0m \u001b[1m1s\u001b[0m 2ms/step - accuracy: 0.9118 - loss: 37.6938\n",
            "Pérdida de prueba: 33.43. Precisión de prueba: 92.57%\n"
          ]
        }
      ]
    },
    {
      "cell_type": "markdown",
      "source": [
        "## 9. Tasa de Aprendizaje Alta"
      ],
      "metadata": {
        "id": "n2tzMBF1p2W0"
      }
    },
    {
      "cell_type": "code",
      "source": [
        "modelo = tf.keras.Sequential([\n",
        "\n",
        "    tf.keras.layers.Flatten(input_shape=(28, 28)), # capa entrada\n",
        "\n",
        "    tf.keras.layers.Dense(tamanio_capa_escondida, activation='relu'), # 1era capa escondida\n",
        "    tf.keras.layers.Dense(tamanio_capa_escondida, activation='relu'), # 2nda capa escondida\n",
        "\n",
        "    tf.keras.layers.Dense(tamanio_salida, activation='softmax') # capa salida\n",
        "])\n",
        "\n",
        "optimizador = tf.keras.optimizers.Adam(learning_rate=0.02)\n",
        "\n",
        "modelo.compile(optimizer=optimizador, loss='sparse_categorical_crossentropy', metrics=['accuracy'])\n",
        "\n",
        "NUMERO_EPOCAS = 5\n",
        "\n",
        "modelo.fit(datos_entreno,\n",
        "          epochs = NUMERO_EPOCAS,\n",
        "          validation_data = datos_validacion,\n",
        "          verbose = 2)\n",
        "\n",
        "perdida_prueba, precision_prueba = modelo.evaluate(datos_prueba)\n",
        "\n",
        "print('Pérdida de prueba: {0:.2f}. Precisión de prueba: {1:.2f}%'.format(perdida_prueba, precision_prueba * 100.))"
      ],
      "metadata": {
        "colab": {
          "base_uri": "https://localhost:8080/"
        },
        "id": "6vTPpjeCcb7-",
        "outputId": "80098b22-56ed-4b74-a904-d48c94074067"
      },
      "execution_count": 111,
      "outputs": [
        {
          "output_type": "stream",
          "name": "stdout",
          "text": [
            "Epoch 1/5\n",
            "500/500 - 5s - 10ms/step - accuracy: 0.9044 - loss: 0.3141 - val_accuracy: 0.9514 - val_loss: 0.1783\n",
            "Epoch 2/5\n",
            "500/500 - 3s - 5ms/step - accuracy: 0.9407 - loss: 0.2071 - val_accuracy: 0.9402 - val_loss: 0.2151\n",
            "Epoch 3/5\n",
            "500/500 - 5s - 10ms/step - accuracy: 0.9487 - loss: 0.1849 - val_accuracy: 0.9490 - val_loss: 0.1800\n",
            "Epoch 4/5\n",
            "500/500 - 3s - 6ms/step - accuracy: 0.9543 - loss: 0.1655 - val_accuracy: 0.9575 - val_loss: 0.1707\n",
            "Epoch 5/5\n",
            "500/500 - 5s - 9ms/step - accuracy: 0.9568 - loss: 0.1612 - val_accuracy: 0.9453 - val_loss: 0.2446\n",
            "\u001b[1m100/100\u001b[0m \u001b[32m━━━━━━━━━━━━━━━━━━━━\u001b[0m\u001b[37m\u001b[0m \u001b[1m1s\u001b[0m 2ms/step - accuracy: 0.9367 - loss: 51.0832\n",
            "Pérdida de prueba: 47.56. Precisión de prueba: 94.24%\n"
          ]
        }
      ]
    },
    {
      "cell_type": "markdown",
      "source": [
        "## 10. Optimización Avanzada"
      ],
      "metadata": {
        "id": "Df846cUKp5XZ"
      }
    },
    {
      "cell_type": "markdown",
      "source": [
        "## 11. Visualización"
      ],
      "metadata": {
        "id": "q-NFEiTWp8gD"
      }
    },
    {
      "cell_type": "markdown",
      "source": [
        "## 12. Modelo Óptimo"
      ],
      "metadata": {
        "id": "CVSFNwQEp_K9"
      }
    }
  ],
  "metadata": {
    "kernelspec": {
      "display_name": "Python 3",
      "name": "python3"
    },
    "language_info": {
      "codemirror_mode": {
        "name": "ipython",
        "version": 3
      },
      "file_extension": ".py",
      "mimetype": "text/x-python",
      "name": "python",
      "nbconvert_exporter": "python",
      "pygments_lexer": "ipython3",
      "version": "3.11.0"
    },
    "colab": {
      "provenance": [],
      "gpuType": "T4"
    },
    "accelerator": "GPU"
  },
  "nbformat": 4,
  "nbformat_minor": 0
}